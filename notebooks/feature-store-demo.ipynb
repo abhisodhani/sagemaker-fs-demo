{
 "cells": [
  {
   "cell_type": "markdown",
   "metadata": {},
   "source": [
    "# AWS Glue Studio Notebook\n",
    "##### You are now running a AWS Glue Studio notebook; To start using your notebook you need to start an AWS Glue Interactive Session.\n"
   ]
  },
  {
   "cell_type": "markdown",
   "metadata": {},
   "source": [
    "#### Optional: Run this cell to see available notebook commands (\"magics\").\n"
   ]
  },
  {
   "cell_type": "code",
   "execution_count": null,
   "metadata": {
    "vscode": {
     "languageId": "python_glue_session"
    }
   },
   "outputs": [],
   "source": [
    "%help"
   ]
  },
  {
   "cell_type": "markdown",
   "metadata": {},
   "source": [
    "####  Run this cell to set up and start your interactive session.\n"
   ]
  },
  {
   "cell_type": "code",
   "execution_count": null,
   "metadata": {
    "vscode": {
     "languageId": "python_glue_session"
    }
   },
   "outputs": [],
   "source": [
    "%idle_timeout 2880\n",
    "%glue_version 3.0\n",
    "%worker_type G.1X\n",
    "%number_of_workers 5\n",
    "\n",
    "import sys\n",
    "from awsglue.transforms import *\n",
    "from awsglue.utils import getResolvedOptions\n",
    "from pyspark.context import SparkContext\n",
    "from awsglue.context import GlueContext\n",
    "from awsglue.job import Job\n",
    "  \n",
    "sc = SparkContext.getOrCreate()\n",
    "glueContext = GlueContext(sc)\n",
    "spark = glueContext.spark_session\n",
    "job = Job(glueContext)"
   ]
  },
  {
   "cell_type": "markdown",
   "metadata": {},
   "source": [
    "#### Example: Create a DynamicFrame from a table in the AWS Glue Data Catalog and display its schema\n"
   ]
  },
  {
   "cell_type": "code",
   "execution_count": null,
   "metadata": {
    "vscode": {
     "languageId": "python_glue_session"
    }
   },
   "outputs": [],
   "source": [
    "dyf = glueContext.create_dynamic_frame.from_catalog(database='database_name', table_name='table_name')\n",
    "dyf.printSchema()"
   ]
  },
  {
   "cell_type": "markdown",
   "metadata": {},
   "source": [
    "#### Example: Convert the DynamicFrame to a Spark DataFrame and display a sample of the data\n"
   ]
  },
  {
   "cell_type": "code",
   "execution_count": null,
   "metadata": {
    "vscode": {
     "languageId": "python_glue_session"
    }
   },
   "outputs": [],
   "source": [
    "df = dyf.toDF()\n",
    "df.show()"
   ]
  },
  {
   "cell_type": "markdown",
   "metadata": {},
   "source": [
    "#### Example: Write the data in the DynamicFrame to a location in Amazon S3 and a table for it in the AWS Glue Data Catalog\n"
   ]
  },
  {
   "cell_type": "code",
   "execution_count": null,
   "metadata": {
    "vscode": {
     "languageId": "python_glue_session"
    }
   },
   "outputs": [],
   "source": [
    "s3output = glueContext.getSink(\n",
    "  path=\"s3://bucket_name/folder_name\",\n",
    "  connection_type=\"s3\",\n",
    "  updateBehavior=\"UPDATE_IN_DATABASE\",\n",
    "  partitionKeys=[],\n",
    "  compression=\"snappy\",\n",
    "  enableUpdateCatalog=True,\n",
    "  transformation_ctx=\"s3output\",\n",
    ")\n",
    "s3output.setCatalogInfo(\n",
    "  catalogDatabase=\"demo\", catalogTableName=\"populations\"\n",
    ")\n",
    "s3output.setFormat(\"glueparquet\")\n",
    "s3output.writeFrame(DyF)"
   ]
  },
  {
   "cell_type": "code",
   "execution_count": 2,
   "metadata": {
    "vscode": {
     "languageId": "python_glue_session"
    }
   },
   "outputs": [
    {
     "name": "stdout",
     "output_type": "stream",
     "text": [
      "Welcome to the Glue Interactive Sessions Kernel\n",
      "For more information on available magic commands, please type %help in any new cell.\n",
      "\n",
      "Please view our Getting Started page to access the most up-to-date information on the Interactive Sessions kernel: https://docs.aws.amazon.com/glue/latest/dg/interactive-sessions.html\n",
      "Installed kernel version: 0.37.0 \n",
      "Defaulting to user installation because normal site-packages is not writeable\n",
      "Collecting aws-glue-sessions\n",
      "  Downloading aws_glue_sessions-0.37.2-py2.py3-none-any.whl (171 kB)\n",
      "\u001b[K     |████████████████████████████████| 171 kB 30.9 MB/s eta 0:00:01\n",
      "\u001b[?25hRequirement already satisfied, skipping upgrade: ipykernel>=6.12.1 in /home/jupyter-user/.local/lib/python3.7/site-packages (from aws-glue-sessions) (6.16.2)\n",
      "Requirement already satisfied, skipping upgrade: tornado>=4 in /home/jupyter-user/.local/lib/python3.7/site-packages (from aws-glue-sessions) (6.2)\n",
      "Requirement already satisfied, skipping upgrade: requests in /home/jupyter-user/.local/lib/python3.7/site-packages (from aws-glue-sessions) (2.28.2)\n",
      "Requirement already satisfied, skipping upgrade: hdijupyterutils>=0.6 in /home/jupyter-user/.local/lib/python3.7/site-packages (from aws-glue-sessions) (0.20.4)\n",
      "Requirement already satisfied, skipping upgrade: importlib-metadata>=4.11.3 in /home/jupyter-user/.local/lib/python3.7/site-packages (from aws-glue-sessions) (6.0.0)\n",
      "Requirement already satisfied, skipping upgrade: autovizwidget>=0.6 in /home/jupyter-user/.local/lib/python3.7/site-packages (from aws-glue-sessions) (0.20.4)\n",
      "Requirement already satisfied, skipping upgrade: Click in /home/jupyter-user/.local/lib/python3.7/site-packages (from aws-glue-sessions) (8.1.3)\n",
      "Requirement already satisfied, skipping upgrade: botocore>=1.24.24 in /home/jupyter-user/.local/lib/python3.7/site-packages (from aws-glue-sessions) (1.29.88)\n",
      "Requirement already satisfied, skipping upgrade: ipython>=4.0.2 in /home/jupyter-user/.local/lib/python3.7/site-packages (from aws-glue-sessions) (7.34.0)\n",
      "Requirement already satisfied, skipping upgrade: nose in /home/jupyter-user/.local/lib/python3.7/site-packages (from aws-glue-sessions) (1.3.7)\n",
      "Requirement already satisfied, skipping upgrade: ipywidgets>5.0.0 in /home/jupyter-user/.local/lib/python3.7/site-packages (from aws-glue-sessions) (8.0.4)\n",
      "Requirement already satisfied, skipping upgrade: notebook>=4.2 in /home/jupyter-user/.local/lib/python3.7/site-packages (from aws-glue-sessions) (6.5.3)\n",
      "Requirement already satisfied, skipping upgrade: boto3>=1.21.31 in /home/jupyter-user/.local/lib/python3.7/site-packages (from aws-glue-sessions) (1.26.88)\n",
      "Requirement already satisfied, skipping upgrade: jupyter-client>=6.1.12 in /home/jupyter-user/.local/lib/python3.7/site-packages (from ipykernel>=6.12.1->aws-glue-sessions) (7.4.9)\n",
      "Requirement already satisfied, skipping upgrade: psutil in /home/jupyter-user/.local/lib/python3.7/site-packages (from ipykernel>=6.12.1->aws-glue-sessions) (5.9.4)\n",
      "Requirement already satisfied, skipping upgrade: pyzmq>=17 in /home/jupyter-user/.local/lib/python3.7/site-packages (from ipykernel>=6.12.1->aws-glue-sessions) (25.0.0)\n",
      "Requirement already satisfied, skipping upgrade: packaging in /home/jupyter-user/.local/lib/python3.7/site-packages (from ipykernel>=6.12.1->aws-glue-sessions) (23.0)\n",
      "Requirement already satisfied, skipping upgrade: matplotlib-inline>=0.1 in /home/jupyter-user/.local/lib/python3.7/site-packages (from ipykernel>=6.12.1->aws-glue-sessions) (0.1.6)\n",
      "Requirement already satisfied, skipping upgrade: debugpy>=1.0 in /home/jupyter-user/.local/lib/python3.7/site-packages (from ipykernel>=6.12.1->aws-glue-sessions) (1.6.6)\n",
      "Requirement already satisfied, skipping upgrade: traitlets>=5.1.0 in /home/jupyter-user/.local/lib/python3.7/site-packages (from ipykernel>=6.12.1->aws-glue-sessions) (5.9.0)\n",
      "Requirement already satisfied, skipping upgrade: nest-asyncio in /home/jupyter-user/.local/lib/python3.7/site-packages (from ipykernel>=6.12.1->aws-glue-sessions) (1.5.6)\n",
      "Requirement already satisfied, skipping upgrade: urllib3<1.27,>=1.21.1 in /home/jupyter-user/.local/lib/python3.7/site-packages (from requests->aws-glue-sessions) (1.26.14)\n",
      "Requirement already satisfied, skipping upgrade: certifi>=2017.4.17 in /home/jupyter-user/.local/lib/python3.7/site-packages (from requests->aws-glue-sessions) (2022.12.7)\n",
      "Requirement already satisfied, skipping upgrade: idna<4,>=2.5 in /home/jupyter-user/.local/lib/python3.7/site-packages (from requests->aws-glue-sessions) (3.4)\n",
      "Requirement already satisfied, skipping upgrade: charset-normalizer<4,>=2 in /home/jupyter-user/.local/lib/python3.7/site-packages (from requests->aws-glue-sessions) (3.1.0)\n",
      "Requirement already satisfied, skipping upgrade: jupyter>=1 in /home/jupyter-user/.local/lib/python3.7/site-packages (from hdijupyterutils>=0.6->aws-glue-sessions) (1.0.0)\n",
      "Requirement already satisfied, skipping upgrade: pandas>=0.17.1 in /home/jupyter-user/.local/lib/python3.7/site-packages (from hdijupyterutils>=0.6->aws-glue-sessions) (1.3.5)\n",
      "Requirement already satisfied, skipping upgrade: numpy>=1.16.5 in /home/jupyter-user/.local/lib/python3.7/site-packages (from hdijupyterutils>=0.6->aws-glue-sessions) (1.21.6)\n",
      "Requirement already satisfied, skipping upgrade: zipp>=0.5 in /home/jupyter-user/.local/lib/python3.7/site-packages (from importlib-metadata>=4.11.3->aws-glue-sessions) (3.15.0)\n",
      "Requirement already satisfied, skipping upgrade: typing-extensions>=3.6.4; python_version < \"3.8\" in /home/jupyter-user/.local/lib/python3.7/site-packages (from importlib-metadata>=4.11.3->aws-glue-sessions) (4.5.0)\n",
      "Requirement already satisfied, skipping upgrade: plotly>=3 in /home/jupyter-user/.local/lib/python3.7/site-packages (from autovizwidget>=0.6->aws-glue-sessions) (5.13.1)\n",
      "Requirement already satisfied, skipping upgrade: python-dateutil<3.0.0,>=2.1 in /home/jupyter-user/.local/lib/python3.7/site-packages (from botocore>=1.24.24->aws-glue-sessions) (2.8.2)\n",
      "Requirement already satisfied, skipping upgrade: jmespath<2.0.0,>=0.7.1 in /home/jupyter-user/.local/lib/python3.7/site-packages (from botocore>=1.24.24->aws-glue-sessions) (1.0.1)\n",
      "Requirement already satisfied, skipping upgrade: pexpect>4.3; sys_platform != \"win32\" in /home/jupyter-user/.local/lib/python3.7/site-packages (from ipython>=4.0.2->aws-glue-sessions) (4.8.0)\n",
      "Requirement already satisfied, skipping upgrade: jedi>=0.16 in /home/jupyter-user/.local/lib/python3.7/site-packages (from ipython>=4.0.2->aws-glue-sessions) (0.18.2)\n",
      "Requirement already satisfied, skipping upgrade: backcall in /home/jupyter-user/.local/lib/python3.7/site-packages (from ipython>=4.0.2->aws-glue-sessions) (0.2.0)\n",
      "Requirement already satisfied, skipping upgrade: pygments in /home/jupyter-user/.local/lib/python3.7/site-packages (from ipython>=4.0.2->aws-glue-sessions) (2.14.0)\n",
      "Requirement already satisfied, skipping upgrade: setuptools>=18.5 in /usr/lib/python3.7/site-packages (from ipython>=4.0.2->aws-glue-sessions) (49.1.3)\n",
      "Requirement already satisfied, skipping upgrade: prompt-toolkit!=3.0.0,!=3.0.1,<3.1.0,>=2.0.0 in /home/jupyter-user/.local/lib/python3.7/site-packages (from ipython>=4.0.2->aws-glue-sessions) (3.0.38)\n",
      "Requirement already satisfied, skipping upgrade: decorator in /home/jupyter-user/.local/lib/python3.7/site-packages (from ipython>=4.0.2->aws-glue-sessions) (5.1.1)\n",
      "Requirement already satisfied, skipping upgrade: pickleshare in /home/jupyter-user/.local/lib/python3.7/site-packages (from ipython>=4.0.2->aws-glue-sessions) (0.7.5)\n",
      "Requirement already satisfied, skipping upgrade: widgetsnbextension~=4.0 in /home/jupyter-user/.local/lib/python3.7/site-packages (from ipywidgets>5.0.0->aws-glue-sessions) (4.0.5)\n",
      "Requirement already satisfied, skipping upgrade: jupyterlab-widgets~=3.0 in /home/jupyter-user/.local/lib/python3.7/site-packages (from ipywidgets>5.0.0->aws-glue-sessions) (3.0.5)\n",
      "Requirement already satisfied, skipping upgrade: argon2-cffi in /home/jupyter-user/.local/lib/python3.7/site-packages (from notebook>=4.2->aws-glue-sessions) (21.3.0)\n",
      "Requirement already satisfied, skipping upgrade: nbformat in /home/jupyter-user/.local/lib/python3.7/site-packages (from notebook>=4.2->aws-glue-sessions) (5.7.3)\n",
      "Requirement already satisfied, skipping upgrade: prometheus-client in /home/jupyter-user/.local/lib/python3.7/site-packages (from notebook>=4.2->aws-glue-sessions) (0.16.0)\n",
      "Requirement already satisfied, skipping upgrade: Send2Trash>=1.8.0 in /home/jupyter-user/.local/lib/python3.7/site-packages (from notebook>=4.2->aws-glue-sessions) (1.8.0)\n",
      "Requirement already satisfied, skipping upgrade: nbclassic>=0.4.7 in /home/jupyter-user/.local/lib/python3.7/site-packages (from notebook>=4.2->aws-glue-sessions) (0.5.3)\n",
      "Requirement already satisfied, skipping upgrade: terminado>=0.8.3 in /home/jupyter-user/.local/lib/python3.7/site-packages (from notebook>=4.2->aws-glue-sessions) (0.17.1)\n",
      "Requirement already satisfied, skipping upgrade: jinja2 in /home/jupyter-user/.local/lib/python3.7/site-packages (from notebook>=4.2->aws-glue-sessions) (3.1.2)\n",
      "Requirement already satisfied, skipping upgrade: jupyter-core>=4.6.1 in /home/jupyter-user/.local/lib/python3.7/site-packages (from notebook>=4.2->aws-glue-sessions) (4.12.0)\n",
      "Requirement already satisfied, skipping upgrade: ipython-genutils in /home/jupyter-user/.local/lib/python3.7/site-packages (from notebook>=4.2->aws-glue-sessions) (0.2.0)\n",
      "Requirement already satisfied, skipping upgrade: nbconvert>=5 in /home/jupyter-user/.local/lib/python3.7/site-packages (from notebook>=4.2->aws-glue-sessions) (7.2.9)\n",
      "Requirement already satisfied, skipping upgrade: s3transfer<0.7.0,>=0.6.0 in /home/jupyter-user/.local/lib/python3.7/site-packages (from boto3>=1.21.31->aws-glue-sessions) (0.6.0)\n",
      "Requirement already satisfied, skipping upgrade: entrypoints in /home/jupyter-user/.local/lib/python3.7/site-packages (from jupyter-client>=6.1.12->ipykernel>=6.12.1->aws-glue-sessions) (0.4)\n",
      "Requirement already satisfied, skipping upgrade: qtconsole in /home/jupyter-user/.local/lib/python3.7/site-packages (from jupyter>=1->hdijupyterutils>=0.6->aws-glue-sessions) (5.4.0)\n",
      "Requirement already satisfied, skipping upgrade: jupyter-console in /home/jupyter-user/.local/lib/python3.7/site-packages (from jupyter>=1->hdijupyterutils>=0.6->aws-glue-sessions) (6.6.3)\n",
      "Requirement already satisfied, skipping upgrade: pytz>=2017.3 in /home/jupyter-user/.local/lib/python3.7/site-packages (from pandas>=0.17.1->hdijupyterutils>=0.6->aws-glue-sessions) (2022.7.1)\n",
      "Requirement already satisfied, skipping upgrade: tenacity>=6.2.0 in /home/jupyter-user/.local/lib/python3.7/site-packages (from plotly>=3->autovizwidget>=0.6->aws-glue-sessions) (8.2.2)\n",
      "Requirement already satisfied, skipping upgrade: six>=1.5 in /home/jupyter-user/.local/lib/python3.7/site-packages (from python-dateutil<3.0.0,>=2.1->botocore>=1.24.24->aws-glue-sessions) (1.16.0)\n",
      "Requirement already satisfied, skipping upgrade: ptyprocess>=0.5 in /home/jupyter-user/.local/lib/python3.7/site-packages (from pexpect>4.3; sys_platform != \"win32\"->ipython>=4.0.2->aws-glue-sessions) (0.7.0)\n",
      "Requirement already satisfied, skipping upgrade: parso<0.9.0,>=0.8.0 in /home/jupyter-user/.local/lib/python3.7/site-packages (from jedi>=0.16->ipython>=4.0.2->aws-glue-sessions) (0.8.3)\n",
      "Requirement already satisfied, skipping upgrade: wcwidth in /home/jupyter-user/.local/lib/python3.7/site-packages (from prompt-toolkit!=3.0.0,!=3.0.1,<3.1.0,>=2.0.0->ipython>=4.0.2->aws-glue-sessions) (0.2.6)\n",
      "Requirement already satisfied, skipping upgrade: argon2-cffi-bindings in /home/jupyter-user/.local/lib/python3.7/site-packages (from argon2-cffi->notebook>=4.2->aws-glue-sessions) (21.2.0)\n",
      "Requirement already satisfied, skipping upgrade: jsonschema>=2.6 in /home/jupyter-user/.local/lib/python3.7/site-packages (from nbformat->notebook>=4.2->aws-glue-sessions) (4.17.3)\n",
      "Requirement already satisfied, skipping upgrade: fastjsonschema in /home/jupyter-user/.local/lib/python3.7/site-packages (from nbformat->notebook>=4.2->aws-glue-sessions) (2.16.3)\n",
      "Requirement already satisfied, skipping upgrade: jupyter-server>=1.8 in /home/jupyter-user/.local/lib/python3.7/site-packages (from nbclassic>=0.4.7->notebook>=4.2->aws-glue-sessions) (1.23.6)\n",
      "Requirement already satisfied, skipping upgrade: notebook-shim>=0.1.0 in /home/jupyter-user/.local/lib/python3.7/site-packages (from nbclassic>=0.4.7->notebook>=4.2->aws-glue-sessions) (0.2.2)\n",
      "Requirement already satisfied, skipping upgrade: MarkupSafe>=2.0 in /home/jupyter-user/.local/lib/python3.7/site-packages (from jinja2->notebook>=4.2->aws-glue-sessions) (2.1.2)\n",
      "Requirement already satisfied, skipping upgrade: defusedxml in /home/jupyter-user/.local/lib/python3.7/site-packages (from nbconvert>=5->notebook>=4.2->aws-glue-sessions) (0.7.1)\n",
      "Requirement already satisfied, skipping upgrade: pandocfilters>=1.4.1 in /home/jupyter-user/.local/lib/python3.7/site-packages (from nbconvert>=5->notebook>=4.2->aws-glue-sessions) (1.5.0)\n",
      "Requirement already satisfied, skipping upgrade: mistune<3,>=2.0.3 in /home/jupyter-user/.local/lib/python3.7/site-packages (from nbconvert>=5->notebook>=4.2->aws-glue-sessions) (2.0.5)\n",
      "Requirement already satisfied, skipping upgrade: beautifulsoup4 in /home/jupyter-user/.local/lib/python3.7/site-packages (from nbconvert>=5->notebook>=4.2->aws-glue-sessions) (4.11.2)\n",
      "Requirement already satisfied, skipping upgrade: jupyterlab-pygments in /home/jupyter-user/.local/lib/python3.7/site-packages (from nbconvert>=5->notebook>=4.2->aws-glue-sessions) (0.2.2)\n",
      "Requirement already satisfied, skipping upgrade: tinycss2 in /home/jupyter-user/.local/lib/python3.7/site-packages (from nbconvert>=5->notebook>=4.2->aws-glue-sessions) (1.2.1)\n",
      "Requirement already satisfied, skipping upgrade: nbclient>=0.5.0 in /home/jupyter-user/.local/lib/python3.7/site-packages (from nbconvert>=5->notebook>=4.2->aws-glue-sessions) (0.7.2)\n",
      "Requirement already satisfied, skipping upgrade: bleach in /home/jupyter-user/.local/lib/python3.7/site-packages (from nbconvert>=5->notebook>=4.2->aws-glue-sessions) (6.0.0)\n",
      "Requirement already satisfied, skipping upgrade: qtpy>=2.0.1 in /home/jupyter-user/.local/lib/python3.7/site-packages (from qtconsole->jupyter>=1->hdijupyterutils>=0.6->aws-glue-sessions) (2.3.0)\n",
      "Requirement already satisfied, skipping upgrade: cffi>=1.0.1 in /home/jupyter-user/.local/lib/python3.7/site-packages (from argon2-cffi-bindings->argon2-cffi->notebook>=4.2->aws-glue-sessions) (1.15.1)\n",
      "Requirement already satisfied, skipping upgrade: pyrsistent!=0.17.0,!=0.17.1,!=0.17.2,>=0.14.0 in /home/jupyter-user/.local/lib/python3.7/site-packages (from jsonschema>=2.6->nbformat->notebook>=4.2->aws-glue-sessions) (0.19.3)\n",
      "Requirement already satisfied, skipping upgrade: pkgutil-resolve-name>=1.3.10; python_version < \"3.9\" in /home/jupyter-user/.local/lib/python3.7/site-packages (from jsonschema>=2.6->nbformat->notebook>=4.2->aws-glue-sessions) (1.3.10)\n",
      "Requirement already satisfied, skipping upgrade: attrs>=17.4.0 in /home/jupyter-user/.local/lib/python3.7/site-packages (from jsonschema>=2.6->nbformat->notebook>=4.2->aws-glue-sessions) (22.2.0)\n",
      "Requirement already satisfied, skipping upgrade: importlib-resources>=1.4.0; python_version < \"3.9\" in /home/jupyter-user/.local/lib/python3.7/site-packages (from jsonschema>=2.6->nbformat->notebook>=4.2->aws-glue-sessions) (5.12.0)\n",
      "Requirement already satisfied, skipping upgrade: websocket-client in /home/jupyter-user/.local/lib/python3.7/site-packages (from jupyter-server>=1.8->nbclassic>=0.4.7->notebook>=4.2->aws-glue-sessions) (1.5.1)\n",
      "Requirement already satisfied, skipping upgrade: anyio<4,>=3.1.0 in /home/jupyter-user/.local/lib/python3.7/site-packages (from jupyter-server>=1.8->nbclassic>=0.4.7->notebook>=4.2->aws-glue-sessions) (3.6.2)\n",
      "Requirement already satisfied, skipping upgrade: soupsieve>1.2 in /home/jupyter-user/.local/lib/python3.7/site-packages (from beautifulsoup4->nbconvert>=5->notebook>=4.2->aws-glue-sessions) (2.4)\n",
      "Requirement already satisfied, skipping upgrade: webencodings>=0.4 in /home/jupyter-user/.local/lib/python3.7/site-packages (from tinycss2->nbconvert>=5->notebook>=4.2->aws-glue-sessions) (0.5.1)\n",
      "Requirement already satisfied, skipping upgrade: pycparser in /home/jupyter-user/.local/lib/python3.7/site-packages (from cffi>=1.0.1->argon2-cffi-bindings->argon2-cffi->notebook>=4.2->aws-glue-sessions) (2.21)\n",
      "Requirement already satisfied, skipping upgrade: sniffio>=1.1 in /home/jupyter-user/.local/lib/python3.7/site-packages (from anyio<4,>=3.1.0->jupyter-server>=1.8->nbclassic>=0.4.7->notebook>=4.2->aws-glue-sessions) (1.3.0)\n",
      "Installing collected packages: aws-glue-sessions\n",
      "\u001b[33m  WARNING: The script install-glue-kernels is installed in '/home/jupyter-user/.local/bin' which is not on PATH.\n",
      "  Consider adding this directory to PATH or, if you prefer to suppress this warning, use --no-warn-script-location.\u001b[0m\n",
      "Successfully installed aws-glue-sessions-0.37.2\n",
      "Note: you may need to restart the kernel to use updated packages.\n"
     ]
    }
   ],
   "source": [
    "%pip install --upgrade aws-glue-sessions%session_id_prefix fg-offline-scale\n",
    "%glue_version 3.0\n",
    "%idle_timeout 480\n",
    "%number_of_workers 10\n",
    "%worker_type G.2X \n",
    "%additional_python_modules 'sagemaker,sagemaker-feature-store-pyspark-3.1'\n",
    "%extra_jars 's3://roymark-aws-ml/spark-connector-jars/sagemaker-feature-store-spark-sdk.jar'\n",
    "%%configure\n",
    "{\n",
    "    \"--enable-spark-ui\": \"true\",\n",
    "    \"--spark-event-logs-path\": \"s3://roymark-aws-ml/gis-spark-logs/\",\n",
    "    \"--enable-auto-scaling\": \"true\",\n",
    "    \"--enable-metrics\": \"true\",\n",
    "    \"--enable-continuous-cloudwatch-log\": \"true\",\n",
    "    \"--enable-continuous-log-filter\": \"true\",\n",
    "}"
   ]
  },
  {
   "cell_type": "code",
   "execution_count": 11,
   "metadata": {
    "vscode": {
     "languageId": "python_glue_session"
    }
   },
   "outputs": [
    {
     "name": "stdout",
     "output_type": "stream",
     "text": [
      "Setting session ID prefix to fg-offline-scale\n",
      "Setting Glue version to: 3.0\n",
      "Current idle_timeout is 2800 minutes.\n",
      "idle_timeout has been set to 480 minutes.\n",
      "Previous number of workers: 5\n",
      "Setting new number of workers to: 10\n",
      "Previous worker type: G.1X\n",
      "Setting new worker type to: G.2X\n",
      "Additional python modules to be included:\n",
      "sagemaker\n",
      "sagemaker-feature-store-pyspark-3.1\n",
      "Extra jars to be included:\n",
      "s3://chime-fs-demo/spark-connector-jars/sagemaker-feature-store-spark-sdk.jar\n",
      "The following configurations have been updated: {'--enable-spark-ui': 'true', '--spark-event-logs-path': 's3://roymark-aws-ml/gis-spark-logs/', '--enable-auto-scaling': 'true', '--enable-metrics': 'true', '--enable-continuous-cloudwatch-log': 'true', '--enable-continuous-log-filter': 'true'}\n",
      "s3://chime-fs-demo/spark-connector-jars/sagemaker-feature-store-spark-sdk.jar\n"
     ]
    }
   ],
   "source": [
    "%session_id_prefix fg-offline-scale\n",
    "%glue_version 3.0\n",
    "%idle_timeout 480\n",
    "%number_of_workers 10\n",
    "%worker_type G.2X \n",
    "%additional_python_modules 'sagemaker,sagemaker-feature-store-pyspark-3.1'\n",
    "%extra_jars 's3://chime-fs-demo/spark-connector-jars/sagemaker-feature-store-spark-sdk.jar'\n",
    "%%configure\n",
    "{\n",
    "    \"--enable-spark-ui\": \"true\",\n",
    "    \"--spark-event-logs-path\": \"s3://chime-fs-demo/gis-spark-logs/\",\n",
    "    \"--enable-auto-scaling\": \"true\",\n",
    "    \"--enable-metrics\": \"true\",\n",
    "    \"--enable-continuous-cloudwatch-log\": \"true\",\n",
    "    \"--enable-continuous-log-filter\": \"true\",\n",
    "}"
   ]
  },
  {
   "cell_type": "code",
   "execution_count": 1,
   "metadata": {
    "vscode": {
     "languageId": "python_glue_session"
    }
   },
   "outputs": [
    {
     "name": "stdout",
     "output_type": "stream",
     "text": [
      "Authenticating with environment variables and user-defined glue_role_arn: arn:aws:iam::461312420708:role/Admin\n",
      "Trying to create a Glue session for the kernel.\n",
      "Worker Type: G.2X\n",
      "Number of Workers: 10\n",
      "Session ID: 195c277a-141c-421d-afa4-d1c26098a5d0\n",
      "Job Type: glueetl\n",
      "Applying the following default arguments:\n",
      "--glue_kernel_version 0.37.0\n",
      "--enable-glue-datacatalog true\n",
      "--additional-python-modules sagemaker,sagemaker-feature-store-pyspark-3.1\n",
      "--extra-jars s3://chime-fs-demo/spark-connector-jars/sagemaker-feature-store-spark-sdk.jar\n",
      "--enable-spark-ui true\n",
      "--spark-event-logs-path s3://roymark-aws-ml/gis-spark-logs/\n",
      "--enable-auto-scaling true\n",
      "--enable-metrics true\n",
      "--enable-continuous-cloudwatch-log true\n",
      "--enable-continuous-log-filter true\n",
      "Waiting for session 195c277a-141c-421d-afa4-d1c26098a5d0 to get into ready status...\n",
      "Session 195c277a-141c-421d-afa4-d1c26098a5d0 has been created.\n",
      "\n"
     ]
    }
   ],
   "source": [
    "from pyspark.context import SparkContext\n",
    "from pyspark.sql import SQLContext\n",
    "from pyspark.sql.functions import *\n",
    "import boto3\n",
    "import json\n",
    "import time\n",
    "import pandas as pd\n",
    "import sagemaker\n",
    "from sagemaker.feature_store.feature_group import FeatureDefinition, FeatureGroup, FeatureTypeEnum, DataCatalogConfig\n",
    "from pyspark.sql import SparkSession\n",
    "from feature_store_pyspark.FeatureStoreManager import FeatureStoreManager\n",
    "import feature_store_pyspark\n",
    "from sagemaker.feature_store.inputs import TableFormatEnum"
   ]
  },
  {
   "cell_type": "code",
   "execution_count": 2,
   "metadata": {
    "vscode": {
     "languageId": "python_glue_session"
    }
   },
   "outputs": [
    {
     "name": "stdout",
     "output_type": "stream",
     "text": [
      "\n"
     ]
    }
   ],
   "source": [
    "TABLE_FORMAT = TableFormatEnum.ICEBERG\n",
    "\n",
    "FG_NAME = f'cc_train_fg'\n",
    "\n",
    "EVENT_TIME_NAME = 'tid'\n",
    "RECORD_ID_NAME = 'datetime'\n",
    "\n",
    "# SRC_PREFIX = 'smfs-tmp-source-data'"
   ]
  },
  {
   "cell_type": "code",
   "execution_count": 3,
   "metadata": {
    "vscode": {
     "languageId": "python_glue_session"
    }
   },
   "outputs": [
    {
     "name": "stdout",
     "output_type": "stream",
     "text": [
      "\n"
     ]
    }
   ],
   "source": [
    "def get_table_name(feature_group_name):\n",
    "    featurestore_table = sagemaker_session.describe_feature_group(feature_group_name)['OfflineStoreConfig']['DataCatalogConfig']['TableName']\n",
    "    return featurestore_table\n",
    "\n",
    "def get_offline_store_s3_uri(feature_group_name):\n",
    "    offline_store_s3_uri = sagemaker_session.describe_feature_group(feature_group_name)['OfflineStoreConfig']['S3StorageConfig']['ResolvedOutputS3Uri']\n",
    "    return offline_store_s3_uri"
   ]
  },
  {
   "cell_type": "code",
   "execution_count": 5,
   "metadata": {
    "vscode": {
     "languageId": "python_glue_session"
    }
   },
   "outputs": [
    {
     "name": "stdout",
     "output_type": "stream",
     "text": [
      "\n"
     ]
    }
   ],
   "source": [
    "sagemaker_session = sagemaker.Session()\n",
    "role = 'arn:aws:iam::461312420708:role/Admin'\n",
    "default_bucket = 'chime-fs-demo'\n",
    "# feature_store_manager= FeatureStoreManager()"
   ]
  },
  {
   "cell_type": "code",
   "execution_count": 6,
   "metadata": {
    "vscode": {
     "languageId": "python_glue_session"
    }
   },
   "outputs": [
    {
     "name": "stdout",
     "output_type": "stream",
     "text": [
      "\n"
     ]
    }
   ],
   "source": [
    "def ingest_data_to_feature_store(dataframe, feature_group_name, sagemaker_session, target_stores):\n",
    "    feature_group_arn = sagemaker_session.describe_feature_group(feature_group_name)['FeatureGroupArn']\n",
    "    feature_store_manager.ingest_data(input_data_frame=dataframe, feature_group_arn= feature_group_arn, \n",
    "                                      target_stores=target_stores)\n",
    "    print(f'Process - ingest_to_feature_store - {feature_group_name} : Completed')"
   ]
  },
  {
   "cell_type": "code",
   "execution_count": 7,
   "metadata": {
    "vscode": {
     "languageId": "python_glue_session"
    }
   },
   "outputs": [
    {
     "name": "stdout",
     "output_type": "stream",
     "text": [
      "Location of offline store: s3://chime-fs-demo/sagemaker-feature-store\n"
     ]
    }
   ],
   "source": [
    "offline_feature_store_uri = f's3://{default_bucket}/sagemaker-feature-store'\n",
    "\n",
    "print(f'Location of offline store: {offline_feature_store_uri}')"
   ]
  },
  {
   "cell_type": "code",
   "execution_count": 8,
   "metadata": {
    "vscode": {
     "languageId": "python_glue_session"
    }
   },
   "outputs": [
    {
     "name": "stdout",
     "output_type": "stream",
     "text": [
      "\n"
     ]
    }
   ],
   "source": [
    "spark = SparkSession.builder.getOrCreate()"
   ]
  },
  {
   "cell_type": "code",
   "execution_count": 9,
   "metadata": {
    "vscode": {
     "languageId": "python_glue_session"
    }
   },
   "outputs": [
    {
     "name": "stdout",
     "output_type": "stream",
     "text": [
      "\n"
     ]
    }
   ],
   "source": [
    "full_df = spark.read.csv(\"s3://chime-fs-demo/aggregated/part-00000-1bc78c44-62fe-4425-8ac9-9b9a367da961-c000.csv\",header =\"True\")"
   ]
  },
  {
   "cell_type": "code",
   "execution_count": 10,
   "metadata": {
    "vscode": {
     "languageId": "python_glue_session"
    }
   },
   "outputs": [
    {
     "name": "stdout",
     "output_type": "stream",
     "text": [
      "+--------------------+--------------------+----------------+-------+-----------+------------------+----------------+-----------------+------------------+--------------------+--------------------+------------------+\n",
      "|                 tid|            datetime|          cc_num| amount|fraud_label|num_trans_last_10m|avg_amt_last_10m|num_trans_last_1w|   avg_amt_last_1w|          amt_ratio1|          amt_ratio2|       count_ratio|\n",
      "+--------------------+--------------------+----------------+-------+-----------+------------------+----------------+-----------------+------------------+--------------------+--------------------+------------------+\n",
      "|d621c8d794262ad5e...|2020-01-01T20:52:...|4006080197832643|8911.09|          0|                 1|         8911.09|                1|           8911.09|                 1.0|                 1.0|               1.0|\n",
      "|daa28b6f0e729f485...|2020-01-02T00:51:...|4006080197832643|  65.15|          0|                 1|           65.15|                2|           4488.12|0.014516100282523642|0.014516100282523642|               0.5|\n",
      "|c4f86514d36cf92be...|2020-01-02T01:08:...|4006080197832643|4865.93|          0|                 1|         4865.93|                3| 4614.056666666666|  1.0545882618115514|  1.0545882618115514|0.3333333333333333|\n",
      "|0758642b10c11900f...|2020-01-02T09:50:...|4006080197832643|  11.92|          0|                 1|           11.92|                4|         3463.5225|0.003441582954925...|0.003441582954925...|              0.25|\n",
      "|79dbe8dbe6d193de6...|2020-01-03T00:05:...|4006080197832643| 626.46|          0|                 1|          626.46|                5|2896.1099999999997| 0.21631084454665053| 0.21631084454665053|               0.2|\n",
      "+--------------------+--------------------+----------------+-------+-----------+------------------+----------------+-----------------+------------------+--------------------+--------------------+------------------+\n",
      "only showing top 5 rows\n"
     ]
    }
   ],
   "source": [
    "full_df.show(n=5)"
   ]
  },
  {
   "cell_type": "code",
   "execution_count": 14,
   "metadata": {
    "vscode": {
     "languageId": "python_glue_session"
    }
   },
   "outputs": [
    {
     "name": "stdout",
     "output_type": "stream",
     "text": [
      "\n"
     ]
    }
   ],
   "source": [
    "train_df = full_df.select('tid','datetime','fraud_label', 'amount', 'amt_ratio1','amt_ratio2','count_ratio')"
   ]
  },
  {
   "cell_type": "code",
   "execution_count": 40,
   "metadata": {
    "vscode": {
     "languageId": "python_glue_session"
    }
   },
   "outputs": [
    {
     "name": "stdout",
     "output_type": "stream",
     "text": [
      "+---+--------+-----------+------+----------+----------+-----------+\n",
      "|tid|datetime|fraud_label|amount|amt_ratio1|amt_ratio2|count_ratio|\n",
      "+---+--------+-----------+------+----------+----------+-----------+\n",
      "|  0|       0|          0|     0|         0|         0|          0|\n",
      "+---+--------+-----------+------+----------+----------+-----------+\n"
     ]
    }
   ],
   "source": [
    "train_filtered_df.select([count(when(isnan(c) | col(c).isNull(), c)).alias(c) for c in train_df.columns]\n",
    "   ).show()"
   ]
  },
  {
   "cell_type": "code",
   "execution_count": 28,
   "metadata": {
    "vscode": {
     "languageId": "python_glue_session"
    }
   },
   "outputs": [
    {
     "name": "stdout",
     "output_type": "stream",
     "text": [
      "+--------------------------------+------------------------+-----------+-------+---------------------+---------------------+--------------------+\n",
      "|tid                             |datetime                |fraud_label|amount |amt_ratio1           |amt_ratio2           |count_ratio         |\n",
      "+--------------------------------+------------------------+-----------+-------+---------------------+---------------------+--------------------+\n",
      "|d621c8d794262ad5e8ad804cb4517395|2020-01-01T20:52:20.000Z|0          |8911.09|1.0                  |1.0                  |1.0                 |\n",
      "|daa28b6f0e729f48563ee7ea945f910c|2020-01-02T00:51:07.000Z|0          |65.15  |0.014516100282523642 |0.014516100282523642 |0.5                 |\n",
      "|c4f86514d36cf92be555c122f2faae57|2020-01-02T01:08:17.000Z|0          |4865.93|1.0545882618115514   |1.0545882618115514   |0.3333333333333333  |\n",
      "|0758642b10c11900f42b880c9cb1527b|2020-01-02T09:50:42.000Z|0          |11.92  |0.0034415829549252243|0.0034415829549252243|0.25                |\n",
      "|79dbe8dbe6d193de62cc4adad8fc6d4f|2020-01-03T00:05:41.000Z|0          |626.46 |0.21631084454665053  |0.21631084454665053  |0.2                 |\n",
      "|d2ae246292beb8441bd7dc0f38cc803d|2020-01-03T14:22:59.000Z|0          |876.01 |0.3422680600342785   |0.3422680600342785   |0.16666666666666666 |\n",
      "|8b37e39064e801c16e2faaa3926cef06|2020-01-03T23:12:07.000Z|0          |1.1    |5.013784652088926E-4 |5.013784652088926E-4 |0.14285714285714285 |\n",
      "|337316488f93207689fd28c890692508|2020-01-04T07:37:28.000Z|0          |30.99  |0.0161105750017058   |0.0161105750017058   |0.125               |\n",
      "|3751a6dd748772abd7ae624807ba9302|2020-01-04T07:38:30.000Z|0          |85.68  |0.03392812483642264  |0.0498322059824238   |0.2222222222222222  |\n",
      "|0a16b02af023c0609c70877221edaacf|2020-01-04T11:19:52.000Z|0          |5619.17|2.6639343873705172   |2.6639343873705172   |0.1                 |\n",
      "|d977785667fd241a15815a37de0e5e5c|2020-01-05T03:05:03.000Z|0          |4571.93|1.9594929833632244   |1.9594929833632244   |0.09090909090909091 |\n",
      "|4265dd276ae1a0654b1339278508679b|2020-01-05T16:14:23.000Z|0          |73.28  |0.03416488238921065  |0.03416488238921065  |0.08333333333333333 |\n",
      "|62985acca471e65671f6f52570b025df|2020-01-06T07:13:20.000Z|0          |809.44 |0.39636358842329883  |0.39636358842329883  |0.07692307692307693 |\n",
      "|5b705b67126e4b17769857ff8428f773|2020-01-06T14:59:36.000Z|0          |97.46  |0.051206934275477275 |0.051206934275477275 |0.07142857142857142 |\n",
      "|154f7ff181decf1c691c3ba3f6b9fae3|2020-01-06T19:50:23.000Z|0          |75.83  |0.04256694250010479  |0.04256694250010479  |0.06666666666666667 |\n",
      "|2b1c73771073597e6793638461bac78f|2020-01-07T00:19:10.000Z|0          |37.03  |0.02214177417468189  |0.02214177417468189  |0.0625              |\n",
      "|5ba23ebd7b7855263d7f6751b6499484|2020-01-07T03:17:52.000Z|0          |524.15 |0.32660169734431665  |0.32660169734431665  |0.058823529411764705|\n",
      "|894cd9e169365db00a1a0503e281f282|2020-01-07T04:41:51.000Z|0          |84.72  |0.055721893322478545 |0.055721893322478545 |0.05555555555555555 |\n",
      "|c9eecf91eee210854d5f2a3c737a763e|2020-01-07T05:00:29.000Z|0          |212.2  |0.14618808000423503  |0.14618808000423503  |0.05263157894736842 |\n",
      "|ae9ea24ef9785bfe0bfd3f3ec16b1f22|2020-01-07T07:33:21.000Z|0          |48.29  |0.03495750480584251  |0.03495750480584251  |0.05                |\n",
      "+--------------------------------+------------------------+-----------+-------+---------------------+---------------------+--------------------+\n",
      "only showing top 20 rows\n"
     ]
    }
   ],
   "source": [
    "train_df.na.drop().show(truncate=False)"
   ]
  },
  {
   "cell_type": "code",
   "execution_count": 29,
   "metadata": {
    "vscode": {
     "languageId": "python_glue_session"
    }
   },
   "outputs": [
    {
     "name": "stdout",
     "output_type": "stream",
     "text": [
      "+---+--------+-----------+------+----------+----------+-----------+\n",
      "|tid|datetime|fraud_label|amount|amt_ratio1|amt_ratio2|count_ratio|\n",
      "+---+--------+-----------+------+----------+----------+-----------+\n",
      "|  1|       1|          1|     1|         1|         1|          0|\n",
      "+---+--------+-----------+------+----------+----------+-----------+\n"
     ]
    }
   ],
   "source": [
    "train_df.select([count(when(col(c).contains('None') | \\\n",
    "                            col(c).contains('NULL') | \\\n",
    "                            (col(c) == '' ) | \\\n",
    "                            col(c).isNull() | \\\n",
    "                            isnan(c), c \n",
    "                           )).alias(c)\n",
    "                    for c in train_df.columns]).show()"
   ]
  },
  {
   "cell_type": "code",
   "execution_count": 37,
   "metadata": {
    "vscode": {
     "languageId": "python_glue_session"
    }
   },
   "outputs": [
    {
     "name": "stdout",
     "output_type": "stream",
     "text": [
      "\n"
     ]
    }
   ],
   "source": [
    "train_filtered_df = train_df.filter(train_df.tid.isNotNull())"
   ]
  },
  {
   "cell_type": "code",
   "execution_count": 38,
   "metadata": {
    "vscode": {
     "languageId": "python_glue_session"
    }
   },
   "outputs": [
    {
     "name": "stdout",
     "output_type": "stream",
     "text": [
      "[('tid', 'string'), ('datetime', 'string'), ('fraud_label', 'string'), ('amount', 'string'), ('amt_ratio1', 'string'), ('amt_ratio2', 'string'), ('count_ratio', 'string')]\n"
     ]
    }
   ],
   "source": [
    "train_filtered_df.dtypes"
   ]
  },
  {
   "cell_type": "code",
   "execution_count": 16,
   "metadata": {
    "vscode": {
     "languageId": "python_glue_session"
    }
   },
   "outputs": [
    {
     "name": "stdout",
     "output_type": "stream",
     "text": [
      "\n"
     ]
    }
   ],
   "source": [
    "fg = FeatureGroup(name=FG_NAME, sagemaker_session=sagemaker_session)"
   ]
  },
  {
   "cell_type": "code",
   "execution_count": 43,
   "metadata": {
    "vscode": {
     "languageId": "python_glue_session"
    }
   },
   "outputs": [
    {
     "name": "stdout",
     "output_type": "stream",
     "text": [
      "\n"
     ]
    }
   ],
   "source": [
    "sample_df = pd.DataFrame([['d621c8d794262ad5e8ad804cb4517395', '2023-04-02T19:53:45.483Z', 1,8911.09, 1.0,1.0,1.0]], \n",
    "                  columns=['tid', 'datetime', 'fraud_label', 'amount', 'amt_ratio1','amt_ratio2','count_ratio'])\n",
    "\n",
    "\n",
    "def cast_object_to_string(data_frame):\n",
    "    for label in data_frame.columns:\n",
    "        if data_frame.dtypes[label] == 'object':\n",
    "            data_frame[label] = data_frame[label].astype(\"str\").astype(\"string\")\n",
    "\n",
    "cast_object_to_string(sample_df) \n",
    "sample_df['fraud_label'] = sample_df['fraud_label'].astype('string')\n",
    "sample_df['amount'] = sample_df['amount'].astype('string')\n",
    "sample_df['amt_ratio1'] = sample_df['amt_ratio1'].astype('string')\n",
    "sample_df['amt_ratio2'] = sample_df['amt_ratio2'].astype('string')\n",
    "sample_df['count_ratio'] = sample_df['count_ratio'].astype('string')"
   ]
  },
  {
   "cell_type": "code",
   "execution_count": 44,
   "metadata": {
    "vscode": {
     "languageId": "python_glue_session"
    }
   },
   "outputs": [
    {
     "name": "stdout",
     "output_type": "stream",
     "text": [
      "[FeatureDefinition(feature_name='tid', feature_type=<FeatureTypeEnum.STRING: 'String'>), FeatureDefinition(feature_name='datetime', feature_type=<FeatureTypeEnum.STRING: 'String'>), FeatureDefinition(feature_name='fraud_label', feature_type=<FeatureTypeEnum.STRING: 'String'>), FeatureDefinition(feature_name='amount', feature_type=<FeatureTypeEnum.STRING: 'String'>), FeatureDefinition(feature_name='amt_ratio1', feature_type=<FeatureTypeEnum.STRING: 'String'>), FeatureDefinition(feature_name='amt_ratio2', feature_type=<FeatureTypeEnum.STRING: 'String'>), FeatureDefinition(feature_name='count_ratio', feature_type=<FeatureTypeEnum.STRING: 'String'>)]\n"
     ]
    }
   ],
   "source": [
    "fg.load_feature_definitions(data_frame=sample_df)"
   ]
  },
  {
   "cell_type": "code",
   "execution_count": 45,
   "metadata": {
    "vscode": {
     "languageId": "python_glue_session"
    }
   },
   "outputs": [
    {
     "name": "stdout",
     "output_type": "stream",
     "text": [
      "{'FeatureGroupArn': 'arn:aws:sagemaker:us-east-1:461312420708:feature-group/cc_train_fg', 'ResponseMetadata': {'RequestId': '45a81490-7386-4250-a6ab-887e9e293d41', 'HTTPStatusCode': 200, 'HTTPHeaders': {'x-amzn-requestid': '45a81490-7386-4250-a6ab-887e9e293d41', 'content-type': 'application/x-amz-json-1.1', 'content-length': '88', 'date': 'Wed, 05 Apr 2023 15:19:39 GMT'}, 'RetryAttempts': 0}}\n"
     ]
    }
   ],
   "source": [
    "fg.create(record_identifier_name = RECORD_ID_NAME,\n",
    "                event_time_feature_name = EVENT_TIME_NAME,\n",
    "                role_arn = role,\n",
    "                s3_uri = offline_feature_store_uri,\n",
    "                enable_online_store = True,\n",
    "                table_format = TABLE_FORMAT)"
   ]
  },
  {
   "cell_type": "code",
   "execution_count": null,
   "metadata": {
    "vscode": {
     "languageId": "python_glue_session"
    }
   },
   "outputs": [],
   "source": [
    "feature_group_arn ='arn:aws:sagemaker:us-east-1:461312420708:feature-group/cc_train_fg'\n",
    "feature_store_manager= FeatureStoreManager()\n",
    "feature_store_manager.ingest_data(input_data_frame=train_filtered_df, feature_group_arn= feature_group_arn, target_stores=[\"OfflineStore\"])"
   ]
  }
 ],
 "metadata": {
  "kernelspec": {
   "display_name": "Glue PySpark",
   "language": "python",
   "name": "glue_pyspark"
  },
  "language_info": {
   "codemirror_mode": {
    "name": "python",
    "version": 3
   },
   "file_extension": ".py",
   "mimetype": "text/x-python",
   "name": "Python_Glue_Session",
   "pygments_lexer": "python3"
  }
 },
 "nbformat": 4,
 "nbformat_minor": 4
}
