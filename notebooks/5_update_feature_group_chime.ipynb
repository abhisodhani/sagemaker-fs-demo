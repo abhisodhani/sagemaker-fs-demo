{
 "cells": [
  {
   "cell_type": "code",
   "execution_count": 1,
   "id": "9f206d10",
   "metadata": {},
   "outputs": [],
   "source": [
    "from botocore.client import ClientError\n",
    "from collections import defaultdict\n",
    "from faker import Faker\n",
    "import pandas as pd\n",
    "import numpy as np\n",
    "import sagemaker\n",
    "import datetime\n",
    "import hashlib\n",
    "import random\n",
    "import boto3\n",
    "import math\n",
    "import os\n",
    "import logging\n",
    "import subprocess, sys\n",
    "import importlib"
   ]
  },
  {
   "cell_type": "code",
   "execution_count": 6,
   "id": "fd2511f9",
   "metadata": {},
   "outputs": [],
   "source": [
    "# sm_version = sagemaker.__version__\n",
    "# major, minor, patch = sm_version.split('.')\n",
    "# if int(major) < 2 or int(minor) < 144:\n",
    "#     subprocess.check_call([sys.executable, '-m', 'pip', 'install', 'sagemaker==2.144.0'])\n",
    "#     importlib.reload(sagemaker)"
   ]
  },
  {
   "cell_type": "code",
   "execution_count": 3,
   "id": "7602917a",
   "metadata": {},
   "outputs": [],
   "source": [
    "logger = logging.getLogger('__name__')\n",
    "logger.setLevel(logging.DEBUG)\n",
    "logger.addHandler(logging.StreamHandler())"
   ]
  },
  {
   "cell_type": "code",
   "execution_count": 7,
   "id": "6717ca10",
   "metadata": {},
   "outputs": [],
   "source": [
    "faker = Faker()\n",
    "faker.seed_locale('en_US', 0)"
   ]
  },
  {
   "cell_type": "code",
   "execution_count": 8,
   "id": "41f0a8a9",
   "metadata": {},
   "outputs": [],
   "source": [
    "SEED = 123\n",
    "random.seed(SEED)\n",
    "np.random.seed(SEED)\n",
    "faker.seed_instance(SEED)"
   ]
  },
  {
   "cell_type": "code",
   "execution_count": 9,
   "id": "47c1d8dc",
   "metadata": {},
   "outputs": [],
   "source": [
    "TOTAL_UNIQUE_TRANSACTIONS = 5400000 # 5.4 Million\n",
    "TOTAL_UNIQUE_USERS = 10000\n",
    "TOTAL_UNIQUE_LOCATION=20000\n",
    "\n",
    "BUCKET = 'chime-fs-demo'"
   ]
  },
  {
   "cell_type": "code",
   "execution_count": 39,
   "id": "5e0bd8fd",
   "metadata": {},
   "outputs": [
    {
     "name": "stdout",
     "output_type": "stream",
     "text": [
      "Edremit\n"
     ]
    }
   ],
   "source": [
    "loc_id_1 = faker.location_on_land()\n",
    "print(loc_id_1[2])"
   ]
  },
  {
   "cell_type": "code",
   "execution_count": 10,
   "id": "7685dba4",
   "metadata": {},
   "outputs": [],
   "source": [
    "def generate_fake_coordinate(n: int) -> list:\n",
    "    loc_ids = set()\n",
    "    for _ in range(n):\n",
    "        loc_id = faker.latlng()\n",
    "        loc_ids.add(loc_id)\n",
    "    return list(loc_ids) \n",
    "def generate_fake_name(n: int) -> list:\n",
    "    loc_ids = set()\n",
    "    for _ in range(n):\n",
    "        loc_id = faker.name()\n",
    "        loc_ids.add(loc_id)\n",
    "    return list(loc_ids) "
   ]
  },
  {
   "cell_type": "code",
   "execution_count": 44,
   "id": "593709c3",
   "metadata": {},
   "outputs": [],
   "source": [
    "# locations = generate_fake_coordinate(TOTAL_UNIQUE_LOCATION)"
   ]
  },
  {
   "cell_type": "code",
   "execution_count": 11,
   "id": "b42e7163",
   "metadata": {},
   "outputs": [],
   "source": [
    "names = generate_fake_name(TOTAL_UNIQUE_USERS)"
   ]
  },
  {
   "cell_type": "code",
   "execution_count": 12,
   "id": "c9bc5975",
   "metadata": {},
   "outputs": [
    {
     "data": {
      "text/plain": [
       "9000"
      ]
     },
     "execution_count": 12,
     "metadata": {},
     "output_type": "execute_result"
    }
   ],
   "source": [
    "len(names[0:9000])"
   ]
  },
  {
   "cell_type": "code",
   "execution_count": 13,
   "id": "d92c0c62",
   "metadata": {},
   "outputs": [],
   "source": [
    "name_cut_list = names[0:9000]"
   ]
  },
  {
   "cell_type": "code",
   "execution_count": 14,
   "id": "3889a6dc",
   "metadata": {},
   "outputs": [
    {
     "ename": "AssertionError",
     "evalue": "",
     "output_type": "error",
     "traceback": [
      "\u001b[0;31m---------------------------------------------------------------------------\u001b[0m",
      "\u001b[0;31mAssertionError\u001b[0m                            Traceback (most recent call last)",
      "Cell \u001b[0;32mIn[14], line 1\u001b[0m\n\u001b[0;32m----> 1\u001b[0m \u001b[38;5;28;01massert\u001b[39;00m \u001b[38;5;28mlen\u001b[39m(names) \u001b[38;5;241m==\u001b[39m TOTAL_UNIQUE_USERS \n",
      "\u001b[0;31mAssertionError\u001b[0m: "
     ]
    }
   ],
   "source": [
    "assert len(names) == TOTAL_UNIQUE_USERS "
   ]
  },
  {
   "cell_type": "code",
   "execution_count": 15,
   "id": "94d0f8d7",
   "metadata": {},
   "outputs": [
    {
     "data": {
      "text/plain": [
       "['Thomas Burton', 'Angela Adams', 'Amy Chan', 'Angela Nolan', 'Terry Wright']"
      ]
     },
     "execution_count": 15,
     "metadata": {},
     "output_type": "execute_result"
    }
   ],
   "source": [
    "# inspect random sample of credit card numbers \n",
    "random.sample(names, 5)"
   ]
  },
  {
   "cell_type": "code",
   "execution_count": 16,
   "id": "68f2ac0a",
   "metadata": {},
   "outputs": [
    {
     "data": {
      "text/plain": [
       "str"
      ]
     },
     "execution_count": 16,
     "metadata": {},
     "output_type": "execute_result"
    }
   ],
   "source": [
    "type(names[0])"
   ]
  },
  {
   "cell_type": "code",
   "execution_count": 17,
   "id": "80026e7f",
   "metadata": {},
   "outputs": [],
   "source": [
    "from sagemaker.feature_store.feature_group import FeatureGroup\n",
    "LOCAL_DIR = './data'\n",
    "BUCKET = 'chime-fs-demo'\n",
    "PREFIX = 'training'\n",
    "\n",
    "sagemaker_role = sagemaker.get_execution_role()\n",
    "s3_client = boto3.Session().client('s3')\n",
    "sagemaker_session = sagemaker.Session()\n",
    "region = sagemaker_session.boto_region_name\n",
    "feature_group_name = 'cc-agg-batch-chime-fg'"
   ]
  },
  {
   "cell_type": "code",
   "execution_count": 18,
   "id": "8dce8e3f",
   "metadata": {},
   "outputs": [],
   "source": [
    "boto_session = boto3.Session(region_name=region)\n",
    "sagemaker_client = boto_session.client(service_name='sagemaker', region_name=region)\n",
    "featurestore_runtime = boto_session.client(service_name='sagemaker-featurestore-runtime', region_name=region)\n",
    "sagemaker_runtime = boto_session.client(service_name='sagemaker', region_name=region)\n",
    "feature_store_session = sagemaker.Session(boto_session=boto_session, \n",
    "                                          sagemaker_client=sagemaker_client, \n",
    "                                          sagemaker_featurestore_runtime_client=featurestore_runtime)\n"
   ]
  },
  {
   "cell_type": "code",
   "execution_count": 19,
   "id": "6c19e362",
   "metadata": {},
   "outputs": [],
   "source": [
    "fg = FeatureGroup(name=feature_group_name, sagemaker_session=feature_store_session)  "
   ]
  },
  {
   "cell_type": "code",
   "execution_count": 20,
   "id": "c9de9da1",
   "metadata": {},
   "outputs": [],
   "source": [
    "query = fg.athena_query()\n",
    "table = query.table_name"
   ]
  },
  {
   "cell_type": "code",
   "execution_count": 21,
   "id": "4c60d29f",
   "metadata": {},
   "outputs": [
    {
     "name": "stdout",
     "output_type": "stream",
     "text": [
      "Stored 'query_string' (str)\n"
     ]
    },
    {
     "data": {
      "text/plain": [
       "'SELECT * FROM \"cc_agg_batch_chime_fg_1680474349\"'"
      ]
     },
     "execution_count": 21,
     "metadata": {},
     "output_type": "execute_result"
    }
   ],
   "source": [
    "query_string = f'SELECT * FROM \"{table}\"'\n",
    "%store query_string\n",
    "query_string"
   ]
  },
  {
   "cell_type": "code",
   "execution_count": 22,
   "id": "196fa6ea",
   "metadata": {},
   "outputs": [
    {
     "name": "stdout",
     "output_type": "stream",
     "text": [
      "Athena query output location: \n",
      "s3://chime-fs-demo/sagemaker-fs-demo/query_results/\n"
     ]
    }
   ],
   "source": [
    "query_results= 'sagemaker-fs-demo'\n",
    "output_location = f's3://{BUCKET}/{query_results}/query_results/'\n",
    "print(f'Athena query output location: \\n{output_location}')"
   ]
  },
  {
   "cell_type": "code",
   "execution_count": 23,
   "id": "16071886",
   "metadata": {},
   "outputs": [
    {
     "data": {
      "text/html": [
       "<div>\n",
       "<style scoped>\n",
       "    .dataframe tbody tr th:only-of-type {\n",
       "        vertical-align: middle;\n",
       "    }\n",
       "\n",
       "    .dataframe tbody tr th {\n",
       "        vertical-align: top;\n",
       "    }\n",
       "\n",
       "    .dataframe thead th {\n",
       "        text-align: right;\n",
       "    }\n",
       "</style>\n",
       "<table border=\"1\" class=\"dataframe\">\n",
       "  <thead>\n",
       "    <tr style=\"text-align: right;\">\n",
       "      <th></th>\n",
       "      <th>cc_num</th>\n",
       "      <th>num_trans_last_1w</th>\n",
       "      <th>avg_amt_last_1w</th>\n",
       "      <th>trans_time</th>\n",
       "      <th>name</th>\n",
       "      <th>write_time</th>\n",
       "      <th>api_invocation_time</th>\n",
       "      <th>is_deleted</th>\n",
       "    </tr>\n",
       "  </thead>\n",
       "  <tbody>\n",
       "    <tr>\n",
       "      <th>0</th>\n",
       "      <td>4079582416101330</td>\n",
       "      <td>26</td>\n",
       "      <td>129.40</td>\n",
       "      <td>1.680479e+09</td>\n",
       "      <td>NaN</td>\n",
       "      <td>2023-04-02 23:46:36.597</td>\n",
       "      <td>2023-04-02 23:41:38.000</td>\n",
       "      <td>False</td>\n",
       "    </tr>\n",
       "    <tr>\n",
       "      <th>1</th>\n",
       "      <td>4087415155834227</td>\n",
       "      <td>20</td>\n",
       "      <td>421.96</td>\n",
       "      <td>1.680479e+09</td>\n",
       "      <td>NaN</td>\n",
       "      <td>2023-04-02 23:46:36.597</td>\n",
       "      <td>2023-04-02 23:41:38.000</td>\n",
       "      <td>False</td>\n",
       "    </tr>\n",
       "    <tr>\n",
       "      <th>2</th>\n",
       "      <td>4119791018014823</td>\n",
       "      <td>28</td>\n",
       "      <td>1230.24</td>\n",
       "      <td>1.680479e+09</td>\n",
       "      <td>NaN</td>\n",
       "      <td>2023-04-02 23:46:36.597</td>\n",
       "      <td>2023-04-02 23:41:38.000</td>\n",
       "      <td>False</td>\n",
       "    </tr>\n",
       "    <tr>\n",
       "      <th>3</th>\n",
       "      <td>4145540560149281</td>\n",
       "      <td>29</td>\n",
       "      <td>460.23</td>\n",
       "      <td>1.680479e+09</td>\n",
       "      <td>NaN</td>\n",
       "      <td>2023-04-02 23:46:36.597</td>\n",
       "      <td>2023-04-02 23:41:38.000</td>\n",
       "      <td>False</td>\n",
       "    </tr>\n",
       "    <tr>\n",
       "      <th>4</th>\n",
       "      <td>4449167553784891</td>\n",
       "      <td>30</td>\n",
       "      <td>990.43</td>\n",
       "      <td>1.680479e+09</td>\n",
       "      <td>NaN</td>\n",
       "      <td>2023-04-02 23:46:36.597</td>\n",
       "      <td>2023-04-02 23:41:39.000</td>\n",
       "      <td>False</td>\n",
       "    </tr>\n",
       "  </tbody>\n",
       "</table>\n",
       "</div>"
      ],
      "text/plain": [
       "             cc_num  num_trans_last_1w  avg_amt_last_1w    trans_time  name  \\\n",
       "0  4079582416101330                 26           129.40  1.680479e+09   NaN   \n",
       "1  4087415155834227                 20           421.96  1.680479e+09   NaN   \n",
       "2  4119791018014823                 28          1230.24  1.680479e+09   NaN   \n",
       "3  4145540560149281                 29           460.23  1.680479e+09   NaN   \n",
       "4  4449167553784891                 30           990.43  1.680479e+09   NaN   \n",
       "\n",
       "                write_time      api_invocation_time  is_deleted  \n",
       "0  2023-04-02 23:46:36.597  2023-04-02 23:41:38.000       False  \n",
       "1  2023-04-02 23:46:36.597  2023-04-02 23:41:38.000       False  \n",
       "2  2023-04-02 23:46:36.597  2023-04-02 23:41:38.000       False  \n",
       "3  2023-04-02 23:46:36.597  2023-04-02 23:41:38.000       False  \n",
       "4  2023-04-02 23:46:36.597  2023-04-02 23:41:39.000       False  "
      ]
     },
     "execution_count": 23,
     "metadata": {},
     "output_type": "execute_result"
    }
   ],
   "source": [
    "query.run(query_string=query_string, output_location=output_location)\n",
    "query.wait()\n",
    "df = query.as_dataframe()\n",
    "df.head(5)"
   ]
  },
  {
   "cell_type": "code",
   "execution_count": 24,
   "id": "203ba1ec",
   "metadata": {},
   "outputs": [],
   "source": [
    "new_df = df.drop(['trans_time','write_time','api_invocation_time','is_deleted'],axis=1).head(9000)"
   ]
  },
  {
   "cell_type": "code",
   "execution_count": 25,
   "id": "2fe34f5c",
   "metadata": {},
   "outputs": [],
   "source": [
    "import time\n",
    "current_time_sec = int(round(time.time()))\n",
    "new_df['trans_time'] = pd.Series([current_time_sec] * len(new_df), dtype=\"float64\")"
   ]
  },
  {
   "cell_type": "code",
   "execution_count": 26,
   "id": "8412a287",
   "metadata": {},
   "outputs": [],
   "source": [
    "new_df['name'] = name_cut_list"
   ]
  },
  {
   "cell_type": "code",
   "execution_count": 27,
   "id": "6ca1fc8b",
   "metadata": {},
   "outputs": [
    {
     "data": {
      "text/html": [
       "<div>\n",
       "<style scoped>\n",
       "    .dataframe tbody tr th:only-of-type {\n",
       "        vertical-align: middle;\n",
       "    }\n",
       "\n",
       "    .dataframe tbody tr th {\n",
       "        vertical-align: top;\n",
       "    }\n",
       "\n",
       "    .dataframe thead th {\n",
       "        text-align: right;\n",
       "    }\n",
       "</style>\n",
       "<table border=\"1\" class=\"dataframe\">\n",
       "  <thead>\n",
       "    <tr style=\"text-align: right;\">\n",
       "      <th></th>\n",
       "      <th>cc_num</th>\n",
       "      <th>num_trans_last_1w</th>\n",
       "      <th>avg_amt_last_1w</th>\n",
       "      <th>name</th>\n",
       "      <th>trans_time</th>\n",
       "    </tr>\n",
       "  </thead>\n",
       "  <tbody>\n",
       "    <tr>\n",
       "      <th>0</th>\n",
       "      <td>4079582416101330</td>\n",
       "      <td>26</td>\n",
       "      <td>129.40</td>\n",
       "      <td>Scott Fuller</td>\n",
       "      <td>1.680792e+09</td>\n",
       "    </tr>\n",
       "    <tr>\n",
       "      <th>1</th>\n",
       "      <td>4087415155834227</td>\n",
       "      <td>20</td>\n",
       "      <td>421.96</td>\n",
       "      <td>Danny Mason</td>\n",
       "      <td>1.680792e+09</td>\n",
       "    </tr>\n",
       "    <tr>\n",
       "      <th>2</th>\n",
       "      <td>4119791018014823</td>\n",
       "      <td>28</td>\n",
       "      <td>1230.24</td>\n",
       "      <td>Joshua Wong</td>\n",
       "      <td>1.680792e+09</td>\n",
       "    </tr>\n",
       "    <tr>\n",
       "      <th>3</th>\n",
       "      <td>4145540560149281</td>\n",
       "      <td>29</td>\n",
       "      <td>460.23</td>\n",
       "      <td>Gerald Miller</td>\n",
       "      <td>1.680792e+09</td>\n",
       "    </tr>\n",
       "    <tr>\n",
       "      <th>4</th>\n",
       "      <td>4449167553784891</td>\n",
       "      <td>30</td>\n",
       "      <td>990.43</td>\n",
       "      <td>Michele Crosby</td>\n",
       "      <td>1.680792e+09</td>\n",
       "    </tr>\n",
       "  </tbody>\n",
       "</table>\n",
       "</div>"
      ],
      "text/plain": [
       "             cc_num  num_trans_last_1w  avg_amt_last_1w            name  \\\n",
       "0  4079582416101330                 26           129.40    Scott Fuller   \n",
       "1  4087415155834227                 20           421.96     Danny Mason   \n",
       "2  4119791018014823                 28          1230.24     Joshua Wong   \n",
       "3  4145540560149281                 29           460.23   Gerald Miller   \n",
       "4  4449167553784891                 30           990.43  Michele Crosby   \n",
       "\n",
       "     trans_time  \n",
       "0  1.680792e+09  \n",
       "1  1.680792e+09  \n",
       "2  1.680792e+09  \n",
       "3  1.680792e+09  \n",
       "4  1.680792e+09  "
      ]
     },
     "execution_count": 27,
     "metadata": {},
     "output_type": "execute_result"
    }
   ],
   "source": [
    "new_df.head(5)"
   ]
  },
  {
   "cell_type": "code",
   "execution_count": 28,
   "id": "76fc75af",
   "metadata": {},
   "outputs": [
    {
     "data": {
      "text/plain": [
       "9000"
      ]
     },
     "execution_count": 28,
     "metadata": {},
     "output_type": "execute_result"
    }
   ],
   "source": [
    "len(new_df)"
   ]
  },
  {
   "cell_type": "code",
   "execution_count": 29,
   "id": "6525f54a",
   "metadata": {},
   "outputs": [],
   "source": [
    "new_df['name'] = new_df['name'].astype(\"str\").astype(\"string\")"
   ]
  },
  {
   "cell_type": "code",
   "execution_count": 30,
   "id": "801d37a2",
   "metadata": {},
   "outputs": [
    {
     "data": {
      "text/plain": [
       "cc_num                 int64\n",
       "num_trans_last_1w      int64\n",
       "avg_amt_last_1w      float64\n",
       "name                  string\n",
       "trans_time           float64\n",
       "dtype: object"
      ]
     },
     "execution_count": 30,
     "metadata": {},
     "output_type": "execute_result"
    }
   ],
   "source": [
    "new_df.dtypes"
   ]
  },
  {
   "cell_type": "code",
   "execution_count": 59,
   "id": "92b0dc47",
   "metadata": {},
   "outputs": [
    {
     "name": "stdout",
     "output_type": "stream",
     "text": [
      "CPU times: user 2 µs, sys: 0 ns, total: 2 µs\n",
      "Wall time: 5.48 µs\n"
     ]
    },
    {
     "data": {
      "text/plain": [
       "{'FeatureGroupArn': 'arn:aws:sagemaker:us-east-1:461312420708:feature-group/cc-agg-batch-chime-fg',\n",
       " 'ResponseMetadata': {'RequestId': '47c763fa-bcc1-4340-9417-9fc60cad777c',\n",
       "  'HTTPStatusCode': 200,\n",
       "  'HTTPHeaders': {'x-amzn-requestid': '47c763fa-bcc1-4340-9417-9fc60cad777c',\n",
       "   'content-type': 'application/x-amz-json-1.1',\n",
       "   'content-length': '98',\n",
       "   'date': 'Thu, 06 Apr 2023 06:49:16 GMT'},\n",
       "  'RetryAttempts': 0}}"
      ]
     },
     "execution_count": 59,
     "metadata": {},
     "output_type": "execute_result"
    }
   ],
   "source": [
    "# %time\n",
    "# sagemaker_runtime.update_feature_group(\n",
    "#     FeatureGroupName=feature_group_name,\n",
    "#     FeatureAdditions=[\n",
    "#         {\"FeatureName\": \"name\", \"FeatureType\": \"String\"}\n",
    "#     ])"
   ]
  },
  {
   "cell_type": "code",
   "execution_count": 119,
   "id": "c6ea43d5",
   "metadata": {},
   "outputs": [],
   "source": [
    "# new_df['trans_time'] = new_df['trans_time'].astype('string')\n",
    "# new_df['cc_num'] = new_df['cc_num'].astype('string')\n",
    "# new_df['num_trans_last_1w'] = new_df['num_trans_last_1w'].astype('string')\n",
    "# new_df['avg_amt_last_1w'] = new_df['avg_amt_last_1w'].astype('string')"
   ]
  },
  {
   "cell_type": "code",
   "execution_count": 120,
   "id": "77757c28",
   "metadata": {},
   "outputs": [
    {
     "data": {
      "text/plain": [
       "cc_num               string\n",
       "num_trans_last_1w    string\n",
       "avg_amt_last_1w      string\n",
       "trans_time           string\n",
       "name                 string\n",
       "dtype: object"
      ]
     },
     "execution_count": 120,
     "metadata": {},
     "output_type": "execute_result"
    }
   ],
   "source": [
    "new_df.dtypes"
   ]
  },
  {
   "cell_type": "code",
   "execution_count": 84,
   "id": "601db34e",
   "metadata": {},
   "outputs": [
    {
     "data": {
      "text/plain": [
       "cc_num               0\n",
       "num_trans_last_1w    0\n",
       "avg_amt_last_1w      0\n",
       "trans_time           0\n",
       "name                 0\n",
       "dtype: int64"
      ]
     },
     "execution_count": 84,
     "metadata": {},
     "output_type": "execute_result"
    }
   ],
   "source": [
    "new_df.isnull().sum()"
   ]
  },
  {
   "cell_type": "code",
   "execution_count": 105,
   "id": "2e1e8740",
   "metadata": {},
   "outputs": [
    {
     "name": "stdout",
     "output_type": "stream",
     "text": [
      "CPU times: user 2 µs, sys: 0 ns, total: 2 µs\n",
      "Wall time: 9.3 µs\n"
     ]
    }
   ],
   "source": [
    "%%time\n",
    "# logger.info(f'Ingesting data into feature group: {fg.name} ...')\n",
    "# fg.ingest(data_frame=new_df, max_workers=3, wait=True)\n",
    "# logger.info(f'{len(new_df)} customer records ingested into feature group: {fg.name}')"
   ]
  },
  {
   "cell_type": "code",
   "execution_count": 106,
   "id": "0117e898",
   "metadata": {},
   "outputs": [],
   "source": [
    "sample_feature_group_name =\"cc-agg-update-test-1\"\n",
    "sagemaker_session = sagemaker.Session()\n",
    "sample_feature_group = FeatureGroup(name=sample_feature_group_name, sagemaker_session=sagemaker_session)"
   ]
  },
  {
   "cell_type": "code",
   "execution_count": 132,
   "id": "fec87b12",
   "metadata": {},
   "outputs": [],
   "source": [
    "sample_df = pd.DataFrame([['4016674905670309', 1.680478898E9, \"29\", \"603.74\",\"Savannah Willis\"]], \n",
    "                  columns=['cc_num', 'trans_time', 'num_trans_last_1w', 'avg_amt_last_1w', 'name'])\n",
    "\n",
    "\n",
    "def cast_object_to_string(data_frame):\n",
    "    for label in data_frame.columns:\n",
    "        if data_frame.dtypes[label] == 'object':\n",
    "            data_frame[label] = data_frame[label].astype(\"str\").astype(\"string\")\n",
    "\n",
    "cast_object_to_string(sample_df) \n",
    "\n",
    "# sample_df['amount'] = sample_df['amount'].astype('string')\n",
    "# sample_df['amt_ratio1'] = sample_df['amt_ratio1'].astype('string')\n",
    "# sample_df['amt_ratio2'] = sample_df['amt_ratio2'].astype('string')\n",
    "# sample_df['count_ratio'] = sample_df['count_ratio'].astype('string')"
   ]
  },
  {
   "cell_type": "code",
   "execution_count": 134,
   "id": "c0c4238d",
   "metadata": {},
   "outputs": [
    {
     "data": {
      "text/plain": [
       "[FeatureDefinition(feature_name='cc_num', feature_type=<FeatureTypeEnum.STRING: 'String'>),\n",
       " FeatureDefinition(feature_name='trans_time', feature_type=<FeatureTypeEnum.FRACTIONAL: 'Fractional'>),\n",
       " FeatureDefinition(feature_name='num_trans_last_1w', feature_type=<FeatureTypeEnum.STRING: 'String'>),\n",
       " FeatureDefinition(feature_name='avg_amt_last_1w', feature_type=<FeatureTypeEnum.STRING: 'String'>),\n",
       " FeatureDefinition(feature_name='name', feature_type=<FeatureTypeEnum.STRING: 'String'>)]"
      ]
     },
     "execution_count": 134,
     "metadata": {},
     "output_type": "execute_result"
    }
   ],
   "source": [
    "sample_feature_group.load_feature_definitions(data_frame=sample_df)"
   ]
  },
  {
   "cell_type": "code",
   "execution_count": 133,
   "id": "4a84bd0f",
   "metadata": {},
   "outputs": [],
   "source": [
    "sample_feature_group.delete()"
   ]
  },
  {
   "cell_type": "code",
   "execution_count": 135,
   "id": "c47b9615",
   "metadata": {},
   "outputs": [
    {
     "data": {
      "text/plain": [
       "{'FeatureGroupArn': 'arn:aws:sagemaker:us-east-1:461312420708:feature-group/cc-agg-update-test-1',\n",
       " 'ResponseMetadata': {'RequestId': '0d936cf7-3851-491a-bdab-20dae9d4c5a8',\n",
       "  'HTTPStatusCode': 200,\n",
       "  'HTTPHeaders': {'x-amzn-requestid': '0d936cf7-3851-491a-bdab-20dae9d4c5a8',\n",
       "   'content-type': 'application/x-amz-json-1.1',\n",
       "   'content-length': '97',\n",
       "   'date': 'Thu, 06 Apr 2023 08:09:22 GMT'},\n",
       "  'RetryAttempts': 0}}"
      ]
     },
     "execution_count": 135,
     "metadata": {},
     "output_type": "execute_result"
    }
   ],
   "source": [
    "role = sagemaker.get_execution_role()\n",
    "default_bucket='chime-fs-demo'\n",
    "prefix = 'chime-fs'\n",
    "sample_feature_group.create(s3_uri=f's3://{default_bucket}/{prefix}', \n",
    "                               record_identifier_name='cc_num', \n",
    "                               event_time_feature_name='trans_time', \n",
    "                               role_arn=role, \n",
    "                               enable_online_store=False)"
   ]
  },
  {
   "cell_type": "code",
   "execution_count": 128,
   "id": "215752eb",
   "metadata": {},
   "outputs": [],
   "source": [
    "# def wait_for_feature_group_creation_complete(feature_group):\n",
    "#     status = feature_group.describe().get('FeatureGroupStatus')\n",
    "#     print(f'Initial status: {status}')\n",
    "#     while status == 'Creating':\n",
    "#         logger.info(f'Waiting for feature group: {feature_group.name} to be created ...')\n",
    "#         time.sleep(5)\n",
    "#         status = feature_group.describe().get('FeatureGroupStatus')\n",
    "#     if status != 'Created':\n",
    "#         raise SystemExit(f'Failed to create feature group {feature_group.name}: {status}')\n",
    "#     logger.info(f'FeatureGroup {feature_group.name} was successfully created.')"
   ]
  },
  {
   "cell_type": "code",
   "execution_count": 136,
   "id": "471b8d35",
   "metadata": {},
   "outputs": [
    {
     "name": "stderr",
     "output_type": "stream",
     "text": [
      "Waiting for feature group: cc-agg-update-test-1 to be created ...\n"
     ]
    },
    {
     "name": "stdout",
     "output_type": "stream",
     "text": [
      "Initial status: Creating\n"
     ]
    },
    {
     "name": "stderr",
     "output_type": "stream",
     "text": [
      "Waiting for feature group: cc-agg-update-test-1 to be created ...\n",
      "Waiting for feature group: cc-agg-update-test-1 to be created ...\n",
      "FeatureGroup cc-agg-update-test-1 was successfully created.\n"
     ]
    }
   ],
   "source": [
    "wait_for_feature_group_creation_complete(sample_feature_group)"
   ]
  },
  {
   "cell_type": "code",
   "execution_count": 25,
   "id": "22b2723f",
   "metadata": {},
   "outputs": [],
   "source": [
    "if sagemaker.__version__ < '2.144.':\n",
    "    subprocess.check_call([sys.executable, '-m', 'pip', 'install', 'sagemaker==2.144.0'])\n",
    "    importlib.reload(sagemaker)"
   ]
  },
  {
   "cell_type": "code",
   "execution_count": 31,
   "id": "917cd9d3",
   "metadata": {},
   "outputs": [],
   "source": [
    "# !pip install --upgrade sagemaker"
   ]
  },
  {
   "cell_type": "code",
   "execution_count": 4,
   "id": "0e091503",
   "metadata": {},
   "outputs": [
    {
     "name": "stderr",
     "output_type": "stream",
     "text": [
      "Using SageMaker version: 2.144.0\n",
      "Using Pandas version: 1.5.2\n"
     ]
    }
   ],
   "source": [
    "logger.info(f'Using SageMaker version: {sagemaker.__version__}')\n",
    "logger.info(f'Using Pandas version: {pd.__version__}')"
   ]
  },
  {
   "cell_type": "code",
   "execution_count": 5,
   "id": "673a294e",
   "metadata": {},
   "outputs": [
    {
     "name": "stdout",
     "output_type": "stream",
     "text": [
      "Python 3.10.8\r\n"
     ]
    }
   ],
   "source": [
    "!python --version"
   ]
  },
  {
   "cell_type": "code",
   "execution_count": 43,
   "id": "faf18aee",
   "metadata": {},
   "outputs": [],
   "source": [
    "sample_feature_group =FeatureGroup('cc-agg-batch-chime-fg')"
   ]
  },
  {
   "cell_type": "code",
   "execution_count": 33,
   "id": "9a7d0d33",
   "metadata": {},
   "outputs": [
    {
     "name": "stderr",
     "output_type": "stream",
     "text": [
      "Ingesting data into feature group: cc-agg-batch-chime-fg ...\n"
     ]
    },
    {
     "ename": "NameError",
     "evalue": "name 'sample_df' is not defined",
     "output_type": "error",
     "traceback": [
      "\u001b[0;31m---------------------------------------------------------------------------\u001b[0m",
      "\u001b[0;31mNameError\u001b[0m                                 Traceback (most recent call last)",
      "File \u001b[0;32m<timed exec>:3\u001b[0m\n",
      "\u001b[0;31mNameError\u001b[0m: name 'sample_df' is not defined"
     ]
    }
   ],
   "source": [
    "%%time\n",
    "\n",
    "logger.info(f'Ingesting data into feature group: {sample_feature_group.name} ...')\n",
    "sample_feature_group.ingest(data_frame=new_df, max_processes=16, wait=True)\n",
    "logger.info(f'{len(new_df)} sample records ingested into feature group: {sample_feature_group.name}')"
   ]
  },
  {
   "cell_type": "code",
   "execution_count": 34,
   "id": "3aab9157",
   "metadata": {},
   "outputs": [
    {
     "name": "stderr",
     "output_type": "stream",
     "text": [
      "9000 sample records ingested into feature group: cc-agg-batch-chime-fg\n"
     ]
    }
   ],
   "source": [
    "logger.info(f'{len(new_df)} sample records ingested into feature group: {sample_feature_group.name}')"
   ]
  },
  {
   "cell_type": "code",
   "execution_count": 44,
   "id": "0b3d2910",
   "metadata": {},
   "outputs": [],
   "source": [
    "featurestore_runtime_client = sagemaker_session.boto_session.client('sagemaker-featurestore-runtime', region_name=region)"
   ]
  },
  {
   "cell_type": "code",
   "execution_count": 50,
   "id": "3599c56d",
   "metadata": {},
   "outputs": [
    {
     "name": "stderr",
     "output_type": "stream",
     "text": [
      "ccnum=4079582416101330\n"
     ]
    }
   ],
   "source": [
    "cc_num= '4079582416101330'\n",
    "logger.info(f'ccnum={cc_num}') "
   ]
  },
  {
   "cell_type": "code",
   "execution_count": 57,
   "id": "66335e20",
   "metadata": {},
   "outputs": [
    {
     "data": {
      "text/plain": [
       "{'ResponseMetadata': {'RequestId': '26246d63-48ce-489e-8200-0ac5235e6bfd',\n",
       "  'HTTPStatusCode': 200,\n",
       "  'HTTPHeaders': {'x-amzn-requestid': '26246d63-48ce-489e-8200-0ac5235e6bfd',\n",
       "   'content-type': 'application/json',\n",
       "   'content-length': '301',\n",
       "   'date': 'Thu, 06 Apr 2023 22:42:47 GMT'},\n",
       "  'RetryAttempts': 0},\n",
       " 'Record': [{'FeatureName': 'cc_num', 'ValueAsString': '4079582416101330'},\n",
       "  {'FeatureName': 'num_trans_last_1w', 'ValueAsString': '26'},\n",
       "  {'FeatureName': 'avg_amt_last_1w', 'ValueAsString': '129.4'},\n",
       "  {'FeatureName': 'trans_time', 'ValueAsString': '1680792064.0'},\n",
       "  {'FeatureName': 'name', 'ValueAsString': 'Scott Fuller'}]}"
      ]
     },
     "execution_count": 57,
     "metadata": {},
     "output_type": "execute_result"
    }
   ],
   "source": [
    "feature_record = featurestore_runtime_client.get_record(FeatureGroupName='cc-agg-batch-chime-fg', \n",
    "                                                        RecordIdentifierValueAsString=cc_num)\n",
    "feature_record"
   ]
  }
 ],
 "metadata": {
  "kernelspec": {
   "display_name": "conda_python3",
   "language": "python",
   "name": "conda_python3"
  },
  "language_info": {
   "codemirror_mode": {
    "name": "ipython",
    "version": 3
   },
   "file_extension": ".py",
   "mimetype": "text/x-python",
   "name": "python",
   "nbconvert_exporter": "python",
   "pygments_lexer": "ipython3",
   "version": "3.10.8"
  }
 },
 "nbformat": 4,
 "nbformat_minor": 5
}
