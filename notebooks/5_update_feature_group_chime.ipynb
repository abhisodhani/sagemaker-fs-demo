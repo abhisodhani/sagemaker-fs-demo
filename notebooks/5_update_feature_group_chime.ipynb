{
 "cells": [
  {
   "cell_type": "code",
   "execution_count": 1,
   "id": "e80820a7",
   "metadata": {},
   "outputs": [
    {
     "name": "stdout",
     "output_type": "stream",
     "text": [
      "Looking in indexes: https://pypi.org/simple, https://pip.repos.neuron.amazonaws.com\n",
      "Requirement already satisfied: Faker in /home/ec2-user/anaconda3/envs/python3/lib/python3.10/site-packages (18.4.0)\n",
      "Requirement already satisfied: python-dateutil>=2.4 in /home/ec2-user/anaconda3/envs/python3/lib/python3.10/site-packages (from Faker) (2.8.2)\n",
      "Requirement already satisfied: six>=1.5 in /home/ec2-user/anaconda3/envs/python3/lib/python3.10/site-packages (from python-dateutil>=2.4->Faker) (1.16.0)\n",
      "Looking in indexes: https://pypi.org/simple, https://pip.repos.neuron.amazonaws.com\n",
      "Requirement already satisfied: sagemaker in /home/ec2-user/anaconda3/envs/python3/lib/python3.10/site-packages (2.145.0)\n",
      "Requirement already satisfied: PyYAML==5.4.1 in /home/ec2-user/anaconda3/envs/python3/lib/python3.10/site-packages (from sagemaker) (5.4.1)\n",
      "Requirement already satisfied: packaging>=20.0 in /home/ec2-user/anaconda3/envs/python3/lib/python3.10/site-packages (from sagemaker) (21.3)\n",
      "Requirement already satisfied: attrs<23,>=20.3.0 in /home/ec2-user/anaconda3/envs/python3/lib/python3.10/site-packages (from sagemaker) (22.2.0)\n",
      "Requirement already satisfied: pandas in /home/ec2-user/anaconda3/envs/python3/lib/python3.10/site-packages (from sagemaker) (1.5.2)\n",
      "Requirement already satisfied: importlib-metadata<5.0,>=1.4.0 in /home/ec2-user/anaconda3/envs/python3/lib/python3.10/site-packages (from sagemaker) (4.13.0)\n",
      "Requirement already satisfied: protobuf3-to-dict<1.0,>=0.1.5 in /home/ec2-user/anaconda3/envs/python3/lib/python3.10/site-packages (from sagemaker) (0.1.5)\n",
      "Requirement already satisfied: smdebug-rulesconfig==1.0.1 in /home/ec2-user/anaconda3/envs/python3/lib/python3.10/site-packages (from sagemaker) (1.0.1)\n",
      "Requirement already satisfied: numpy<2.0,>=1.9.0 in /home/ec2-user/anaconda3/envs/python3/lib/python3.10/site-packages (from sagemaker) (1.22.3)\n",
      "Requirement already satisfied: jsonschema in /home/ec2-user/anaconda3/envs/python3/lib/python3.10/site-packages (from sagemaker) (3.2.0)\n",
      "Requirement already satisfied: platformdirs in /home/ec2-user/anaconda3/envs/python3/lib/python3.10/site-packages (from sagemaker) (2.6.2)\n",
      "Requirement already satisfied: protobuf<4.0,>=3.1 in /home/ec2-user/anaconda3/envs/python3/lib/python3.10/site-packages (from sagemaker) (3.20.3)\n",
      "Requirement already satisfied: schema in /home/ec2-user/anaconda3/envs/python3/lib/python3.10/site-packages (from sagemaker) (0.7.5)\n",
      "Requirement already satisfied: boto3<2.0,>=1.26.28 in /home/ec2-user/anaconda3/envs/python3/lib/python3.10/site-packages (from sagemaker) (1.26.71)\n",
      "Requirement already satisfied: google-pasta in /home/ec2-user/anaconda3/envs/python3/lib/python3.10/site-packages (from sagemaker) (0.2.0)\n",
      "Requirement already satisfied: pathos in /home/ec2-user/anaconda3/envs/python3/lib/python3.10/site-packages (from sagemaker) (0.3.0)\n",
      "Requirement already satisfied: s3transfer<0.7.0,>=0.6.0 in /home/ec2-user/anaconda3/envs/python3/lib/python3.10/site-packages (from boto3<2.0,>=1.26.28->sagemaker) (0.6.0)\n",
      "Requirement already satisfied: botocore<1.30.0,>=1.29.71 in /home/ec2-user/anaconda3/envs/python3/lib/python3.10/site-packages (from boto3<2.0,>=1.26.28->sagemaker) (1.29.71)\n",
      "Requirement already satisfied: jmespath<2.0.0,>=0.7.1 in /home/ec2-user/anaconda3/envs/python3/lib/python3.10/site-packages (from boto3<2.0,>=1.26.28->sagemaker) (1.0.1)\n",
      "Requirement already satisfied: zipp>=0.5 in /home/ec2-user/anaconda3/envs/python3/lib/python3.10/site-packages (from importlib-metadata<5.0,>=1.4.0->sagemaker) (3.11.0)\n",
      "Requirement already satisfied: pyparsing!=3.0.5,>=2.0.2 in /home/ec2-user/anaconda3/envs/python3/lib/python3.10/site-packages (from packaging>=20.0->sagemaker) (3.0.9)\n",
      "Requirement already satisfied: six in /home/ec2-user/anaconda3/envs/python3/lib/python3.10/site-packages (from protobuf3-to-dict<1.0,>=0.1.5->sagemaker) (1.16.0)\n",
      "Requirement already satisfied: pyrsistent>=0.14.0 in /home/ec2-user/anaconda3/envs/python3/lib/python3.10/site-packages (from jsonschema->sagemaker) (0.19.3)\n",
      "Requirement already satisfied: setuptools in /home/ec2-user/anaconda3/envs/python3/lib/python3.10/site-packages (from jsonschema->sagemaker) (65.6.3)\n",
      "Requirement already satisfied: python-dateutil>=2.8.1 in /home/ec2-user/anaconda3/envs/python3/lib/python3.10/site-packages (from pandas->sagemaker) (2.8.2)\n",
      "Requirement already satisfied: pytz>=2020.1 in /home/ec2-user/anaconda3/envs/python3/lib/python3.10/site-packages (from pandas->sagemaker) (2022.7)\n",
      "Requirement already satisfied: multiprocess>=0.70.14 in /home/ec2-user/anaconda3/envs/python3/lib/python3.10/site-packages (from pathos->sagemaker) (0.70.14)\n",
      "Requirement already satisfied: pox>=0.3.2 in /home/ec2-user/anaconda3/envs/python3/lib/python3.10/site-packages (from pathos->sagemaker) (0.3.2)\n",
      "Requirement already satisfied: dill>=0.3.6 in /home/ec2-user/anaconda3/envs/python3/lib/python3.10/site-packages (from pathos->sagemaker) (0.3.6)\n",
      "Requirement already satisfied: ppft>=1.7.6.6 in /home/ec2-user/anaconda3/envs/python3/lib/python3.10/site-packages (from pathos->sagemaker) (1.7.6.6)\n",
      "Requirement already satisfied: contextlib2>=0.5.5 in /home/ec2-user/anaconda3/envs/python3/lib/python3.10/site-packages (from schema->sagemaker) (21.6.0)\n",
      "Requirement already satisfied: urllib3<1.27,>=1.25.4 in /home/ec2-user/anaconda3/envs/python3/lib/python3.10/site-packages (from botocore<1.30.0,>=1.29.71->boto3<2.0,>=1.26.28->sagemaker) (1.26.8)\n"
     ]
    }
   ],
   "source": [
    "!pip install Faker\n",
    "!pip install --upgrade sagemaker"
   ]
  },
  {
   "cell_type": "code",
   "execution_count": 5,
   "id": "9f206d10",
   "metadata": {},
   "outputs": [],
   "source": [
    "from botocore.client import ClientError\n",
    "from collections import defaultdict\n",
    "from faker import Faker\n",
    "import pandas as pd\n",
    "import numpy as np\n",
    "import sagemaker\n",
    "import datetime\n",
    "import hashlib\n",
    "import random\n",
    "import boto3\n",
    "import math\n",
    "import os\n",
    "import logging\n",
    "import subprocess, sys\n",
    "import importlib"
   ]
  },
  {
   "cell_type": "code",
   "execution_count": 4,
   "id": "7602917a",
   "metadata": {},
   "outputs": [],
   "source": [
    "logger = logging.getLogger('__name__')\n",
    "logger.setLevel(logging.DEBUG)\n",
    "logger.addHandler(logging.StreamHandler())"
   ]
  },
  {
   "cell_type": "code",
   "execution_count": 6,
   "id": "5d255e19",
   "metadata": {},
   "outputs": [
    {
     "name": "stderr",
     "output_type": "stream",
     "text": [
      "Using SageMaker version: 2.145.0\n",
      "Using Pandas version: 1.5.2\n"
     ]
    }
   ],
   "source": [
    "logger.info(f'Using SageMaker version: {sagemaker.__version__}')\n",
    "logger.info(f'Using Pandas version: {pd.__version__}')"
   ]
  },
  {
   "cell_type": "code",
   "execution_count": 7,
   "id": "6717ca10",
   "metadata": {},
   "outputs": [],
   "source": [
    "faker = Faker()\n",
    "faker.seed_locale('en_US', 0)"
   ]
  },
  {
   "cell_type": "code",
   "execution_count": 8,
   "id": "41f0a8a9",
   "metadata": {},
   "outputs": [],
   "source": [
    "SEED = 123\n",
    "random.seed(SEED)\n",
    "np.random.seed(SEED)\n",
    "faker.seed_instance(SEED)"
   ]
  },
  {
   "cell_type": "code",
   "execution_count": 9,
   "id": "47c1d8dc",
   "metadata": {},
   "outputs": [],
   "source": [
    "TOTAL_UNIQUE_TRANSACTIONS = 5400000 # 5.4 Million\n",
    "TOTAL_UNIQUE_USERS = 10000\n",
    "\n",
    "BUCKET = 'sm-fs-demo'"
   ]
  },
  {
   "cell_type": "code",
   "execution_count": 10,
   "id": "7685dba4",
   "metadata": {},
   "outputs": [],
   "source": [
    "def generate_fake_name(n: int) -> list:\n",
    "    loc_ids = set()\n",
    "    for _ in range(n):\n",
    "        loc_id = faker.name()\n",
    "        loc_ids.add(loc_id)\n",
    "    return list(loc_ids) "
   ]
  },
  {
   "cell_type": "code",
   "execution_count": 11,
   "id": "b42e7163",
   "metadata": {},
   "outputs": [],
   "source": [
    "names = generate_fake_name(TOTAL_UNIQUE_USERS)"
   ]
  },
  {
   "cell_type": "code",
   "execution_count": 12,
   "id": "c9bc5975",
   "metadata": {},
   "outputs": [
    {
     "data": {
      "text/plain": [
       "9000"
      ]
     },
     "execution_count": 12,
     "metadata": {},
     "output_type": "execute_result"
    }
   ],
   "source": [
    "len(names[0:9000])"
   ]
  },
  {
   "cell_type": "code",
   "execution_count": 13,
   "id": "d92c0c62",
   "metadata": {},
   "outputs": [],
   "source": [
    "name_cut_list = names[0:9000]"
   ]
  },
  {
   "cell_type": "code",
   "execution_count": 14,
   "id": "3889a6dc",
   "metadata": {},
   "outputs": [],
   "source": [
    "assert len(name_cut_list) == 9000 "
   ]
  },
  {
   "cell_type": "code",
   "execution_count": 15,
   "id": "94d0f8d7",
   "metadata": {},
   "outputs": [
    {
     "data": {
      "text/plain": [
       "['Kevin Richard',\n",
       " 'Audrey Kennedy',\n",
       " 'Jill Reeves',\n",
       " 'Janet Williams',\n",
       " 'Peter King']"
      ]
     },
     "execution_count": 15,
     "metadata": {},
     "output_type": "execute_result"
    }
   ],
   "source": [
    "# inspect random sample of credit card numbers \n",
    "random.sample(names, 5)"
   ]
  },
  {
   "cell_type": "code",
   "execution_count": 16,
   "id": "80026e7f",
   "metadata": {},
   "outputs": [],
   "source": [
    "from sagemaker.feature_store.feature_group import FeatureGroup\n",
    "LOCAL_DIR = './data'\n",
    "BUCKET = 'chime-fs-demo'\n",
    "PREFIX = 'training'\n",
    "\n",
    "sagemaker_role = sagemaker.get_execution_role()\n",
    "s3_client = boto3.Session().client('s3')\n",
    "sagemaker_session = sagemaker.Session()\n",
    "region = sagemaker_session.boto_region_name\n",
    "feature_group_name = 'cc-agg-batch-fg'"
   ]
  },
  {
   "cell_type": "code",
   "execution_count": 17,
   "id": "8dce8e3f",
   "metadata": {},
   "outputs": [],
   "source": [
    "boto_session = boto3.Session(region_name=region)\n",
    "sagemaker_client = boto_session.client(service_name='sagemaker', region_name=region)\n",
    "featurestore_runtime = boto_session.client(service_name='sagemaker-featurestore-runtime', region_name=region)\n",
    "sagemaker_runtime = boto_session.client(service_name='sagemaker', region_name=region)\n",
    "feature_store_session = sagemaker.Session(boto_session=boto_session, \n",
    "                                          sagemaker_client=sagemaker_client, \n",
    "                                          sagemaker_featurestore_runtime_client=featurestore_runtime)\n"
   ]
  },
  {
   "cell_type": "code",
   "execution_count": 18,
   "id": "6c19e362",
   "metadata": {},
   "outputs": [],
   "source": [
    "fg = FeatureGroup(name=feature_group_name, sagemaker_session=feature_store_session)  "
   ]
  },
  {
   "cell_type": "code",
   "execution_count": 19,
   "id": "c9de9da1",
   "metadata": {},
   "outputs": [],
   "source": [
    "query = fg.athena_query()\n",
    "table = query.table_name"
   ]
  },
  {
   "cell_type": "code",
   "execution_count": 20,
   "id": "4c60d29f",
   "metadata": {},
   "outputs": [
    {
     "name": "stdout",
     "output_type": "stream",
     "text": [
      "Stored 'query_string' (str)\n"
     ]
    },
    {
     "data": {
      "text/plain": [
       "'SELECT * FROM \"cc_agg_batch_fg_1681064532\"'"
      ]
     },
     "execution_count": 20,
     "metadata": {},
     "output_type": "execute_result"
    }
   ],
   "source": [
    "query_string = f'SELECT * FROM \"{table}\"'\n",
    "%store query_string\n",
    "query_string"
   ]
  },
  {
   "cell_type": "code",
   "execution_count": 21,
   "id": "196fa6ea",
   "metadata": {},
   "outputs": [
    {
     "name": "stdout",
     "output_type": "stream",
     "text": [
      "Athena query output location: \n",
      "s3://chime-fs-demo/sagemaker-fs-demo/query_results/\n"
     ]
    }
   ],
   "source": [
    "query_results= 'sagemaker-fs-demo'\n",
    "output_location = f's3://{BUCKET}/{query_results}/query_results/'\n",
    "print(f'Athena query output location: \\n{output_location}')"
   ]
  },
  {
   "cell_type": "code",
   "execution_count": 22,
   "id": "16071886",
   "metadata": {},
   "outputs": [
    {
     "data": {
      "text/html": [
       "<div>\n",
       "<style scoped>\n",
       "    .dataframe tbody tr th:only-of-type {\n",
       "        vertical-align: middle;\n",
       "    }\n",
       "\n",
       "    .dataframe tbody tr th {\n",
       "        vertical-align: top;\n",
       "    }\n",
       "\n",
       "    .dataframe thead th {\n",
       "        text-align: right;\n",
       "    }\n",
       "</style>\n",
       "<table border=\"1\" class=\"dataframe\">\n",
       "  <thead>\n",
       "    <tr style=\"text-align: right;\">\n",
       "      <th></th>\n",
       "      <th>cc_num</th>\n",
       "      <th>num_trans_last_1w</th>\n",
       "      <th>avg_amt_last_1w</th>\n",
       "      <th>trans_time</th>\n",
       "      <th>write_time</th>\n",
       "      <th>api_invocation_time</th>\n",
       "      <th>is_deleted</th>\n",
       "    </tr>\n",
       "  </thead>\n",
       "  <tbody>\n",
       "    <tr>\n",
       "      <th>0</th>\n",
       "      <td>4076943030561056</td>\n",
       "      <td>31</td>\n",
       "      <td>546.29</td>\n",
       "      <td>1.681066e+09</td>\n",
       "      <td>2023-04-09 18:46:39.140</td>\n",
       "      <td>2023-04-09 18:41:40.000</td>\n",
       "      <td>False</td>\n",
       "    </tr>\n",
       "    <tr>\n",
       "      <th>1</th>\n",
       "      <td>4105214026004286</td>\n",
       "      <td>19</td>\n",
       "      <td>532.36</td>\n",
       "      <td>1.681066e+09</td>\n",
       "      <td>2023-04-09 18:46:39.140</td>\n",
       "      <td>2023-04-09 18:41:40.000</td>\n",
       "      <td>False</td>\n",
       "    </tr>\n",
       "    <tr>\n",
       "      <th>2</th>\n",
       "      <td>4147786805560927</td>\n",
       "      <td>36</td>\n",
       "      <td>904.50</td>\n",
       "      <td>1.681066e+09</td>\n",
       "      <td>2023-04-09 18:46:39.140</td>\n",
       "      <td>2023-04-09 18:41:40.000</td>\n",
       "      <td>False</td>\n",
       "    </tr>\n",
       "    <tr>\n",
       "      <th>3</th>\n",
       "      <td>4340796634658649</td>\n",
       "      <td>28</td>\n",
       "      <td>1842.17</td>\n",
       "      <td>1.681066e+09</td>\n",
       "      <td>2023-04-09 18:46:39.140</td>\n",
       "      <td>2023-04-09 18:41:41.000</td>\n",
       "      <td>False</td>\n",
       "    </tr>\n",
       "    <tr>\n",
       "      <th>4</th>\n",
       "      <td>4994058547181220</td>\n",
       "      <td>21</td>\n",
       "      <td>1133.70</td>\n",
       "      <td>1.681066e+09</td>\n",
       "      <td>2023-04-09 18:46:39.140</td>\n",
       "      <td>2023-04-09 18:41:44.000</td>\n",
       "      <td>False</td>\n",
       "    </tr>\n",
       "  </tbody>\n",
       "</table>\n",
       "</div>"
      ],
      "text/plain": [
       "             cc_num  num_trans_last_1w  avg_amt_last_1w    trans_time  \\\n",
       "0  4076943030561056                 31           546.29  1.681066e+09   \n",
       "1  4105214026004286                 19           532.36  1.681066e+09   \n",
       "2  4147786805560927                 36           904.50  1.681066e+09   \n",
       "3  4340796634658649                 28          1842.17  1.681066e+09   \n",
       "4  4994058547181220                 21          1133.70  1.681066e+09   \n",
       "\n",
       "                write_time      api_invocation_time  is_deleted  \n",
       "0  2023-04-09 18:46:39.140  2023-04-09 18:41:40.000       False  \n",
       "1  2023-04-09 18:46:39.140  2023-04-09 18:41:40.000       False  \n",
       "2  2023-04-09 18:46:39.140  2023-04-09 18:41:40.000       False  \n",
       "3  2023-04-09 18:46:39.140  2023-04-09 18:41:41.000       False  \n",
       "4  2023-04-09 18:46:39.140  2023-04-09 18:41:44.000       False  "
      ]
     },
     "execution_count": 22,
     "metadata": {},
     "output_type": "execute_result"
    }
   ],
   "source": [
    "query.run(query_string=query_string, output_location=output_location)\n",
    "query.wait()\n",
    "df = query.as_dataframe()\n",
    "df.head(5)"
   ]
  },
  {
   "cell_type": "code",
   "execution_count": 23,
   "id": "203ba1ec",
   "metadata": {},
   "outputs": [],
   "source": [
    "new_df = df.drop(['trans_time','write_time','api_invocation_time','is_deleted'],axis=1).head(9000)"
   ]
  },
  {
   "cell_type": "code",
   "execution_count": 24,
   "id": "2fe34f5c",
   "metadata": {},
   "outputs": [],
   "source": [
    "import time\n",
    "current_time_sec = int(round(time.time()))\n",
    "new_df['trans_time'] = pd.Series([current_time_sec] * len(new_df), dtype=\"float64\")"
   ]
  },
  {
   "cell_type": "code",
   "execution_count": 25,
   "id": "8412a287",
   "metadata": {},
   "outputs": [],
   "source": [
    "new_df['name'] = name_cut_list"
   ]
  },
  {
   "cell_type": "code",
   "execution_count": 26,
   "id": "6ca1fc8b",
   "metadata": {},
   "outputs": [
    {
     "data": {
      "text/html": [
       "<div>\n",
       "<style scoped>\n",
       "    .dataframe tbody tr th:only-of-type {\n",
       "        vertical-align: middle;\n",
       "    }\n",
       "\n",
       "    .dataframe tbody tr th {\n",
       "        vertical-align: top;\n",
       "    }\n",
       "\n",
       "    .dataframe thead th {\n",
       "        text-align: right;\n",
       "    }\n",
       "</style>\n",
       "<table border=\"1\" class=\"dataframe\">\n",
       "  <thead>\n",
       "    <tr style=\"text-align: right;\">\n",
       "      <th></th>\n",
       "      <th>cc_num</th>\n",
       "      <th>num_trans_last_1w</th>\n",
       "      <th>avg_amt_last_1w</th>\n",
       "      <th>trans_time</th>\n",
       "      <th>name</th>\n",
       "    </tr>\n",
       "  </thead>\n",
       "  <tbody>\n",
       "    <tr>\n",
       "      <th>0</th>\n",
       "      <td>4076943030561056</td>\n",
       "      <td>31</td>\n",
       "      <td>546.29</td>\n",
       "      <td>1.681145e+09</td>\n",
       "      <td>John Salas</td>\n",
       "    </tr>\n",
       "    <tr>\n",
       "      <th>1</th>\n",
       "      <td>4105214026004286</td>\n",
       "      <td>19</td>\n",
       "      <td>532.36</td>\n",
       "      <td>1.681145e+09</td>\n",
       "      <td>William Thompson</td>\n",
       "    </tr>\n",
       "    <tr>\n",
       "      <th>2</th>\n",
       "      <td>4147786805560927</td>\n",
       "      <td>36</td>\n",
       "      <td>904.50</td>\n",
       "      <td>1.681145e+09</td>\n",
       "      <td>Edward Morris</td>\n",
       "    </tr>\n",
       "    <tr>\n",
       "      <th>3</th>\n",
       "      <td>4340796634658649</td>\n",
       "      <td>28</td>\n",
       "      <td>1842.17</td>\n",
       "      <td>1.681145e+09</td>\n",
       "      <td>Sara Hughes</td>\n",
       "    </tr>\n",
       "    <tr>\n",
       "      <th>4</th>\n",
       "      <td>4994058547181220</td>\n",
       "      <td>21</td>\n",
       "      <td>1133.70</td>\n",
       "      <td>1.681145e+09</td>\n",
       "      <td>William Smith</td>\n",
       "    </tr>\n",
       "  </tbody>\n",
       "</table>\n",
       "</div>"
      ],
      "text/plain": [
       "             cc_num  num_trans_last_1w  avg_amt_last_1w    trans_time  \\\n",
       "0  4076943030561056                 31           546.29  1.681145e+09   \n",
       "1  4105214026004286                 19           532.36  1.681145e+09   \n",
       "2  4147786805560927                 36           904.50  1.681145e+09   \n",
       "3  4340796634658649                 28          1842.17  1.681145e+09   \n",
       "4  4994058547181220                 21          1133.70  1.681145e+09   \n",
       "\n",
       "               name  \n",
       "0        John Salas  \n",
       "1  William Thompson  \n",
       "2     Edward Morris  \n",
       "3       Sara Hughes  \n",
       "4     William Smith  "
      ]
     },
     "execution_count": 26,
     "metadata": {},
     "output_type": "execute_result"
    }
   ],
   "source": [
    "new_df.head(5)"
   ]
  },
  {
   "cell_type": "code",
   "execution_count": 27,
   "id": "76fc75af",
   "metadata": {},
   "outputs": [
    {
     "data": {
      "text/plain": [
       "9000"
      ]
     },
     "execution_count": 27,
     "metadata": {},
     "output_type": "execute_result"
    }
   ],
   "source": [
    "len(new_df)"
   ]
  },
  {
   "cell_type": "code",
   "execution_count": 28,
   "id": "6525f54a",
   "metadata": {},
   "outputs": [],
   "source": [
    "new_df['name'] = new_df['name'].astype(\"str\").astype(\"string\")"
   ]
  },
  {
   "cell_type": "code",
   "execution_count": 29,
   "id": "801d37a2",
   "metadata": {},
   "outputs": [
    {
     "data": {
      "text/plain": [
       "cc_num                 int64\n",
       "num_trans_last_1w      int64\n",
       "avg_amt_last_1w      float64\n",
       "trans_time           float64\n",
       "name                  string\n",
       "dtype: object"
      ]
     },
     "execution_count": 29,
     "metadata": {},
     "output_type": "execute_result"
    }
   ],
   "source": [
    "new_df.dtypes"
   ]
  },
  {
   "cell_type": "code",
   "execution_count": 30,
   "id": "b86737ca",
   "metadata": {},
   "outputs": [],
   "source": [
    "from datetime import datetime, timezone, date\n",
    "\n",
    "def generate_event_timestamp():\n",
    "    # naive datetime representing local time\n",
    "    naive_dt = datetime.now()\n",
    "    # take timezone into account\n",
    "    aware_dt = naive_dt.astimezone()\n",
    "    # time in UTC\n",
    "    utc_dt = aware_dt.astimezone(timezone.utc)\n",
    "    # transform to ISO-8601 format\n",
    "    event_time = utc_dt.isoformat(timespec='milliseconds')\n",
    "    event_time = event_time.replace('+00:00', 'Z')\n",
    "    return event_time"
   ]
  },
  {
   "cell_type": "code",
   "execution_count": 31,
   "id": "8fbe9a51",
   "metadata": {},
   "outputs": [],
   "source": [
    "feature_group =FeatureGroup('cc-agg-batch-chime-fg')"
   ]
  },
  {
   "cell_type": "code",
   "execution_count": 32,
   "id": "92b0dc47",
   "metadata": {},
   "outputs": [
    {
     "name": "stderr",
     "output_type": "stream",
     "text": [
      "Updating feature group: cc-agg-batch-chime-fg at 2023-04-10T16:46:23.911Z...\n"
     ]
    },
    {
     "data": {
      "text/plain": [
       "{'FeatureGroupArn': 'arn:aws:sagemaker:us-east-1:461312420708:feature-group/cc-agg-batch-fg',\n",
       " 'ResponseMetadata': {'RequestId': '996c7840-ee7c-4d31-a1d5-6ffe6f0cba9b',\n",
       "  'HTTPStatusCode': 200,\n",
       "  'HTTPHeaders': {'x-amzn-requestid': '996c7840-ee7c-4d31-a1d5-6ffe6f0cba9b',\n",
       "   'content-type': 'application/x-amz-json-1.1',\n",
       "   'content-length': '92',\n",
       "   'date': 'Mon, 10 Apr 2023 16:46:23 GMT'},\n",
       "  'RetryAttempts': 0}}"
      ]
     },
     "execution_count": 32,
     "metadata": {},
     "output_type": "execute_result"
    }
   ],
   "source": [
    "logger.info(f'Updating feature group: {feature_group.name} at {generate_event_timestamp()}...')\n",
    "\n",
    "sagemaker_runtime.update_feature_group(\n",
    "    FeatureGroupName=feature_group_name,\n",
    "    FeatureAdditions=[\n",
    "        {\"FeatureName\": \"name\", \"FeatureType\": \"String\"}\n",
    "    ])"
   ]
  },
  {
   "cell_type": "code",
   "execution_count": 35,
   "id": "31f02bba",
   "metadata": {},
   "outputs": [
    {
     "name": "stderr",
     "output_type": "stream",
     "text": [
      "Ingesting data into feature group: cc-agg-batch-chime-fg at 2023-04-10T16:46:37.551Z...\n",
      "9000 sample records ingested into feature group: cc-agg-batch-chime-fg at 2023-04-10T16:46:45.010Z\n"
     ]
    }
   ],
   "source": [
    "logger.info(f'Ingesting data into feature group: {feature_group.name} at {generate_event_timestamp()}...')\n",
    "feature_group.ingest(data_frame=new_df, max_processes=16, wait=True)\n",
    "logger.info(f'{len(new_df)} sample records ingested into feature group: {feature_group.name} at {generate_event_timestamp()}')"
   ]
  },
  {
   "cell_type": "code",
   "execution_count": 39,
   "id": "66335e20",
   "metadata": {},
   "outputs": [
    {
     "data": {
      "text/plain": [
       "{'ResponseMetadata': {'RequestId': 'fbe622b8-bd13-4ecf-b0fd-a88033622ab2',\n",
       "  'HTTPStatusCode': 200,\n",
       "  'HTTPHeaders': {'x-amzn-requestid': 'fbe622b8-bd13-4ecf-b0fd-a88033622ab2',\n",
       "   'content-type': 'application/json',\n",
       "   'content-length': '306',\n",
       "   'date': 'Mon, 10 Apr 2023 16:47:22 GMT'},\n",
       "  'RetryAttempts': 0},\n",
       " 'Record': [{'FeatureName': 'cc_num', 'ValueAsString': '4079582416101330'},\n",
       "  {'FeatureName': 'num_trans_last_1w', 'ValueAsString': '24'},\n",
       "  {'FeatureName': 'avg_amt_last_1w', 'ValueAsString': '577.03'},\n",
       "  {'FeatureName': 'trans_time', 'ValueAsString': '1681144925.0'},\n",
       "  {'FeatureName': 'name', 'ValueAsString': 'Clarence Schultz'}]}"
      ]
     },
     "execution_count": 39,
     "metadata": {},
     "output_type": "execute_result"
    }
   ],
   "source": [
    "cc_num= '4079582416101330'\n",
    "logger.info(f'ccnum={cc_num}') \n",
    "\n",
    "featurestore_runtime_client = sagemaker_session.boto_session.client('sagemaker-featurestore-runtime', region_name=region)\n",
    "\n",
    "feature_record = featurestore_runtime_client.get_record(FeatureGroupName='cc-agg-batch-chime-fg', \n",
    "                                                        RecordIdentifierValueAsString=cc_num)\n",
    "feature_record"
   ]
  },
  {
   "cell_type": "code",
   "execution_count": 133,
   "id": "4a84bd0f",
   "metadata": {},
   "outputs": [],
   "source": [
    "# feature_group.delete()"
   ]
  }
 ],
 "metadata": {
  "kernelspec": {
   "display_name": "conda_python3",
   "language": "python",
   "name": "conda_python3"
  },
  "language_info": {
   "codemirror_mode": {
    "name": "ipython",
    "version": 3
   },
   "file_extension": ".py",
   "mimetype": "text/x-python",
   "name": "python",
   "nbconvert_exporter": "python",
   "pygments_lexer": "ipython3",
   "version": "3.10.8"
  }
 },
 "nbformat": 4,
 "nbformat_minor": 5
}
