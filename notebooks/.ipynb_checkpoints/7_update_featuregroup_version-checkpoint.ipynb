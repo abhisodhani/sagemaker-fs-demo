{
 "cells": [
  {
   "cell_type": "code",
   "execution_count": 1,
   "id": "8e10c71c",
   "metadata": {},
   "outputs": [],
   "source": [
    "from sagemaker.feature_store.feature_group import FeatureGroup\n",
    "from time import gmtime, strftime, sleep\n",
    "from random import randint\n",
    "import pandas as pd\n",
    "import numpy as np\n",
    "import subprocess\n",
    "import sagemaker\n",
    "import importlib\n",
    "import logging\n",
    "import time\n",
    "import sys\n",
    "import boto3"
   ]
  },
  {
   "cell_type": "code",
   "execution_count": 2,
   "id": "7cea7bca",
   "metadata": {},
   "outputs": [],
   "source": [
    "logger = logging.getLogger('__name__')\n",
    "logger.setLevel(logging.DEBUG)\n",
    "logger.addHandler(logging.StreamHandler())"
   ]
  },
  {
   "cell_type": "code",
   "execution_count": 3,
   "id": "14307ac4",
   "metadata": {},
   "outputs": [
    {
     "name": "stderr",
     "output_type": "stream",
     "text": [
      "Using SageMaker version: 2.144.0\n",
      "Using Boto3 version: 1.26.100\n"
     ]
    }
   ],
   "source": [
    "logger.info(f'Using SageMaker version: {sagemaker.__version__}')\n",
    "logger.info(f'Using Boto3 version: {boto3.__version__}')"
   ]
  },
  {
   "cell_type": "code",
   "execution_count": 5,
   "id": "b34de50a",
   "metadata": {},
   "outputs": [
    {
     "name": "stderr",
     "output_type": "stream",
     "text": [
      "Default S3 bucket = chime-fs-demo\n"
     ]
    }
   ],
   "source": [
    "sagemaker_session = sagemaker.Session()\n",
    "role = sagemaker.get_execution_role()\n",
    "default_bucket = 'chime-fs-demo'\n",
    "logger.info(f'Default S3 bucket = {default_bucket}')\n",
    "prefix = 'sagemaker-feature-store'\n",
    "region = sagemaker_session.boto_region_name\n",
    "\n",
    "boto_session = boto3.Session(region_name=region)\n",
    "sagemaker_client = boto_session.client(service_name='sagemaker', region_name=region)\n",
    "featurestore_runtime = boto_session.client(service_name='sagemaker-featurestore-runtime', region_name=region)"
   ]
  },
  {
   "cell_type": "code",
   "execution_count": 6,
   "id": "f79fd7c2",
   "metadata": {},
   "outputs": [],
   "source": [
    "feature_group_name ='cc-agg-chime-fg'"
   ]
  },
  {
   "cell_type": "code",
   "execution_count": 7,
   "id": "2694d137",
   "metadata": {},
   "outputs": [
    {
     "data": {
      "text/plain": [
       "{'FeatureGroupArn': 'arn:aws:sagemaker:us-east-1:461312420708:feature-group/cc-agg-chime-fg',\n",
       " 'FeatureGroupName': 'cc-agg-chime-fg',\n",
       " 'FeatureName': 'name',\n",
       " 'FeatureType': 'String',\n",
       " 'CreationTime': datetime.datetime(2023, 4, 7, 19, 43, 33, 952000, tzinfo=tzlocal()),\n",
       " 'LastModifiedTime': datetime.datetime(2023, 4, 2, 22, 25, 44, 729000, tzinfo=tzlocal()),\n",
       " 'Parameters': [],\n",
       " 'ResponseMetadata': {'RequestId': '90eda245-c143-4031-8aed-248ee7768962',\n",
       "  'HTTPStatusCode': 200,\n",
       "  'HTTPHeaders': {'x-amzn-requestid': '90eda245-c143-4031-8aed-248ee7768962',\n",
       "   'content-type': 'application/x-amz-json-1.1',\n",
       "   'content-length': '257',\n",
       "   'date': 'Sat, 08 Apr 2023 20:29:38 GMT'},\n",
       "  'RetryAttempts': 0}}"
      ]
     },
     "execution_count": 7,
     "metadata": {},
     "output_type": "execute_result"
    }
   ],
   "source": [
    "sagemaker_client.describe_feature_metadata(\n",
    "    FeatureGroupName=feature_group_name,\n",
    "    FeatureName=\"name\" \n",
    ")"
   ]
  },
  {
   "cell_type": "code",
   "execution_count": 8,
   "id": "7a791af6",
   "metadata": {},
   "outputs": [
    {
     "data": {
      "text/plain": [
       "{'ResponseMetadata': {'RequestId': 'a4073365-898b-4648-a6f7-763f100407e7',\n",
       "  'HTTPStatusCode': 200,\n",
       "  'HTTPHeaders': {'x-amzn-requestid': 'a4073365-898b-4648-a6f7-763f100407e7',\n",
       "   'content-type': 'application/x-amz-json-1.1',\n",
       "   'content-length': '0',\n",
       "   'date': 'Sat, 08 Apr 2023 20:30:26 GMT'},\n",
       "  'RetryAttempts': 0}}"
      ]
     },
     "execution_count": 8,
     "metadata": {},
     "output_type": "execute_result"
    }
   ],
   "source": [
    "sagemaker_client.update_feature_metadata(\n",
    "    FeatureGroupName=feature_group_name,\n",
    "    FeatureName=\"name\",\n",
    "    ParameterAdditions=[\n",
    "        {\"Key\": \"team\", \"Value\": \"mlops\"},\n",
    "        {\"Key\": \"org\", \"Value\": \"customer fin team\"},\n",
    "    ]\n",
    ")"
   ]
  },
  {
   "cell_type": "code",
   "execution_count": 9,
   "id": "0aa800a6",
   "metadata": {},
   "outputs": [
    {
     "data": {
      "text/plain": [
       "{'FeatureGroupArn': 'arn:aws:sagemaker:us-east-1:461312420708:feature-group/cc-agg-chime-fg',\n",
       " 'FeatureGroupName': 'cc-agg-chime-fg',\n",
       " 'FeatureName': 'name',\n",
       " 'FeatureType': 'String',\n",
       " 'CreationTime': datetime.datetime(2023, 4, 7, 19, 43, 33, 952000, tzinfo=tzlocal()),\n",
       " 'LastModifiedTime': datetime.datetime(2023, 4, 8, 20, 30, 26, 693000, tzinfo=tzlocal()),\n",
       " 'Parameters': [{'Key': 'org', 'Value': 'customer fin team'},\n",
       "  {'Key': 'team', 'Value': 'mlops'}],\n",
       " 'ResponseMetadata': {'RequestId': 'ba18e61b-580d-45b1-99b2-8217e06b1904',\n",
       "  'HTTPStatusCode': 200,\n",
       "  'HTTPHeaders': {'x-amzn-requestid': 'ba18e61b-580d-45b1-99b2-8217e06b1904',\n",
       "   'content-type': 'application/x-amz-json-1.1',\n",
       "   'content-length': '329',\n",
       "   'date': 'Sat, 08 Apr 2023 20:30:36 GMT'},\n",
       "  'RetryAttempts': 0}}"
      ]
     },
     "execution_count": 9,
     "metadata": {},
     "output_type": "execute_result"
    }
   ],
   "source": [
    "sagemaker_client.describe_feature_metadata(\n",
    "    FeatureGroupName=feature_group_name,\n",
    "    FeatureName=\"name\" \n",
    ")"
   ]
  },
  {
   "cell_type": "code",
   "execution_count": 10,
   "id": "cbc651dc",
   "metadata": {},
   "outputs": [
    {
     "data": {
      "text/html": [
       "<div>\n",
       "<style scoped>\n",
       "    .dataframe tbody tr th:only-of-type {\n",
       "        vertical-align: middle;\n",
       "    }\n",
       "\n",
       "    .dataframe tbody tr th {\n",
       "        vertical-align: top;\n",
       "    }\n",
       "\n",
       "    .dataframe thead th {\n",
       "        text-align: right;\n",
       "    }\n",
       "</style>\n",
       "<table border=\"1\" class=\"dataframe\">\n",
       "  <thead>\n",
       "    <tr style=\"text-align: right;\">\n",
       "      <th></th>\n",
       "      <th>FeatureGroupName</th>\n",
       "      <th>FeatureName</th>\n",
       "      <th>FeatureType</th>\n",
       "      <th>CreationTime</th>\n",
       "      <th>LastModifiedTime</th>\n",
       "      <th>Parameters</th>\n",
       "    </tr>\n",
       "  </thead>\n",
       "  <tbody>\n",
       "    <tr>\n",
       "      <th>0</th>\n",
       "      <td>cc-agg-chime-fg</td>\n",
       "      <td>name</td>\n",
       "      <td>String</td>\n",
       "      <td>2023-04-07 19:43:33+00:00</td>\n",
       "      <td>2023-04-08 20:30:26+00:00</td>\n",
       "      <td>[{'Key': 'org', 'Value': 'customer fin team'},...</td>\n",
       "    </tr>\n",
       "    <tr>\n",
       "      <th>1</th>\n",
       "      <td>cc-agg-update-test-1</td>\n",
       "      <td>name</td>\n",
       "      <td>String</td>\n",
       "      <td>2023-04-06 08:09:22+00:00</td>\n",
       "      <td>2023-04-06 08:09:22+00:00</td>\n",
       "      <td>[]</td>\n",
       "    </tr>\n",
       "    <tr>\n",
       "      <th>2</th>\n",
       "      <td>cc_agg_update_test</td>\n",
       "      <td>name</td>\n",
       "      <td>String</td>\n",
       "      <td>2023-04-06 07:41:34+00:00</td>\n",
       "      <td>2023-04-06 07:41:34+00:00</td>\n",
       "      <td>[]</td>\n",
       "    </tr>\n",
       "    <tr>\n",
       "      <th>3</th>\n",
       "      <td>cc-agg-batch-chime-fg</td>\n",
       "      <td>name</td>\n",
       "      <td>String</td>\n",
       "      <td>2023-04-06 06:49:17+00:00</td>\n",
       "      <td>2023-04-06 06:49:17+00:00</td>\n",
       "      <td>[]</td>\n",
       "    </tr>\n",
       "  </tbody>\n",
       "</table>\n",
       "</div>"
      ],
      "text/plain": [
       "        FeatureGroupName FeatureName FeatureType              CreationTime  \\\n",
       "0        cc-agg-chime-fg        name      String 2023-04-07 19:43:33+00:00   \n",
       "1   cc-agg-update-test-1        name      String 2023-04-06 08:09:22+00:00   \n",
       "2     cc_agg_update_test        name      String 2023-04-06 07:41:34+00:00   \n",
       "3  cc-agg-batch-chime-fg        name      String 2023-04-06 06:49:17+00:00   \n",
       "\n",
       "           LastModifiedTime                                         Parameters  \n",
       "0 2023-04-08 20:30:26+00:00  [{'Key': 'org', 'Value': 'customer fin team'},...  \n",
       "1 2023-04-06 08:09:22+00:00                                                 []  \n",
       "2 2023-04-06 07:41:34+00:00                                                 []  \n",
       "3 2023-04-06 06:49:17+00:00                                                 []  "
      ]
     },
     "execution_count": 10,
     "metadata": {},
     "output_type": "execute_result"
    }
   ],
   "source": [
    "# Search functions that returns features where either feature name, description or parameters (key/value pairs) match the search criteria\n",
    "def search_features_using_string(search_string):\n",
    "    response = sagemaker_client.search(\n",
    "        Resource= \"FeatureMetadata\",\n",
    "        SearchExpression={\n",
    "            'Filters': [\n",
    "                {\n",
    "                    'Name': 'FeatureName',\n",
    "                    'Operator': 'Contains',\n",
    "                    'Value': search_string\n",
    "                },\n",
    "                {\n",
    "                    'Name': 'Description',\n",
    "                    'Operator': 'Contains',\n",
    "                    'Value': search_string\n",
    "                },\n",
    "                {\n",
    "                    'Name': 'AllParameters',\n",
    "                    'Operator': 'Contains',\n",
    "                    'Value': search_string\n",
    "                }\n",
    "            ],\n",
    "            \"Operator\": \"Or\"\n",
    "        },\n",
    "    )\n",
    "    # Displaying results in a DataFrame\n",
    "    df=pd.json_normalize(response['Results'], max_level=1)\n",
    "    df.columns = df.columns.map(lambda col: col.split(\".\")[1])\n",
    "    df=df.drop('FeatureGroupArn', axis=1)\n",
    "    return df\n",
    "\n",
    "# Searching for Feature which contains \"married\" string in either feature name, description, or parameters\n",
    "search_string=\"name\"\n",
    "search_features_using_string(search_string)"
   ]
  }
 ],
 "metadata": {
  "kernelspec": {
   "display_name": "conda_python3",
   "language": "python",
   "name": "conda_python3"
  },
  "language_info": {
   "codemirror_mode": {
    "name": "ipython",
    "version": 3
   },
   "file_extension": ".py",
   "mimetype": "text/x-python",
   "name": "python",
   "nbconvert_exporter": "python",
   "pygments_lexer": "ipython3",
   "version": "3.10.8"
  }
 },
 "nbformat": 4,
 "nbformat_minor": 5
}
