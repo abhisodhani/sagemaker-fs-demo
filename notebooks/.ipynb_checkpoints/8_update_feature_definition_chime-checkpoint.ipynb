{
 "cells": [
  {
   "cell_type": "code",
   "execution_count": 1,
   "id": "6151562f",
   "metadata": {},
   "outputs": [],
   "source": [
    "from sagemaker.feature_store.feature_group import FeatureGroup\n",
    "from time import gmtime, strftime, sleep\n",
    "from random import randint\n",
    "import pandas as pd\n",
    "import numpy as np\n",
    "import subprocess\n",
    "import sagemaker\n",
    "import importlib\n",
    "import logging\n",
    "import time\n",
    "import sys\n",
    "import boto3\n",
    "from datetime import datetime, timezone, date"
   ]
  },
  {
   "cell_type": "code",
   "execution_count": 2,
   "id": "1a9fba19",
   "metadata": {},
   "outputs": [],
   "source": [
    "logger = logging.getLogger('__name__')\n",
    "logger.setLevel(logging.DEBUG)\n",
    "logger.addHandler(logging.StreamHandler())"
   ]
  },
  {
   "cell_type": "code",
   "execution_count": 3,
   "id": "908acb8f",
   "metadata": {},
   "outputs": [
    {
     "name": "stderr",
     "output_type": "stream",
     "text": [
      "Using SageMaker version: 2.145.0\n",
      "Using Boto3 version: 1.26.71\n"
     ]
    }
   ],
   "source": [
    "logger.info(f'Using SageMaker version: {sagemaker.__version__}')\n",
    "logger.info(f'Using Boto3 version: {boto3.__version__}')"
   ]
  },
  {
   "cell_type": "code",
   "execution_count": 5,
   "id": "dc76e847",
   "metadata": {},
   "outputs": [
    {
     "name": "stderr",
     "output_type": "stream",
     "text": [
      "Default S3 bucket = sm-fs-demo\n"
     ]
    }
   ],
   "source": [
    "sagemaker_session = sagemaker.Session()\n",
    "role = sagemaker.get_execution_role()\n",
    "default_bucket = 'sm-fs-demo'\n",
    "logger.info(f'Default S3 bucket = {default_bucket}')\n",
    "prefix = 'sagemaker-feature-store'\n",
    "region = sagemaker_session.boto_region_name\n",
    "\n",
    "boto_session = boto3.Session(region_name=region)\n",
    "sagemaker_client = boto_session.client(service_name='sagemaker', region_name=region)\n",
    "featurestore_runtime = boto_session.client(service_name='sagemaker-featurestore-runtime', region_name=region)"
   ]
  },
  {
   "cell_type": "code",
   "execution_count": 6,
   "id": "1f7ce7d9",
   "metadata": {},
   "outputs": [],
   "source": [
    "def generate_event_timestamp():\n",
    "    # naive datetime representing local time\n",
    "    naive_dt = datetime.now()\n",
    "    # take timezone into account\n",
    "    aware_dt = naive_dt.astimezone()\n",
    "    # time in UTC\n",
    "    utc_dt = aware_dt.astimezone(timezone.utc)\n",
    "    # transform to ISO-8601 format\n",
    "    event_time = utc_dt.isoformat(timespec='milliseconds')\n",
    "    event_time = event_time.replace('+00:00', 'Z')\n",
    "    return event_time"
   ]
  },
  {
   "cell_type": "code",
   "execution_count": 7,
   "id": "bc6d5b47",
   "metadata": {},
   "outputs": [],
   "source": [
    "feature_group_name ='cc-agg-fg'"
   ]
  },
  {
   "cell_type": "code",
   "execution_count": 8,
   "id": "dd480887",
   "metadata": {},
   "outputs": [
    {
     "name": "stdout",
     "output_type": "stream",
     "text": [
      "describe fg 2023-04-10T18:46:34.202Z\n",
      "update fg 2023-04-10T18:46:34.514Z \n",
      " []\n",
      "updated fg 2023-04-10T18:46:34.731Z\n",
      "describe modified fg 2023-04-10T18:46:34.934Z \n",
      " [{'Key': 'org1', 'Value': 'customer fin team'}, {'Key': 'team', 'Value': 'mlops'}]\n"
     ]
    }
   ],
   "source": [
    "print('describe fg', generate_event_timestamp())\n",
    "\n",
    "ret = sagemaker_client.describe_feature_metadata(\n",
    "    FeatureGroupName=feature_group_name,\n",
    "    FeatureName=\"name\" \n",
    ")\n",
    "\n",
    "print('update fg', generate_event_timestamp(), '\\n', ret['Parameters'])\n",
    "\n",
    "sagemaker_client.update_feature_metadata(\n",
    "    FeatureGroupName=feature_group_name,\n",
    "    FeatureName=\"name\",\n",
    "    ParameterAdditions=[\n",
    "        {\"Key\": \"team\", \"Value\": \"mlops\"},\n",
    "        {\"Key\": \"org1\", \"Value\": \"customer fin team\"},\n",
    "    ]\n",
    ")\n",
    "\n",
    "print('updated fg', generate_event_timestamp())\n",
    "\n",
    "ret = sagemaker_client.describe_feature_metadata(\n",
    "    FeatureGroupName=feature_group_name,\n",
    "    FeatureName=\"name\" \n",
    ")\n",
    "\n",
    "print('describe modified fg', generate_event_timestamp(), '\\n', ret['Parameters'])"
   ]
  },
  {
   "cell_type": "code",
   "execution_count": 9,
   "id": "5c0b5973",
   "metadata": {},
   "outputs": [
    {
     "data": {
      "text/html": [
       "<div>\n",
       "<style scoped>\n",
       "    .dataframe tbody tr th:only-of-type {\n",
       "        vertical-align: middle;\n",
       "    }\n",
       "\n",
       "    .dataframe tbody tr th {\n",
       "        vertical-align: top;\n",
       "    }\n",
       "\n",
       "    .dataframe thead th {\n",
       "        text-align: right;\n",
       "    }\n",
       "</style>\n",
       "<table border=\"1\" class=\"dataframe\">\n",
       "  <thead>\n",
       "    <tr style=\"text-align: right;\">\n",
       "      <th></th>\n",
       "      <th>FeatureGroupName</th>\n",
       "      <th>FeatureName</th>\n",
       "      <th>FeatureType</th>\n",
       "      <th>CreationTime</th>\n",
       "      <th>LastModifiedTime</th>\n",
       "      <th>Parameters</th>\n",
       "    </tr>\n",
       "  </thead>\n",
       "  <tbody>\n",
       "    <tr>\n",
       "      <th>0</th>\n",
       "      <td>cc-agg-fg</td>\n",
       "      <td>name</td>\n",
       "      <td>String</td>\n",
       "      <td>2023-04-10 18:25:17+00:00</td>\n",
       "      <td>2023-04-10 18:46:34+00:00</td>\n",
       "      <td>[{'Key': 'org1', 'Value': 'customer fin team'}...</td>\n",
       "    </tr>\n",
       "    <tr>\n",
       "      <th>1</th>\n",
       "      <td>cc-agg-batch-fg</td>\n",
       "      <td>name</td>\n",
       "      <td>String</td>\n",
       "      <td>2023-04-10 16:46:24+00:00</td>\n",
       "      <td>2023-04-10 16:46:24+00:00</td>\n",
       "      <td>[]</td>\n",
       "    </tr>\n",
       "    <tr>\n",
       "      <th>2</th>\n",
       "      <td>cc-agg-chime-fg-v1</td>\n",
       "      <td>first_name</td>\n",
       "      <td>String</td>\n",
       "      <td>2023-04-08 23:02:56+00:00</td>\n",
       "      <td>2023-04-08 23:02:56+00:00</td>\n",
       "      <td>[]</td>\n",
       "    </tr>\n",
       "    <tr>\n",
       "      <th>3</th>\n",
       "      <td>cc-agg-chime-fg</td>\n",
       "      <td>name</td>\n",
       "      <td>String</td>\n",
       "      <td>2023-04-07 19:43:33+00:00</td>\n",
       "      <td>2023-04-08 21:46:35+00:00</td>\n",
       "      <td>[{'Key': 'org', 'Value': 'customer fin team'},...</td>\n",
       "    </tr>\n",
       "    <tr>\n",
       "      <th>4</th>\n",
       "      <td>cc-agg-update-test-1</td>\n",
       "      <td>name</td>\n",
       "      <td>String</td>\n",
       "      <td>2023-04-06 08:09:22+00:00</td>\n",
       "      <td>2023-04-06 08:09:22+00:00</td>\n",
       "      <td>[]</td>\n",
       "    </tr>\n",
       "    <tr>\n",
       "      <th>5</th>\n",
       "      <td>cc_agg_update_test</td>\n",
       "      <td>name</td>\n",
       "      <td>String</td>\n",
       "      <td>2023-04-06 07:41:34+00:00</td>\n",
       "      <td>2023-04-06 07:41:34+00:00</td>\n",
       "      <td>[]</td>\n",
       "    </tr>\n",
       "    <tr>\n",
       "      <th>6</th>\n",
       "      <td>cc-agg-batch-chime-fg</td>\n",
       "      <td>name</td>\n",
       "      <td>String</td>\n",
       "      <td>2023-04-06 06:49:17+00:00</td>\n",
       "      <td>2023-04-06 06:49:17+00:00</td>\n",
       "      <td>[]</td>\n",
       "    </tr>\n",
       "  </tbody>\n",
       "</table>\n",
       "</div>"
      ],
      "text/plain": [
       "        FeatureGroupName FeatureName FeatureType              CreationTime  \\\n",
       "0              cc-agg-fg        name      String 2023-04-10 18:25:17+00:00   \n",
       "1        cc-agg-batch-fg        name      String 2023-04-10 16:46:24+00:00   \n",
       "2     cc-agg-chime-fg-v1  first_name      String 2023-04-08 23:02:56+00:00   \n",
       "3        cc-agg-chime-fg        name      String 2023-04-07 19:43:33+00:00   \n",
       "4   cc-agg-update-test-1        name      String 2023-04-06 08:09:22+00:00   \n",
       "5     cc_agg_update_test        name      String 2023-04-06 07:41:34+00:00   \n",
       "6  cc-agg-batch-chime-fg        name      String 2023-04-06 06:49:17+00:00   \n",
       "\n",
       "           LastModifiedTime                                         Parameters  \n",
       "0 2023-04-10 18:46:34+00:00  [{'Key': 'org1', 'Value': 'customer fin team'}...  \n",
       "1 2023-04-10 16:46:24+00:00                                                 []  \n",
       "2 2023-04-08 23:02:56+00:00                                                 []  \n",
       "3 2023-04-08 21:46:35+00:00  [{'Key': 'org', 'Value': 'customer fin team'},...  \n",
       "4 2023-04-06 08:09:22+00:00                                                 []  \n",
       "5 2023-04-06 07:41:34+00:00                                                 []  \n",
       "6 2023-04-06 06:49:17+00:00                                                 []  "
      ]
     },
     "execution_count": 9,
     "metadata": {},
     "output_type": "execute_result"
    }
   ],
   "source": [
    "# Search functions that returns features where either feature name, description or parameters (key/value pairs) match the search criteria\n",
    "def search_features_using_string(search_string):\n",
    "    response = sagemaker_client.search(\n",
    "        Resource= \"FeatureMetadata\",\n",
    "        SearchExpression={\n",
    "            'Filters': [\n",
    "                {\n",
    "                    'Name': 'FeatureName',\n",
    "                    'Operator': 'Contains',\n",
    "                    'Value': search_string\n",
    "                },\n",
    "                {\n",
    "                    'Name': 'Description',\n",
    "                    'Operator': 'Contains',\n",
    "                    'Value': search_string\n",
    "                },\n",
    "                {\n",
    "                    'Name': 'AllParameters',\n",
    "                    'Operator': 'Contains',\n",
    "                    'Value': search_string\n",
    "                }\n",
    "            ],\n",
    "            \"Operator\": \"Or\"\n",
    "        },\n",
    "    )\n",
    "    # Displaying results in a DataFrame\n",
    "    df=pd.json_normalize(response['Results'], max_level=1)\n",
    "    df.columns = df.columns.map(lambda col: col.split(\".\")[1])\n",
    "    df=df.drop('FeatureGroupArn', axis=1)\n",
    "    return df\n",
    "\n",
    "# Searching for Feature which contains \"married\" string in either feature name, description, or parameters\n",
    "search_string=\"name\"\n",
    "search_features_using_string(search_string)"
   ]
  }
 ],
 "metadata": {
  "kernelspec": {
   "display_name": "conda_python3",
   "language": "python",
   "name": "conda_python3"
  },
  "language_info": {
   "codemirror_mode": {
    "name": "ipython",
    "version": 3
   },
   "file_extension": ".py",
   "mimetype": "text/x-python",
   "name": "python",
   "nbconvert_exporter": "python",
   "pygments_lexer": "ipython3",
   "version": "3.10.8"
  }
 },
 "nbformat": 4,
 "nbformat_minor": 5
}
