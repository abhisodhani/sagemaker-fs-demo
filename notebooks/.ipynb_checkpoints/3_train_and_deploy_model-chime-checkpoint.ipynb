{
 "cells": [
  {
   "cell_type": "markdown",
   "metadata": {},
   "source": [
    "# Training and Deploying the Fraud Detection Model\n",
    "\n",
    "In this notebook, we will take the outputs from the Processing Job in the previous step and use it and train and deploy an XGBoost model. Our historic transaction dataset is initially comprised of data like timestamp, card number, and transaction amount and we enriched each transaction with features about that card number's recent history, including:\n",
    "\n",
    "- `num_trans_last_10m`\n",
    "- `num_trans_last_1w`\n",
    "- `avg_amt_last_10m`\n",
    "- `avg_amt_last_1w`\n",
    "\n",
    "Individual card numbers may have radically different spending patterns, so we will want to use normalized ratio features to train our XGBoost model to detect fraud. "
   ]
  },
  {
   "cell_type": "markdown",
   "metadata": {},
   "source": [
    "### Imports "
   ]
  },
  {
   "cell_type": "code",
   "execution_count": 2,
   "metadata": {},
   "outputs": [],
   "source": [
    "from sklearn.model_selection import train_test_split\n",
    "from sagemaker.inputs import TrainingInput\n",
    "from sagemaker.session import Session\n",
    "from sagemaker import image_uris\n",
    "import pandas as pd\n",
    "import numpy as np\n",
    "import sagemaker\n",
    "import boto3\n",
    "import io\n",
    "\n",
    "from sagemaker.feature_store.feature_group import FeatureGroup\n",
    "from sagemaker import get_execution_role\n",
    "import sagemaker\n",
    "import logging\n",
    "import boto3\n",
    "import pandas as pd\n",
    "import time\n",
    "import re\n",
    "import os\n",
    "import sys"
   ]
  },
  {
   "cell_type": "code",
   "execution_count": 3,
   "metadata": {},
   "outputs": [],
   "source": [
    "logger = logging.getLogger('__name__')\n",
    "logger.setLevel(logging.DEBUG)\n",
    "logger.addHandler(logging.StreamHandler())"
   ]
  },
  {
   "cell_type": "markdown",
   "metadata": {},
   "source": [
    "### Essentials "
   ]
  },
  {
   "cell_type": "code",
   "execution_count": 4,
   "metadata": {},
   "outputs": [],
   "source": [
    "LOCAL_DIR = './data'\n",
    "BUCKET = 'sm-fs-demo'\n",
    "PREFIX = 'training'\n",
    "\n",
    "sagemaker_role = sagemaker.get_execution_role()\n",
    "s3_client = boto3.Session().client('s3')\n",
    "sagemaker_session = sagemaker.Session()\n",
    "region = sagemaker_session.boto_region_name\n",
    "train_feature_group_name = 'cc-transaction-fg'"
   ]
  },
  {
   "cell_type": "code",
   "execution_count": 5,
   "metadata": {},
   "outputs": [],
   "source": [
    "boto_session = boto3.Session(region_name=region)\n",
    "sagemaker_client = boto_session.client(service_name='sagemaker', region_name=region)\n",
    "featurestore_runtime = boto_session.client(service_name='sagemaker-featurestore-runtime', region_name=region)\n",
    "\n",
    "feature_store_session = sagemaker.Session(boto_session=boto_session, \n",
    "                                          sagemaker_client=sagemaker_client, \n",
    "                                          sagemaker_featurestore_runtime_client=featurestore_runtime)"
   ]
  },
  {
   "cell_type": "code",
   "execution_count": 31,
   "metadata": {},
   "outputs": [],
   "source": [
    "train_fg = FeatureGroup(name=train_feature_group_name, sagemaker_session=feature_store_session)  "
   ]
  },
  {
   "cell_type": "code",
   "execution_count": 32,
   "metadata": {},
   "outputs": [],
   "source": [
    "train_query = train_fg.athena_query()\n",
    "train_table = train_query.table_name"
   ]
  },
  {
   "cell_type": "code",
   "execution_count": 33,
   "metadata": {},
   "outputs": [
    {
     "name": "stdout",
     "output_type": "stream",
     "text": [
      "Stored 'query_string' (str)\n"
     ]
    },
    {
     "data": {
      "text/plain": [
       "'SELECT * FROM \"cc_transaction_fg_1681194116\"'"
      ]
     },
     "execution_count": 33,
     "metadata": {},
     "output_type": "execute_result"
    }
   ],
   "source": [
    "query_string = f'SELECT * FROM \"{train_table}\"'\n",
    "%store query_string\n",
    "query_string"
   ]
  },
  {
   "cell_type": "code",
   "execution_count": 34,
   "metadata": {},
   "outputs": [
    {
     "name": "stdout",
     "output_type": "stream",
     "text": [
      "Athena query output location: \n",
      "s3://sm-fs-demo/athena-results/query_results/\n"
     ]
    }
   ],
   "source": [
    "query_results= 'athena-results'\n",
    "output_location = f's3://{BUCKET}/{query_results}/query_results/'\n",
    "print(f'Athena query output location: \\n{output_location}')"
   ]
  },
  {
   "cell_type": "code",
   "execution_count": 35,
   "metadata": {},
   "outputs": [
    {
     "name": "stderr",
     "output_type": "stream",
     "text": [
      "INFO:sagemaker:Query 7b3426dd-c03a-4aa0-85c1-2b96be6abc3e is being executed.\n",
      "INFO:sagemaker:Query 7b3426dd-c03a-4aa0-85c1-2b96be6abc3e is being executed.\n",
      "INFO:sagemaker:Query 7b3426dd-c03a-4aa0-85c1-2b96be6abc3e is being executed.\n",
      "INFO:sagemaker:Query 7b3426dd-c03a-4aa0-85c1-2b96be6abc3e is being executed.\n",
      "INFO:sagemaker:Query 7b3426dd-c03a-4aa0-85c1-2b96be6abc3e is being executed.\n",
      "INFO:sagemaker:Query 7b3426dd-c03a-4aa0-85c1-2b96be6abc3e is being executed.\n",
      "INFO:sagemaker:Query 7b3426dd-c03a-4aa0-85c1-2b96be6abc3e is being executed.\n",
      "INFO:sagemaker:Query 7b3426dd-c03a-4aa0-85c1-2b96be6abc3e is being executed.\n",
      "INFO:sagemaker:Query 7b3426dd-c03a-4aa0-85c1-2b96be6abc3e is being executed.\n",
      "INFO:sagemaker:Query 7b3426dd-c03a-4aa0-85c1-2b96be6abc3e is being executed.\n",
      "INFO:sagemaker:Query 7b3426dd-c03a-4aa0-85c1-2b96be6abc3e is being executed.\n",
      "INFO:sagemaker:Query 7b3426dd-c03a-4aa0-85c1-2b96be6abc3e is being executed.\n",
      "INFO:sagemaker:Query 7b3426dd-c03a-4aa0-85c1-2b96be6abc3e is being executed.\n",
      "INFO:sagemaker:Query 7b3426dd-c03a-4aa0-85c1-2b96be6abc3e is being executed.\n",
      "INFO:sagemaker:Query 7b3426dd-c03a-4aa0-85c1-2b96be6abc3e is being executed.\n",
      "INFO:sagemaker:Query 7b3426dd-c03a-4aa0-85c1-2b96be6abc3e is being executed.\n",
      "INFO:sagemaker:Query 7b3426dd-c03a-4aa0-85c1-2b96be6abc3e is being executed.\n",
      "INFO:sagemaker:Query 7b3426dd-c03a-4aa0-85c1-2b96be6abc3e is being executed.\n",
      "INFO:sagemaker:Query 7b3426dd-c03a-4aa0-85c1-2b96be6abc3e is being executed.\n",
      "INFO:sagemaker:Query 7b3426dd-c03a-4aa0-85c1-2b96be6abc3e is being executed.\n",
      "INFO:sagemaker:Query 7b3426dd-c03a-4aa0-85c1-2b96be6abc3e successfully executed.\n"
     ]
    },
    {
     "data": {
      "text/html": [
       "<div>\n",
       "<style scoped>\n",
       "    .dataframe tbody tr th:only-of-type {\n",
       "        vertical-align: middle;\n",
       "    }\n",
       "\n",
       "    .dataframe tbody tr th {\n",
       "        vertical-align: top;\n",
       "    }\n",
       "\n",
       "    .dataframe thead th {\n",
       "        text-align: right;\n",
       "    }\n",
       "</style>\n",
       "<table border=\"1\" class=\"dataframe\">\n",
       "  <thead>\n",
       "    <tr style=\"text-align: right;\">\n",
       "      <th></th>\n",
       "      <th>write_time</th>\n",
       "      <th>api_invocation_time</th>\n",
       "      <th>is_deleted</th>\n",
       "      <th>tid</th>\n",
       "      <th>cc_num</th>\n",
       "      <th>datetime</th>\n",
       "      <th>fraud_label</th>\n",
       "      <th>amount</th>\n",
       "      <th>amt_ratio1</th>\n",
       "      <th>amt_ratio2</th>\n",
       "      <th>count_ratio</th>\n",
       "    </tr>\n",
       "  </thead>\n",
       "  <tbody>\n",
       "    <tr>\n",
       "      <th>0</th>\n",
       "      <td>2023-04-11 06:22:54.586 UTC</td>\n",
       "      <td>2023-04-11 06:22:54.586 UTC</td>\n",
       "      <td>False</td>\n",
       "      <td>5d4db570f8f62af433c6cf5007f2d646</td>\n",
       "      <td>4782709325872747</td>\n",
       "      <td>2020-01-10T00:03:03.000Z</td>\n",
       "      <td>0</td>\n",
       "      <td>479.25</td>\n",
       "      <td>2.350623</td>\n",
       "      <td>2.350623</td>\n",
       "      <td>0.035714</td>\n",
       "    </tr>\n",
       "    <tr>\n",
       "      <th>1</th>\n",
       "      <td>2023-04-11 06:22:54.586 UTC</td>\n",
       "      <td>2023-04-11 06:22:54.586 UTC</td>\n",
       "      <td>False</td>\n",
       "      <td>e548715b07ac8ed03bc7dc8a17114076</td>\n",
       "      <td>4060211938695469</td>\n",
       "      <td>2020-01-10T00:06:02.000Z</td>\n",
       "      <td>0</td>\n",
       "      <td>1450.79</td>\n",
       "      <td>8.464075</td>\n",
       "      <td>8.464075</td>\n",
       "      <td>0.031250</td>\n",
       "    </tr>\n",
       "    <tr>\n",
       "      <th>2</th>\n",
       "      <td>2023-04-11 06:22:54.586 UTC</td>\n",
       "      <td>2023-04-11 06:22:54.586 UTC</td>\n",
       "      <td>False</td>\n",
       "      <td>7e0a7cf8bf7906e53f4633ec33a08398</td>\n",
       "      <td>4977782900448667</td>\n",
       "      <td>2020-01-10T00:07:07.000Z</td>\n",
       "      <td>0</td>\n",
       "      <td>9258.93</td>\n",
       "      <td>13.732346</td>\n",
       "      <td>13.732346</td>\n",
       "      <td>0.047619</td>\n",
       "    </tr>\n",
       "    <tr>\n",
       "      <th>3</th>\n",
       "      <td>2023-04-11 06:22:54.586 UTC</td>\n",
       "      <td>2023-04-11 06:22:54.586 UTC</td>\n",
       "      <td>False</td>\n",
       "      <td>397c06dc8dc668d0aeb5eb3aaf35eec6</td>\n",
       "      <td>4886467332387622</td>\n",
       "      <td>2020-01-10T00:08:41.000Z</td>\n",
       "      <td>0</td>\n",
       "      <td>15.10</td>\n",
       "      <td>0.011744</td>\n",
       "      <td>0.011744</td>\n",
       "      <td>0.040000</td>\n",
       "    </tr>\n",
       "    <tr>\n",
       "      <th>4</th>\n",
       "      <td>2023-04-11 06:22:54.586 UTC</td>\n",
       "      <td>2023-04-11 06:22:54.586 UTC</td>\n",
       "      <td>False</td>\n",
       "      <td>de47c50a8bc6988c010df48988764897</td>\n",
       "      <td>4923506444841763</td>\n",
       "      <td>2020-01-10T00:12:28.000Z</td>\n",
       "      <td>0</td>\n",
       "      <td>94.75</td>\n",
       "      <td>0.145864</td>\n",
       "      <td>0.145864</td>\n",
       "      <td>0.047619</td>\n",
       "    </tr>\n",
       "  </tbody>\n",
       "</table>\n",
       "</div>"
      ],
      "text/plain": [
       "                    write_time          api_invocation_time  is_deleted  \\\n",
       "0  2023-04-11 06:22:54.586 UTC  2023-04-11 06:22:54.586 UTC       False   \n",
       "1  2023-04-11 06:22:54.586 UTC  2023-04-11 06:22:54.586 UTC       False   \n",
       "2  2023-04-11 06:22:54.586 UTC  2023-04-11 06:22:54.586 UTC       False   \n",
       "3  2023-04-11 06:22:54.586 UTC  2023-04-11 06:22:54.586 UTC       False   \n",
       "4  2023-04-11 06:22:54.586 UTC  2023-04-11 06:22:54.586 UTC       False   \n",
       "\n",
       "                                tid            cc_num  \\\n",
       "0  5d4db570f8f62af433c6cf5007f2d646  4782709325872747   \n",
       "1  e548715b07ac8ed03bc7dc8a17114076  4060211938695469   \n",
       "2  7e0a7cf8bf7906e53f4633ec33a08398  4977782900448667   \n",
       "3  397c06dc8dc668d0aeb5eb3aaf35eec6  4886467332387622   \n",
       "4  de47c50a8bc6988c010df48988764897  4923506444841763   \n",
       "\n",
       "                   datetime  fraud_label   amount  amt_ratio1  amt_ratio2  \\\n",
       "0  2020-01-10T00:03:03.000Z            0   479.25    2.350623    2.350623   \n",
       "1  2020-01-10T00:06:02.000Z            0  1450.79    8.464075    8.464075   \n",
       "2  2020-01-10T00:07:07.000Z            0  9258.93   13.732346   13.732346   \n",
       "3  2020-01-10T00:08:41.000Z            0    15.10    0.011744    0.011744   \n",
       "4  2020-01-10T00:12:28.000Z            0    94.75    0.145864    0.145864   \n",
       "\n",
       "   count_ratio  \n",
       "0     0.035714  \n",
       "1     0.031250  \n",
       "2     0.047619  \n",
       "3     0.040000  \n",
       "4     0.047619  "
      ]
     },
     "execution_count": 35,
     "metadata": {},
     "output_type": "execute_result"
    }
   ],
   "source": [
    "train_query.run(query_string=query_string, output_location=output_location)\n",
    "train_query.wait()\n",
    "query_df = train_query.as_dataframe()\n",
    "query_df.head(5)"
   ]
  },
  {
   "cell_type": "code",
   "execution_count": 11,
   "metadata": {},
   "outputs": [],
   "source": [
    "# train_df = query_df.columns"
   ]
  },
  {
   "cell_type": "markdown",
   "metadata": {},
   "source": [
    "First, let's load the results of the SageMaker Processing Job ran in the previous step into a Pandas dataframe. "
   ]
  },
  {
   "cell_type": "code",
   "execution_count": 12,
   "metadata": {},
   "outputs": [],
   "source": [
    "# df = pd.read_csv(f'{LOCAL_DIR}/aggregated/processing_output.csv')\n",
    "# #df.dropna(inplace=True)\n",
    "# df['cc_num'] = df['cc_num'].astype(np.int64)\n",
    "# df['fraud_label'] = df['fraud_label'].astype(np.int64)\n",
    "# df.head()\n",
    "# len(df)"
   ]
  },
  {
   "cell_type": "markdown",
   "metadata": {},
   "source": [
    "### Split DataFrame into Train & Test Sets"
   ]
  },
  {
   "cell_type": "markdown",
   "metadata": {},
   "source": [
    "The artifically generated dataset contains transactions from `2020-01-01` to `2020-06-01`. We will create a training and validation set out of transactions from `2020-01-15` and `2020-05-15`, discarding the first two weeks in order for our aggregated features to have built up sufficient history for cards and leaving the last two weeks as a holdout test set. "
   ]
  },
  {
   "cell_type": "code",
   "execution_count": 36,
   "metadata": {},
   "outputs": [],
   "source": [
    "training_start = '2020-01-15'\n",
    "training_end = '2020-05-15'\n",
    "\n",
    "training_df = query_df[(query_df.datetime > training_start) & (query_df.datetime < training_end)]\n",
    "test_df = query_df[query_df.datetime >= training_end]\n",
    "\n",
    "test_df.to_csv(f'{LOCAL_DIR}/test.csv', index=False)"
   ]
  },
  {
   "cell_type": "code",
   "execution_count": 37,
   "metadata": {},
   "outputs": [
    {
     "data": {
      "text/plain": [
       "write_time             4299147\n",
       "api_invocation_time    4299147\n",
       "is_deleted             4299147\n",
       "tid                    4299147\n",
       "cc_num                 4299147\n",
       "datetime               4299147\n",
       "fraud_label            4299147\n",
       "amount                 4299147\n",
       "amt_ratio1             4299147\n",
       "amt_ratio2             4299147\n",
       "count_ratio            4299147\n",
       "dtype: int64"
      ]
     },
     "execution_count": 37,
     "metadata": {},
     "output_type": "execute_result"
    }
   ],
   "source": [
    "training_df.count()"
   ]
  },
  {
   "cell_type": "code",
   "execution_count": 38,
   "metadata": {},
   "outputs": [
    {
     "data": {
      "text/plain": [
       "write_time             603210\n",
       "api_invocation_time    603210\n",
       "is_deleted             603210\n",
       "tid                    603210\n",
       "cc_num                 603210\n",
       "datetime               603210\n",
       "fraud_label            603210\n",
       "amount                 603210\n",
       "amt_ratio1             603210\n",
       "amt_ratio2             603210\n",
       "count_ratio            603210\n",
       "dtype: int64"
      ]
     },
     "execution_count": 38,
     "metadata": {},
     "output_type": "execute_result"
    }
   ],
   "source": [
    "test_df.count()"
   ]
  },
  {
   "cell_type": "markdown",
   "metadata": {},
   "source": [
    "Although we now have lots of information about each transaction in our training dataset, we don't want to pass everything as features to the XGBoost algorithm for training because some elements are not useful for detecting fraud or creating a performant model:\n",
    "- A transaction ID and timestamp is unique to the transaction and never seen again. \n",
    "- A card number, if included in the feature set at all, should be a categorical variable. But we don't want our model to learn that specific card numbers are associated with fraud as this might lead to our system blocking genuine behaviour. Instead we should only have the model learn to detect shifting patterns in a card's spending history. \n",
    "- Individual card numbers may have radically different spending patterns, so we will want to use normalized ratio features to train our XGBoost model to detect fraud. \n",
    "\n",
    "Given all of the above, we drop all columns except for the normalised ratio features and transaction amount from our training dataset."
   ]
  },
  {
   "cell_type": "code",
   "execution_count": 16,
   "metadata": {},
   "outputs": [
    {
     "name": "stderr",
     "output_type": "stream",
     "text": [
      "/opt/conda/lib/python3.7/site-packages/pandas/core/frame.py:4913: SettingWithCopyWarning: \n",
      "A value is trying to be set on a copy of a slice from a DataFrame\n",
      "\n",
      "See the caveats in the documentation: https://pandas.pydata.org/pandas-docs/stable/user_guide/indexing.html#returning-a-view-versus-a-copy\n",
      "  errors=errors,\n"
     ]
    }
   ],
   "source": [
    "training_df.drop(['tid','datetime'], axis=1, inplace=True)"
   ]
  },
  {
   "cell_type": "markdown",
   "metadata": {},
   "source": [
    "The [built-in XGBoost algorithm](https://docs.aws.amazon.com/sagemaker/latest/dg/xgboost.html) requires the label to be the first column in the training data:"
   ]
  },
  {
   "cell_type": "code",
   "execution_count": 17,
   "metadata": {},
   "outputs": [
    {
     "data": {
      "text/html": [
       "<div>\n",
       "<style scoped>\n",
       "    .dataframe tbody tr th:only-of-type {\n",
       "        vertical-align: middle;\n",
       "    }\n",
       "\n",
       "    .dataframe tbody tr th {\n",
       "        vertical-align: top;\n",
       "    }\n",
       "\n",
       "    .dataframe thead th {\n",
       "        text-align: right;\n",
       "    }\n",
       "</style>\n",
       "<table border=\"1\" class=\"dataframe\">\n",
       "  <thead>\n",
       "    <tr style=\"text-align: right;\">\n",
       "      <th></th>\n",
       "      <th>fraud_label</th>\n",
       "      <th>amount</th>\n",
       "      <th>amt_ratio1</th>\n",
       "      <th>amt_ratio2</th>\n",
       "      <th>count_ratio</th>\n",
       "    </tr>\n",
       "  </thead>\n",
       "  <tbody>\n",
       "    <tr>\n",
       "      <th>504</th>\n",
       "      <td>0</td>\n",
       "      <td>100.38</td>\n",
       "      <td>0.107553</td>\n",
       "      <td>0.107553</td>\n",
       "      <td>0.040000</td>\n",
       "    </tr>\n",
       "    <tr>\n",
       "      <th>505</th>\n",
       "      <td>0</td>\n",
       "      <td>24.12</td>\n",
       "      <td>0.033629</td>\n",
       "      <td>0.033629</td>\n",
       "      <td>0.040000</td>\n",
       "    </tr>\n",
       "    <tr>\n",
       "      <th>506</th>\n",
       "      <td>0</td>\n",
       "      <td>263.18</td>\n",
       "      <td>0.473681</td>\n",
       "      <td>0.473681</td>\n",
       "      <td>0.043478</td>\n",
       "    </tr>\n",
       "    <tr>\n",
       "      <th>507</th>\n",
       "      <td>0</td>\n",
       "      <td>10.20</td>\n",
       "      <td>0.012729</td>\n",
       "      <td>0.012729</td>\n",
       "      <td>0.037037</td>\n",
       "    </tr>\n",
       "    <tr>\n",
       "      <th>508</th>\n",
       "      <td>0</td>\n",
       "      <td>7.92</td>\n",
       "      <td>0.010722</td>\n",
       "      <td>0.010722</td>\n",
       "      <td>0.031250</td>\n",
       "    </tr>\n",
       "  </tbody>\n",
       "</table>\n",
       "</div>"
      ],
      "text/plain": [
       "     fraud_label  amount  amt_ratio1  amt_ratio2  count_ratio\n",
       "504            0  100.38    0.107553    0.107553     0.040000\n",
       "505            0   24.12    0.033629    0.033629     0.040000\n",
       "506            0  263.18    0.473681    0.473681     0.043478\n",
       "507            0   10.20    0.012729    0.012729     0.037037\n",
       "508            0    7.92    0.010722    0.010722     0.031250"
      ]
     },
     "execution_count": 17,
     "metadata": {},
     "output_type": "execute_result"
    }
   ],
   "source": [
    "training_df = training_df[['fraud_label', 'amount', 'amt_ratio1','amt_ratio2','count_ratio']]\n",
    "training_df.head()"
   ]
  },
  {
   "cell_type": "code",
   "execution_count": 18,
   "metadata": {},
   "outputs": [
    {
     "data": {
      "text/plain": [
       "10794"
      ]
     },
     "execution_count": 18,
     "metadata": {},
     "output_type": "execute_result"
    }
   ],
   "source": [
    "len(training_df[training_df['fraud_label'] ==1])"
   ]
  },
  {
   "cell_type": "code",
   "execution_count": 19,
   "metadata": {},
   "outputs": [],
   "source": [
    "train, val = train_test_split(training_df, test_size=0.3)\n",
    "train.to_csv(f'{LOCAL_DIR}/train.csv', header=False, index=False)\n",
    "val.to_csv(f'{LOCAL_DIR}/val.csv', header=False, index=False)"
   ]
  },
  {
   "cell_type": "code",
   "execution_count": 20,
   "metadata": {},
   "outputs": [
    {
     "name": "stdout",
     "output_type": "stream",
     "text": [
      "upload: data/train.csv to s3://sm-fs-demo/training/train.csv        \n",
      "upload: data/val.csv to s3://sm-fs-demo/training/val.csv          \n"
     ]
    }
   ],
   "source": [
    "!aws s3 cp {LOCAL_DIR}/train.csv s3://{BUCKET}/{PREFIX}/\n",
    "!aws s3 cp {LOCAL_DIR}/val.csv s3://{BUCKET}/{PREFIX}/"
   ]
  },
  {
   "cell_type": "code",
   "execution_count": 21,
   "metadata": {},
   "outputs": [
    {
     "name": "stderr",
     "output_type": "stream",
     "text": [
      "INFO:sagemaker:Creating training-job with name: sagemaker-xgboost-2023-04-11-06-03-43-854\n"
     ]
    },
    {
     "name": "stdout",
     "output_type": "stream",
     "text": [
      "2023-04-11 06:03:46 Starting - Starting the training job...\n",
      "2023-04-11 06:04:02 Starting - Preparing the instances for training...\n",
      "2023-04-11 06:04:49 Downloading - Downloading input data...\n",
      "2023-04-11 06:05:09 Training - Downloading the training image...\n",
      "2023-04-11 06:05:50 Training - Training image download completed. Training in progress...\u001b[34m[2023-04-11 06:06:07.119 ip-10-0-148-147.ec2.internal:7 INFO utils.py:27] RULE_JOB_STOP_SIGNAL_FILENAME: None\u001b[0m\n",
      "\u001b[34mINFO:sagemaker-containers:Imported framework sagemaker_xgboost_container.training\u001b[0m\n",
      "\u001b[34mINFO:sagemaker-containers:Failed to parse hyperparameter objective value binary:logistic to Json.\u001b[0m\n",
      "\u001b[34mReturning the value itself\u001b[0m\n",
      "\u001b[34mINFO:sagemaker-containers:No GPUs detected (normal if no gpus installed)\u001b[0m\n",
      "\u001b[34mINFO:sagemaker_xgboost_container.training:Running XGBoost Sagemaker in algorithm mode\u001b[0m\n",
      "\u001b[34mINFO:root:Determined delimiter of CSV input is ','\u001b[0m\n",
      "\u001b[34mINFO:root:Determined delimiter of CSV input is ','\u001b[0m\n",
      "\u001b[34mINFO:root:Determined delimiter of CSV input is ','\u001b[0m\n",
      "\u001b[34mINFO:root:Determined delimiter of CSV input is ','\u001b[0m\n",
      "\u001b[34mINFO:root:Single node training.\u001b[0m\n",
      "\u001b[34m[2023-04-11 06:06:08.498 ip-10-0-148-147.ec2.internal:7 INFO json_config.py:91] Creating hook from json_config at /opt/ml/input/config/debughookconfig.json.\u001b[0m\n",
      "\u001b[34m[2023-04-11 06:06:08.499 ip-10-0-148-147.ec2.internal:7 INFO hook.py:199] tensorboard_dir has not been set for the hook. SMDebug will not be exporting tensorboard summaries.\u001b[0m\n",
      "\u001b[34m[2023-04-11 06:06:08.499 ip-10-0-148-147.ec2.internal:7 INFO profiler_config_parser.py:102] User has disabled profiler.\u001b[0m\n",
      "\u001b[34m[2023-04-11 06:06:08.500 ip-10-0-148-147.ec2.internal:7 INFO hook.py:253] Saving to /opt/ml/output/tensors\u001b[0m\n",
      "\u001b[34m[2023-04-11 06:06:08.500 ip-10-0-148-147.ec2.internal:7 INFO state_store.py:77] The checkpoint config file /opt/ml/input/config/checkpointconfig.json does not exist.\u001b[0m\n",
      "\u001b[34mINFO:root:Debug hook created from config\u001b[0m\n",
      "\u001b[34mINFO:root:Train matrix has 3009402 rows and 4 columns\u001b[0m\n",
      "\u001b[34mINFO:root:Validation matrix has 1289745 rows\u001b[0m\n",
      "\u001b[34m[0]#011train-error:0.00130#011validation-error:0.00134\u001b[0m\n",
      "\u001b[34m[2023-04-11 06:06:09.827 ip-10-0-148-147.ec2.internal:7 INFO hook.py:413] Monitoring the collections: metrics\u001b[0m\n",
      "\u001b[34m[2023-04-11 06:06:09.829 ip-10-0-148-147.ec2.internal:7 INFO hook.py:476] Hook is writing from the hook with pid: 7\u001b[0m\n",
      "\u001b[34m[1]#011train-error:0.00125#011validation-error:0.00131\u001b[0m\n",
      "\u001b[34m[2]#011train-error:0.00128#011validation-error:0.00134\u001b[0m\n",
      "\u001b[34m[3]#011train-error:0.00128#011validation-error:0.00133\u001b[0m\n",
      "\u001b[34m[4]#011train-error:0.00127#011validation-error:0.00133\u001b[0m\n",
      "\u001b[34m[5]#011train-error:0.00127#011validation-error:0.00133\u001b[0m\n",
      "\u001b[34m[6]#011train-error:0.00126#011validation-error:0.00133\u001b[0m\n",
      "\u001b[34m[7]#011train-error:0.00126#011validation-error:0.00133\u001b[0m\n",
      "\u001b[34m[8]#011train-error:0.00125#011validation-error:0.00132\u001b[0m\n",
      "\u001b[34m[9]#011train-error:0.00125#011validation-error:0.00132\u001b[0m\n",
      "\u001b[34m[10]#011train-error:0.00125#011validation-error:0.00131\u001b[0m\n",
      "\u001b[34m[11]#011train-error:0.00124#011validation-error:0.00131\u001b[0m\n",
      "\u001b[34m[12]#011train-error:0.00124#011validation-error:0.00131\u001b[0m\n",
      "\u001b[34m[13]#011train-error:0.00123#011validation-error:0.00130\u001b[0m\n",
      "\u001b[34m[14]#011train-error:0.00123#011validation-error:0.00130\u001b[0m\n",
      "\u001b[34m[15]#011train-error:0.00123#011validation-error:0.00130\u001b[0m\n",
      "\u001b[34m[16]#011train-error:0.00123#011validation-error:0.00130\u001b[0m\n",
      "\u001b[34m[17]#011train-error:0.00123#011validation-error:0.00130\u001b[0m\n",
      "\u001b[34m[18]#011train-error:0.00122#011validation-error:0.00129\u001b[0m\n",
      "\u001b[34m[19]#011train-error:0.00122#011validation-error:0.00129\u001b[0m\n",
      "\u001b[34m[20]#011train-error:0.00122#011validation-error:0.00129\u001b[0m\n",
      "\u001b[34m[21]#011train-error:0.00123#011validation-error:0.00129\u001b[0m\n",
      "\u001b[34m[22]#011train-error:0.00122#011validation-error:0.00128\u001b[0m\n",
      "\u001b[34m[23]#011train-error:0.00122#011validation-error:0.00128\u001b[0m\n",
      "\u001b[34m[24]#011train-error:0.00122#011validation-error:0.00128\u001b[0m\n",
      "\u001b[34m[25]#011train-error:0.00122#011validation-error:0.00129\u001b[0m\n",
      "\u001b[34m[26]#011train-error:0.00122#011validation-error:0.00129\u001b[0m\n",
      "\u001b[34m[27]#011train-error:0.00122#011validation-error:0.00128\u001b[0m\n",
      "\u001b[34m[28]#011train-error:0.00122#011validation-error:0.00128\u001b[0m\n",
      "\u001b[34m[29]#011train-error:0.00122#011validation-error:0.00128\u001b[0m\n",
      "\u001b[34m[30]#011train-error:0.00122#011validation-error:0.00128\u001b[0m\n",
      "\u001b[34m[31]#011train-error:0.00122#011validation-error:0.00128\u001b[0m\n",
      "\u001b[34m[32]#011train-error:0.00121#011validation-error:0.00128\u001b[0m\n",
      "\u001b[34m[33]#011train-error:0.00121#011validation-error:0.00128\u001b[0m\n",
      "\u001b[34m[34]#011train-error:0.00121#011validation-error:0.00128\u001b[0m\n",
      "\u001b[34m[35]#011train-error:0.00121#011validation-error:0.00128\u001b[0m\n",
      "\u001b[34m[36]#011train-error:0.00121#011validation-error:0.00128\u001b[0m\n",
      "\u001b[34m[37]#011train-error:0.00121#011validation-error:0.00128\u001b[0m\n",
      "\u001b[34m[38]#011train-error:0.00121#011validation-error:0.00128\u001b[0m\n",
      "\u001b[34m[39]#011train-error:0.00121#011validation-error:0.00128\u001b[0m\n",
      "\u001b[34m[40]#011train-error:0.00120#011validation-error:0.00127\u001b[0m\n",
      "\u001b[34m[41]#011train-error:0.00120#011validation-error:0.00127\u001b[0m\n",
      "\u001b[34m[42]#011train-error:0.00120#011validation-error:0.00127\u001b[0m\n",
      "\u001b[34m[43]#011train-error:0.00120#011validation-error:0.00127\u001b[0m\n",
      "\u001b[34m[44]#011train-error:0.00120#011validation-error:0.00126\u001b[0m\n",
      "\u001b[34m[45]#011train-error:0.00120#011validation-error:0.00126\u001b[0m\n",
      "\u001b[34m[46]#011train-error:0.00119#011validation-error:0.00125\u001b[0m\n",
      "\u001b[34m[47]#011train-error:0.00119#011validation-error:0.00126\u001b[0m\n",
      "\u001b[34m[48]#011train-error:0.00119#011validation-error:0.00126\u001b[0m\n",
      "\u001b[34m[49]#011train-error:0.00119#011validation-error:0.00126\u001b[0m\n",
      "\u001b[34m[50]#011train-error:0.00119#011validation-error:0.00126\u001b[0m\n",
      "\u001b[34m[51]#011train-error:0.00119#011validation-error:0.00126\u001b[0m\n",
      "\u001b[34m[52]#011train-error:0.00119#011validation-error:0.00126\u001b[0m\n",
      "\u001b[34m[53]#011train-error:0.00119#011validation-error:0.00126\u001b[0m\n",
      "\u001b[34m[54]#011train-error:0.00118#011validation-error:0.00125\u001b[0m\n",
      "\u001b[34m[55]#011train-error:0.00118#011validation-error:0.00125\u001b[0m\n",
      "\u001b[34m[56]#011train-error:0.00119#011validation-error:0.00125\u001b[0m\n",
      "\u001b[34m[57]#011train-error:0.00118#011validation-error:0.00125\u001b[0m\n",
      "\u001b[34m[58]#011train-error:0.00118#011validation-error:0.00125\u001b[0m\n",
      "\u001b[34m[59]#011train-error:0.00118#011validation-error:0.00125\u001b[0m\n",
      "\u001b[34m[60]#011train-error:0.00118#011validation-error:0.00124\u001b[0m\n",
      "\u001b[34m[61]#011train-error:0.00118#011validation-error:0.00124\u001b[0m\n",
      "\u001b[34m[62]#011train-error:0.00118#011validation-error:0.00124\u001b[0m\n",
      "\u001b[34m[63]#011train-error:0.00118#011validation-error:0.00124\u001b[0m\n",
      "\u001b[34m[64]#011train-error:0.00118#011validation-error:0.00124\u001b[0m\n",
      "\u001b[34m[65]#011train-error:0.00118#011validation-error:0.00124\u001b[0m\n",
      "\u001b[34m[66]#011train-error:0.00118#011validation-error:0.00124\u001b[0m\n",
      "\u001b[34m[67]#011train-error:0.00118#011validation-error:0.00124\u001b[0m\n",
      "\u001b[34m[68]#011train-error:0.00118#011validation-error:0.00124\u001b[0m\n",
      "\u001b[34m[69]#011train-error:0.00117#011validation-error:0.00123\u001b[0m\n",
      "\u001b[34m[70]#011train-error:0.00117#011validation-error:0.00123\u001b[0m\n",
      "\u001b[34m[71]#011train-error:0.00117#011validation-error:0.00123\u001b[0m\n",
      "\u001b[34m[72]#011train-error:0.00117#011validation-error:0.00123\u001b[0m\n",
      "\u001b[34m[73]#011train-error:0.00117#011validation-error:0.00123\u001b[0m\n",
      "\u001b[34m[74]#011train-error:0.00117#011validation-error:0.00123\u001b[0m\n",
      "\u001b[34m[75]#011train-error:0.00117#011validation-error:0.00123\u001b[0m\n",
      "\u001b[34m[76]#011train-error:0.00117#011validation-error:0.00123\u001b[0m\n",
      "\u001b[34m[77]#011train-error:0.00117#011validation-error:0.00123\u001b[0m\n",
      "\u001b[34m[78]#011train-error:0.00117#011validation-error:0.00123\u001b[0m\n",
      "\u001b[34m[79]#011train-error:0.00117#011validation-error:0.00123\u001b[0m\n",
      "\u001b[34m[80]#011train-error:0.00117#011validation-error:0.00123\u001b[0m\n",
      "\u001b[34m[81]#011train-error:0.00117#011validation-error:0.00123\u001b[0m\n",
      "\u001b[34m[82]#011train-error:0.00117#011validation-error:0.00123\u001b[0m\n",
      "\u001b[34m[83]#011train-error:0.00117#011validation-error:0.00123\u001b[0m\n",
      "\u001b[34m[84]#011train-error:0.00117#011validation-error:0.00123\u001b[0m\n",
      "\u001b[34m[85]#011train-error:0.00117#011validation-error:0.00123\u001b[0m\n",
      "\u001b[34m[86]#011train-error:0.00117#011validation-error:0.00123\u001b[0m\n",
      "\u001b[34m[87]#011train-error:0.00117#011validation-error:0.00123\u001b[0m\n",
      "\u001b[34m[88]#011train-error:0.00116#011validation-error:0.00123\u001b[0m\n",
      "\u001b[34m[89]#011train-error:0.00116#011validation-error:0.00123\u001b[0m\n",
      "\u001b[34m[90]#011train-error:0.00116#011validation-error:0.00123\u001b[0m\n",
      "\u001b[34m[91]#011train-error:0.00116#011validation-error:0.00123\u001b[0m\n",
      "\u001b[34m[92]#011train-error:0.00116#011validation-error:0.00123\u001b[0m\n",
      "\u001b[34m[93]#011train-error:0.00116#011validation-error:0.00123\u001b[0m\n",
      "\u001b[34m[94]#011train-error:0.00116#011validation-error:0.00123\u001b[0m\n",
      "\u001b[34m[95]#011train-error:0.00116#011validation-error:0.00122\u001b[0m\n",
      "\u001b[34m[96]#011train-error:0.00116#011validation-error:0.00122\u001b[0m\n",
      "\u001b[34m[97]#011train-error:0.00116#011validation-error:0.00122\u001b[0m\n",
      "\u001b[34m[98]#011train-error:0.00116#011validation-error:0.00122\u001b[0m\n",
      "\u001b[34m[99]#011train-error:0.00116#011validation-error:0.00122\u001b[0m\n",
      "\n",
      "2023-04-11 06:07:51 Uploading - Uploading generated training model\n",
      "2023-04-11 06:07:51 Completed - Training job completed\n",
      "Training seconds: 182\n",
      "Billable seconds: 182\n"
     ]
    }
   ],
   "source": [
    "# initialize hyperparameters\n",
    "hyperparameters = {\n",
    "        \"max_depth\":\"5\",\n",
    "        \"eta\":\"0.2\",\n",
    "        \"gamma\":\"4\",\n",
    "        \"min_child_weight\":\"6\",\n",
    "        \"subsample\":\"0.7\",\n",
    "        \"objective\":\"binary:logistic\",\n",
    "        \"num_round\":\"100\"}\n",
    "\n",
    "output_path = 's3://{}/{}/output'.format(BUCKET, PREFIX)\n",
    "\n",
    "# this line automatically looks for the XGBoost image URI and builds an XGBoost container.\n",
    "# specify the repo_version depending on your preference.\n",
    "xgboost_container = sagemaker.image_uris.retrieve(\"xgboost\", sagemaker.Session().boto_region_name, \"1.2-1\")\n",
    "\n",
    "# construct a SageMaker estimator that calls the xgboost-container\n",
    "estimator = sagemaker.estimator.Estimator(image_uri=xgboost_container, \n",
    "                                          hyperparameters=hyperparameters,\n",
    "                                          role=sagemaker.get_execution_role(),\n",
    "                                          instance_count=1, \n",
    "                                          instance_type='ml.m5.2xlarge', \n",
    "                                          volume_size=5, # 5 GB \n",
    "                                          output_path=output_path)\n",
    "\n",
    "# define the data type and paths to the training and validation datasets\n",
    "content_type = \"csv\"\n",
    "train_input = TrainingInput(\"s3://{}/{}/{}\".format(BUCKET, PREFIX, 'train.csv'), content_type=content_type)\n",
    "validation_input = TrainingInput(\"s3://{}/{}/{}\".format(BUCKET, PREFIX, 'val.csv'), content_type=content_type)\n",
    "\n",
    "# execute the XGBoost training job\n",
    "estimator.fit({'train': train_input, 'validation': validation_input})"
   ]
  },
  {
   "cell_type": "markdown",
   "metadata": {},
   "source": [
    "Ideally we would perform hyperparameter tuning before deployment, but for the purposes of this example will deploy the model that resulted from the Training Job directly to a SageMaker hosted endpoint."
   ]
  },
  {
   "cell_type": "code",
   "execution_count": 22,
   "metadata": {},
   "outputs": [
    {
     "name": "stderr",
     "output_type": "stream",
     "text": [
      "INFO:sagemaker:Creating model with name: sagemaker-xgboost-2023-04-11-06-08-10-451\n",
      "INFO:sagemaker:Creating endpoint-config with name sagemaker-xgboost-2023-04-11-06-08-10-451\n",
      "INFO:sagemaker:Creating endpoint with name sagemaker-xgboost-2023-04-11-06-08-10-451\n"
     ]
    },
    {
     "name": "stdout",
     "output_type": "stream",
     "text": [
      "--------!"
     ]
    }
   ],
   "source": [
    "predictor = estimator.deploy(\n",
    "    initial_instance_count=1, \n",
    "    instance_type='ml.t2.medium',\n",
    "    serializer=sagemaker.serializers.CSVSerializer(), wait=True)"
   ]
  },
  {
   "cell_type": "code",
   "execution_count": 23,
   "metadata": {},
   "outputs": [],
   "source": [
    "endpoint_name=predictor.endpoint_name\n"
   ]
  },
  {
   "cell_type": "code",
   "execution_count": 24,
   "metadata": {},
   "outputs": [
    {
     "name": "stdout",
     "output_type": "stream",
     "text": [
      "Stored 'endpoint_name' (str)\n"
     ]
    },
    {
     "data": {
      "text/plain": [
       "'sagemaker-xgboost-2023-04-11-06-08-10-451'"
      ]
     },
     "execution_count": 24,
     "metadata": {},
     "output_type": "execute_result"
    }
   ],
   "source": [
    "#Store the endpoint name for later cleanup \n",
    "#'sagemaker-xgboost-2023-04-03-02-05-40-978'\n",
    "# endpoint_name = 'sagemaker-xgboost-2023-04-03-02-05-40-978'\n",
    "%store endpoint_name\n",
    "endpoint_name"
   ]
  },
  {
   "cell_type": "code",
   "execution_count": 25,
   "metadata": {},
   "outputs": [
    {
     "data": {
      "text/html": [
       "<div>\n",
       "<style scoped>\n",
       "    .dataframe tbody tr th:only-of-type {\n",
       "        vertical-align: middle;\n",
       "    }\n",
       "\n",
       "    .dataframe tbody tr th {\n",
       "        vertical-align: top;\n",
       "    }\n",
       "\n",
       "    .dataframe thead th {\n",
       "        text-align: right;\n",
       "    }\n",
       "</style>\n",
       "<table border=\"1\" class=\"dataframe\">\n",
       "  <thead>\n",
       "    <tr style=\"text-align: right;\">\n",
       "      <th></th>\n",
       "      <th>write_time</th>\n",
       "      <th>api_invocation_time</th>\n",
       "      <th>is_deleted</th>\n",
       "      <th>tid</th>\n",
       "      <th>datetime</th>\n",
       "      <th>fraud_label</th>\n",
       "      <th>amount</th>\n",
       "      <th>amt_ratio1</th>\n",
       "      <th>amt_ratio2</th>\n",
       "      <th>count_ratio</th>\n",
       "    </tr>\n",
       "  </thead>\n",
       "  <tbody>\n",
       "    <tr>\n",
       "      <th>0</th>\n",
       "      <td>2023-04-11 05:59:45.563 UTC</td>\n",
       "      <td>2023-04-11 05:59:45.563 UTC</td>\n",
       "      <td>False</td>\n",
       "      <td>f24a1e1afd309582ae36f7aaaae1ed69</td>\n",
       "      <td>2020-05-25T00:01:36.000Z</td>\n",
       "      <td>0</td>\n",
       "      <td>89.00</td>\n",
       "      <td>0.069094</td>\n",
       "      <td>0.069094</td>\n",
       "      <td>0.041667</td>\n",
       "    </tr>\n",
       "    <tr>\n",
       "      <th>1</th>\n",
       "      <td>2023-04-11 05:59:45.563 UTC</td>\n",
       "      <td>2023-04-11 05:59:45.563 UTC</td>\n",
       "      <td>False</td>\n",
       "      <td>81972a8022f4efc87d765eb17dd8e60a</td>\n",
       "      <td>2020-05-25T00:03:24.000Z</td>\n",
       "      <td>0</td>\n",
       "      <td>46.74</td>\n",
       "      <td>0.063347</td>\n",
       "      <td>0.063347</td>\n",
       "      <td>0.027778</td>\n",
       "    </tr>\n",
       "    <tr>\n",
       "      <th>2</th>\n",
       "      <td>2023-04-11 05:59:45.563 UTC</td>\n",
       "      <td>2023-04-11 05:59:45.563 UTC</td>\n",
       "      <td>False</td>\n",
       "      <td>47dc4195861882c188693afde401588a</td>\n",
       "      <td>2020-05-25T00:08:11.000Z</td>\n",
       "      <td>0</td>\n",
       "      <td>144.38</td>\n",
       "      <td>0.888842</td>\n",
       "      <td>0.888842</td>\n",
       "      <td>0.032258</td>\n",
       "    </tr>\n",
       "    <tr>\n",
       "      <th>3</th>\n",
       "      <td>2023-04-11 05:59:45.563 UTC</td>\n",
       "      <td>2023-04-11 05:59:45.563 UTC</td>\n",
       "      <td>False</td>\n",
       "      <td>3562875b1b1be9972e1de2fd06eb6598</td>\n",
       "      <td>2020-05-25T00:09:51.000Z</td>\n",
       "      <td>0</td>\n",
       "      <td>29.85</td>\n",
       "      <td>0.055502</td>\n",
       "      <td>0.055502</td>\n",
       "      <td>0.028571</td>\n",
       "    </tr>\n",
       "    <tr>\n",
       "      <th>4</th>\n",
       "      <td>2023-04-11 05:59:45.563 UTC</td>\n",
       "      <td>2023-04-11 05:59:45.563 UTC</td>\n",
       "      <td>False</td>\n",
       "      <td>f2da106833a1d6953b7d8862990605cb</td>\n",
       "      <td>2020-05-25T00:10:51.000Z</td>\n",
       "      <td>0</td>\n",
       "      <td>69.89</td>\n",
       "      <td>0.088055</td>\n",
       "      <td>0.088055</td>\n",
       "      <td>0.040000</td>\n",
       "    </tr>\n",
       "  </tbody>\n",
       "</table>\n",
       "</div>"
      ],
      "text/plain": [
       "                    write_time          api_invocation_time  is_deleted  \\\n",
       "0  2023-04-11 05:59:45.563 UTC  2023-04-11 05:59:45.563 UTC       False   \n",
       "1  2023-04-11 05:59:45.563 UTC  2023-04-11 05:59:45.563 UTC       False   \n",
       "2  2023-04-11 05:59:45.563 UTC  2023-04-11 05:59:45.563 UTC       False   \n",
       "3  2023-04-11 05:59:45.563 UTC  2023-04-11 05:59:45.563 UTC       False   \n",
       "4  2023-04-11 05:59:45.563 UTC  2023-04-11 05:59:45.563 UTC       False   \n",
       "\n",
       "                                tid                  datetime  fraud_label  \\\n",
       "0  f24a1e1afd309582ae36f7aaaae1ed69  2020-05-25T00:01:36.000Z            0   \n",
       "1  81972a8022f4efc87d765eb17dd8e60a  2020-05-25T00:03:24.000Z            0   \n",
       "2  47dc4195861882c188693afde401588a  2020-05-25T00:08:11.000Z            0   \n",
       "3  3562875b1b1be9972e1de2fd06eb6598  2020-05-25T00:09:51.000Z            0   \n",
       "4  f2da106833a1d6953b7d8862990605cb  2020-05-25T00:10:51.000Z            0   \n",
       "\n",
       "   amount  amt_ratio1  amt_ratio2  count_ratio  \n",
       "0   89.00    0.069094    0.069094     0.041667  \n",
       "1   46.74    0.063347    0.063347     0.027778  \n",
       "2  144.38    0.888842    0.888842     0.032258  \n",
       "3   29.85    0.055502    0.055502     0.028571  \n",
       "4   69.89    0.088055    0.088055     0.040000  "
      ]
     },
     "execution_count": 25,
     "metadata": {},
     "output_type": "execute_result"
    }
   ],
   "source": [
    "test_df.head(5)"
   ]
  },
  {
   "cell_type": "markdown",
   "metadata": {},
   "source": [
    "Now to check that our endpoint is working, let's call it directly with a record from our test hold-out set. "
   ]
  },
  {
   "cell_type": "code",
   "execution_count": 26,
   "metadata": {},
   "outputs": [
    {
     "data": {
      "text/plain": [
       "'89.0,0.0690935897904516,0.0690935897904516,0.0416666666666666'"
      ]
     },
     "execution_count": 26,
     "metadata": {},
     "output_type": "execute_result"
    }
   ],
   "source": [
    "payload_df = test_df.drop(['tid','datetime','write_time','api_invocation_time','is_deleted','fraud_label'], axis=1)\n",
    "payload = payload_df.head(1).to_csv(index=False, header=False).strip()\n",
    "payload"
   ]
  },
  {
   "cell_type": "code",
   "execution_count": 27,
   "metadata": {},
   "outputs": [
    {
     "data": {
      "text/plain": [
       "0.00024796303478069603"
      ]
     },
     "execution_count": 27,
     "metadata": {},
     "output_type": "execute_result"
    }
   ],
   "source": [
    "float(predictor.predict(payload).decode('utf-8'))"
   ]
  },
  {
   "cell_type": "markdown",
   "metadata": {},
   "source": [
    "## Show that the model predicts FRAUD / NOT FRAUD"
   ]
  },
  {
   "cell_type": "code",
   "execution_count": 28,
   "metadata": {},
   "outputs": [
    {
     "name": "stdout",
     "output_type": "stream",
     "text": [
      "With transaction count ratio of: 0.30, fraud score: 0.919\n"
     ]
    }
   ],
   "source": [
    "count_ratio = 0.30\n",
    "payload = f'1.00,1.0,1.0,{count_ratio:.2f}'\n",
    "is_fraud = float(predictor.predict(payload).decode('utf-8'))\n",
    "print(f'With transaction count ratio of: {count_ratio:.2f}, fraud score: {is_fraud:.3f}')"
   ]
  },
  {
   "cell_type": "code",
   "execution_count": 29,
   "metadata": {
    "tags": []
   },
   "outputs": [
    {
     "name": "stdout",
     "output_type": "stream",
     "text": [
      "With transaction count ratio of: 0.06, fraud score: 0.002\n"
     ]
    }
   ],
   "source": [
    "count_ratio = 0.06\n",
    "payload = f'1.00,1.0,1.0,{count_ratio:.2f}'\n",
    "is_fraud = float(predictor.predict(payload).decode('utf-8'))\n",
    "print(f'With transaction count ratio of: {count_ratio:.2f}, fraud score: {is_fraud:.3f}')"
   ]
  }
 ],
 "metadata": {
  "availableInstances": [
   {
    "_defaultOrder": 0,
    "_isFastLaunch": true,
    "category": "General purpose",
    "gpuNum": 0,
    "hideHardwareSpecs": false,
    "memoryGiB": 4,
    "name": "ml.t3.medium",
    "vcpuNum": 2
   },
   {
    "_defaultOrder": 1,
    "_isFastLaunch": false,
    "category": "General purpose",
    "gpuNum": 0,
    "hideHardwareSpecs": false,
    "memoryGiB": 8,
    "name": "ml.t3.large",
    "vcpuNum": 2
   },
   {
    "_defaultOrder": 2,
    "_isFastLaunch": false,
    "category": "General purpose",
    "gpuNum": 0,
    "hideHardwareSpecs": false,
    "memoryGiB": 16,
    "name": "ml.t3.xlarge",
    "vcpuNum": 4
   },
   {
    "_defaultOrder": 3,
    "_isFastLaunch": false,
    "category": "General purpose",
    "gpuNum": 0,
    "hideHardwareSpecs": false,
    "memoryGiB": 32,
    "name": "ml.t3.2xlarge",
    "vcpuNum": 8
   },
   {
    "_defaultOrder": 4,
    "_isFastLaunch": true,
    "category": "General purpose",
    "gpuNum": 0,
    "hideHardwareSpecs": false,
    "memoryGiB": 8,
    "name": "ml.m5.large",
    "vcpuNum": 2
   },
   {
    "_defaultOrder": 5,
    "_isFastLaunch": false,
    "category": "General purpose",
    "gpuNum": 0,
    "hideHardwareSpecs": false,
    "memoryGiB": 16,
    "name": "ml.m5.xlarge",
    "vcpuNum": 4
   },
   {
    "_defaultOrder": 6,
    "_isFastLaunch": false,
    "category": "General purpose",
    "gpuNum": 0,
    "hideHardwareSpecs": false,
    "memoryGiB": 32,
    "name": "ml.m5.2xlarge",
    "vcpuNum": 8
   },
   {
    "_defaultOrder": 7,
    "_isFastLaunch": false,
    "category": "General purpose",
    "gpuNum": 0,
    "hideHardwareSpecs": false,
    "memoryGiB": 64,
    "name": "ml.m5.4xlarge",
    "vcpuNum": 16
   },
   {
    "_defaultOrder": 8,
    "_isFastLaunch": false,
    "category": "General purpose",
    "gpuNum": 0,
    "hideHardwareSpecs": false,
    "memoryGiB": 128,
    "name": "ml.m5.8xlarge",
    "vcpuNum": 32
   },
   {
    "_defaultOrder": 9,
    "_isFastLaunch": false,
    "category": "General purpose",
    "gpuNum": 0,
    "hideHardwareSpecs": false,
    "memoryGiB": 192,
    "name": "ml.m5.12xlarge",
    "vcpuNum": 48
   },
   {
    "_defaultOrder": 10,
    "_isFastLaunch": false,
    "category": "General purpose",
    "gpuNum": 0,
    "hideHardwareSpecs": false,
    "memoryGiB": 256,
    "name": "ml.m5.16xlarge",
    "vcpuNum": 64
   },
   {
    "_defaultOrder": 11,
    "_isFastLaunch": false,
    "category": "General purpose",
    "gpuNum": 0,
    "hideHardwareSpecs": false,
    "memoryGiB": 384,
    "name": "ml.m5.24xlarge",
    "vcpuNum": 96
   },
   {
    "_defaultOrder": 12,
    "_isFastLaunch": false,
    "category": "General purpose",
    "gpuNum": 0,
    "hideHardwareSpecs": false,
    "memoryGiB": 8,
    "name": "ml.m5d.large",
    "vcpuNum": 2
   },
   {
    "_defaultOrder": 13,
    "_isFastLaunch": false,
    "category": "General purpose",
    "gpuNum": 0,
    "hideHardwareSpecs": false,
    "memoryGiB": 16,
    "name": "ml.m5d.xlarge",
    "vcpuNum": 4
   },
   {
    "_defaultOrder": 14,
    "_isFastLaunch": false,
    "category": "General purpose",
    "gpuNum": 0,
    "hideHardwareSpecs": false,
    "memoryGiB": 32,
    "name": "ml.m5d.2xlarge",
    "vcpuNum": 8
   },
   {
    "_defaultOrder": 15,
    "_isFastLaunch": false,
    "category": "General purpose",
    "gpuNum": 0,
    "hideHardwareSpecs": false,
    "memoryGiB": 64,
    "name": "ml.m5d.4xlarge",
    "vcpuNum": 16
   },
   {
    "_defaultOrder": 16,
    "_isFastLaunch": false,
    "category": "General purpose",
    "gpuNum": 0,
    "hideHardwareSpecs": false,
    "memoryGiB": 128,
    "name": "ml.m5d.8xlarge",
    "vcpuNum": 32
   },
   {
    "_defaultOrder": 17,
    "_isFastLaunch": false,
    "category": "General purpose",
    "gpuNum": 0,
    "hideHardwareSpecs": false,
    "memoryGiB": 192,
    "name": "ml.m5d.12xlarge",
    "vcpuNum": 48
   },
   {
    "_defaultOrder": 18,
    "_isFastLaunch": false,
    "category": "General purpose",
    "gpuNum": 0,
    "hideHardwareSpecs": false,
    "memoryGiB": 256,
    "name": "ml.m5d.16xlarge",
    "vcpuNum": 64
   },
   {
    "_defaultOrder": 19,
    "_isFastLaunch": false,
    "category": "General purpose",
    "gpuNum": 0,
    "hideHardwareSpecs": false,
    "memoryGiB": 384,
    "name": "ml.m5d.24xlarge",
    "vcpuNum": 96
   },
   {
    "_defaultOrder": 20,
    "_isFastLaunch": false,
    "category": "General purpose",
    "gpuNum": 0,
    "hideHardwareSpecs": true,
    "memoryGiB": 0,
    "name": "ml.geospatial.interactive",
    "supportedImageNames": [
     "sagemaker-geospatial-v1-0"
    ],
    "vcpuNum": 0
   },
   {
    "_defaultOrder": 21,
    "_isFastLaunch": true,
    "category": "Compute optimized",
    "gpuNum": 0,
    "hideHardwareSpecs": false,
    "memoryGiB": 4,
    "name": "ml.c5.large",
    "vcpuNum": 2
   },
   {
    "_defaultOrder": 22,
    "_isFastLaunch": false,
    "category": "Compute optimized",
    "gpuNum": 0,
    "hideHardwareSpecs": false,
    "memoryGiB": 8,
    "name": "ml.c5.xlarge",
    "vcpuNum": 4
   },
   {
    "_defaultOrder": 23,
    "_isFastLaunch": false,
    "category": "Compute optimized",
    "gpuNum": 0,
    "hideHardwareSpecs": false,
    "memoryGiB": 16,
    "name": "ml.c5.2xlarge",
    "vcpuNum": 8
   },
   {
    "_defaultOrder": 24,
    "_isFastLaunch": false,
    "category": "Compute optimized",
    "gpuNum": 0,
    "hideHardwareSpecs": false,
    "memoryGiB": 32,
    "name": "ml.c5.4xlarge",
    "vcpuNum": 16
   },
   {
    "_defaultOrder": 25,
    "_isFastLaunch": false,
    "category": "Compute optimized",
    "gpuNum": 0,
    "hideHardwareSpecs": false,
    "memoryGiB": 72,
    "name": "ml.c5.9xlarge",
    "vcpuNum": 36
   },
   {
    "_defaultOrder": 26,
    "_isFastLaunch": false,
    "category": "Compute optimized",
    "gpuNum": 0,
    "hideHardwareSpecs": false,
    "memoryGiB": 96,
    "name": "ml.c5.12xlarge",
    "vcpuNum": 48
   },
   {
    "_defaultOrder": 27,
    "_isFastLaunch": false,
    "category": "Compute optimized",
    "gpuNum": 0,
    "hideHardwareSpecs": false,
    "memoryGiB": 144,
    "name": "ml.c5.18xlarge",
    "vcpuNum": 72
   },
   {
    "_defaultOrder": 28,
    "_isFastLaunch": false,
    "category": "Compute optimized",
    "gpuNum": 0,
    "hideHardwareSpecs": false,
    "memoryGiB": 192,
    "name": "ml.c5.24xlarge",
    "vcpuNum": 96
   },
   {
    "_defaultOrder": 29,
    "_isFastLaunch": true,
    "category": "Accelerated computing",
    "gpuNum": 1,
    "hideHardwareSpecs": false,
    "memoryGiB": 16,
    "name": "ml.g4dn.xlarge",
    "vcpuNum": 4
   },
   {
    "_defaultOrder": 30,
    "_isFastLaunch": false,
    "category": "Accelerated computing",
    "gpuNum": 1,
    "hideHardwareSpecs": false,
    "memoryGiB": 32,
    "name": "ml.g4dn.2xlarge",
    "vcpuNum": 8
   },
   {
    "_defaultOrder": 31,
    "_isFastLaunch": false,
    "category": "Accelerated computing",
    "gpuNum": 1,
    "hideHardwareSpecs": false,
    "memoryGiB": 64,
    "name": "ml.g4dn.4xlarge",
    "vcpuNum": 16
   },
   {
    "_defaultOrder": 32,
    "_isFastLaunch": false,
    "category": "Accelerated computing",
    "gpuNum": 1,
    "hideHardwareSpecs": false,
    "memoryGiB": 128,
    "name": "ml.g4dn.8xlarge",
    "vcpuNum": 32
   },
   {
    "_defaultOrder": 33,
    "_isFastLaunch": false,
    "category": "Accelerated computing",
    "gpuNum": 4,
    "hideHardwareSpecs": false,
    "memoryGiB": 192,
    "name": "ml.g4dn.12xlarge",
    "vcpuNum": 48
   },
   {
    "_defaultOrder": 34,
    "_isFastLaunch": false,
    "category": "Accelerated computing",
    "gpuNum": 1,
    "hideHardwareSpecs": false,
    "memoryGiB": 256,
    "name": "ml.g4dn.16xlarge",
    "vcpuNum": 64
   },
   {
    "_defaultOrder": 35,
    "_isFastLaunch": false,
    "category": "Accelerated computing",
    "gpuNum": 1,
    "hideHardwareSpecs": false,
    "memoryGiB": 61,
    "name": "ml.p3.2xlarge",
    "vcpuNum": 8
   },
   {
    "_defaultOrder": 36,
    "_isFastLaunch": false,
    "category": "Accelerated computing",
    "gpuNum": 4,
    "hideHardwareSpecs": false,
    "memoryGiB": 244,
    "name": "ml.p3.8xlarge",
    "vcpuNum": 32
   },
   {
    "_defaultOrder": 37,
    "_isFastLaunch": false,
    "category": "Accelerated computing",
    "gpuNum": 8,
    "hideHardwareSpecs": false,
    "memoryGiB": 488,
    "name": "ml.p3.16xlarge",
    "vcpuNum": 64
   },
   {
    "_defaultOrder": 38,
    "_isFastLaunch": false,
    "category": "Accelerated computing",
    "gpuNum": 8,
    "hideHardwareSpecs": false,
    "memoryGiB": 768,
    "name": "ml.p3dn.24xlarge",
    "vcpuNum": 96
   },
   {
    "_defaultOrder": 39,
    "_isFastLaunch": false,
    "category": "Memory Optimized",
    "gpuNum": 0,
    "hideHardwareSpecs": false,
    "memoryGiB": 16,
    "name": "ml.r5.large",
    "vcpuNum": 2
   },
   {
    "_defaultOrder": 40,
    "_isFastLaunch": false,
    "category": "Memory Optimized",
    "gpuNum": 0,
    "hideHardwareSpecs": false,
    "memoryGiB": 32,
    "name": "ml.r5.xlarge",
    "vcpuNum": 4
   },
   {
    "_defaultOrder": 41,
    "_isFastLaunch": false,
    "category": "Memory Optimized",
    "gpuNum": 0,
    "hideHardwareSpecs": false,
    "memoryGiB": 64,
    "name": "ml.r5.2xlarge",
    "vcpuNum": 8
   },
   {
    "_defaultOrder": 42,
    "_isFastLaunch": false,
    "category": "Memory Optimized",
    "gpuNum": 0,
    "hideHardwareSpecs": false,
    "memoryGiB": 128,
    "name": "ml.r5.4xlarge",
    "vcpuNum": 16
   },
   {
    "_defaultOrder": 43,
    "_isFastLaunch": false,
    "category": "Memory Optimized",
    "gpuNum": 0,
    "hideHardwareSpecs": false,
    "memoryGiB": 256,
    "name": "ml.r5.8xlarge",
    "vcpuNum": 32
   },
   {
    "_defaultOrder": 44,
    "_isFastLaunch": false,
    "category": "Memory Optimized",
    "gpuNum": 0,
    "hideHardwareSpecs": false,
    "memoryGiB": 384,
    "name": "ml.r5.12xlarge",
    "vcpuNum": 48
   },
   {
    "_defaultOrder": 45,
    "_isFastLaunch": false,
    "category": "Memory Optimized",
    "gpuNum": 0,
    "hideHardwareSpecs": false,
    "memoryGiB": 512,
    "name": "ml.r5.16xlarge",
    "vcpuNum": 64
   },
   {
    "_defaultOrder": 46,
    "_isFastLaunch": false,
    "category": "Memory Optimized",
    "gpuNum": 0,
    "hideHardwareSpecs": false,
    "memoryGiB": 768,
    "name": "ml.r5.24xlarge",
    "vcpuNum": 96
   },
   {
    "_defaultOrder": 47,
    "_isFastLaunch": false,
    "category": "Accelerated computing",
    "gpuNum": 1,
    "hideHardwareSpecs": false,
    "memoryGiB": 16,
    "name": "ml.g5.xlarge",
    "vcpuNum": 4
   },
   {
    "_defaultOrder": 48,
    "_isFastLaunch": false,
    "category": "Accelerated computing",
    "gpuNum": 1,
    "hideHardwareSpecs": false,
    "memoryGiB": 32,
    "name": "ml.g5.2xlarge",
    "vcpuNum": 8
   },
   {
    "_defaultOrder": 49,
    "_isFastLaunch": false,
    "category": "Accelerated computing",
    "gpuNum": 1,
    "hideHardwareSpecs": false,
    "memoryGiB": 64,
    "name": "ml.g5.4xlarge",
    "vcpuNum": 16
   },
   {
    "_defaultOrder": 50,
    "_isFastLaunch": false,
    "category": "Accelerated computing",
    "gpuNum": 1,
    "hideHardwareSpecs": false,
    "memoryGiB": 128,
    "name": "ml.g5.8xlarge",
    "vcpuNum": 32
   },
   {
    "_defaultOrder": 51,
    "_isFastLaunch": false,
    "category": "Accelerated computing",
    "gpuNum": 1,
    "hideHardwareSpecs": false,
    "memoryGiB": 256,
    "name": "ml.g5.16xlarge",
    "vcpuNum": 64
   },
   {
    "_defaultOrder": 52,
    "_isFastLaunch": false,
    "category": "Accelerated computing",
    "gpuNum": 4,
    "hideHardwareSpecs": false,
    "memoryGiB": 192,
    "name": "ml.g5.12xlarge",
    "vcpuNum": 48
   },
   {
    "_defaultOrder": 53,
    "_isFastLaunch": false,
    "category": "Accelerated computing",
    "gpuNum": 4,
    "hideHardwareSpecs": false,
    "memoryGiB": 384,
    "name": "ml.g5.24xlarge",
    "vcpuNum": 96
   },
   {
    "_defaultOrder": 54,
    "_isFastLaunch": false,
    "category": "Accelerated computing",
    "gpuNum": 8,
    "hideHardwareSpecs": false,
    "memoryGiB": 768,
    "name": "ml.g5.48xlarge",
    "vcpuNum": 192
   }
  ],
  "instance_type": "ml.m5.xlarge",
  "kernelspec": {
   "display_name": "Python 3 (Data Science)",
   "language": "python",
   "name": "python3__SAGEMAKER_INTERNAL__arn:aws:sagemaker:us-east-1:081325390199:image/datascience-1.0"
  },
  "language_info": {
   "codemirror_mode": {
    "name": "ipython",
    "version": 3
   },
   "file_extension": ".py",
   "mimetype": "text/x-python",
   "name": "python",
   "nbconvert_exporter": "python",
   "pygments_lexer": "ipython3",
   "version": "3.7.10"
  }
 },
 "nbformat": 4,
 "nbformat_minor": 4
}
