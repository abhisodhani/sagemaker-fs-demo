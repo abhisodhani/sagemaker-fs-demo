{
 "cells": [
  {
   "cell_type": "markdown",
   "metadata": {},
   "source": [
    "# Making predictions using streaming aggregated features\n",
    "\n",
    "All prior notebooks have been setting up our end to end solution. Now that all those steps are complete, it is time to see the solution in action. In this notebook, we will send credit card transactions to our input Kinesis stream and show that we can detect fraud. We take advantage of multiple online feature groups in the Amazon SageMaker Feature Store. One of those feature groups is refreshed by a processing job, which we would run nightly to provide aggregate features looking back one week. The other feature group uses streaming ingestion to aggregate features that look back over a rolling 10-minute window.\n",
    "\n",
    "<img src=\"./images/streaming_prediction.png\" />\n",
    "\n",
    "\n",
    "### Recap of what is in place\n",
    "\n",
    "Here is a recap of what we have done so far:\n",
    "\n",
    "1. In [notebook 0](./0_prepare_transactions_dataset.ipynb), We generated a synthetic dataset of transactions, including simulated fraud attacks.\n",
    "2. In [notebook 1](./1_setup.ipynb), we created our two feature groups. In that same notebook, we also created a Kinesis data stream and a Kinesis Data Analytics SQL application that consumes the transaction stream and produces aggregate features. These features are provided in near real time to Lambda, and they look back over a 10 minute window.\n",
    "3. In [notebook 2](./2_batch_ingestion.ipynb), we used a SageMaker Processing Job to create aggregated features and used them to feed both the training dataset as well as an online feature group.\n",
    "4. In [notebook 3](./3_train_and_deploy_model.ipynb), we trained and deployed an XGBoost model to detect fraud.\n",
    "5. Our [CloudFormation template](https://console.aws.amazon.com/cloudformation/home) deployed a pair of Lambda functions. One listens to the KDA SQL output and keeps the `cc-agg-fg` feature group up to date. The other Lambda listens to the Kinesis data stream for transactions, pulls a set of features from multiple feature groups, and invokes our fraud detection endpoint, as seen in the above picture."
   ]
  },
  {
   "cell_type": "markdown",
   "metadata": {},
   "source": [
    "## Imports and overall setup\n",
    "\n",
    "### Imports and initialization"
   ]
  },
  {
   "cell_type": "code",
   "execution_count": 289,
   "metadata": {},
   "outputs": [],
   "source": [
    "from datetime import datetime\n",
    "import numpy as np\n",
    "import pandas as pd\n",
    "import sagemaker\n",
    "import boto3\n",
    "import json\n",
    "import time\n",
    "from sagemaker import get_execution_role\n",
    "import logging\n",
    "from datetime import datetime, timezone, date"
   ]
  },
  {
   "cell_type": "code",
   "execution_count": 256,
   "metadata": {},
   "outputs": [],
   "source": [
    "LOCAL_DIR = './data'\n",
    "BUCKET = 'chime-fs-demo'\n",
    "PREFIX = 'testing'\n",
    "STREAM_NAME = 'cc-chime-stream'\n",
    "\n",
    "s3_client = boto3.Session().client('s3')\n",
    "kinesis_client = boto3.client('kinesis')\n",
    "feature_group_name = 'cc-agg-chime-fg'\n",
    "role = 'arn:aws:iam::461312420708:role/sm-fs-streaming-agg-stack-SageMakerRole-WU81JV183YQ2'\n",
    "sm = boto3.Session().client(service_name='sagemaker')\n",
    "boto_session = boto3.Session(region_name=region)\n",
    "sagemaker_session = sagemaker.Session()\n",
    "region = sagemaker_session.boto_region_name\n",
    "smfs_runtime = boto3.Session().client(service_name='sagemaker-featurestore-runtime')\n",
    "sagemaker_runtime = boto_session.client(service_name='sagemaker', region_name=region)"
   ]
  },
  {
   "cell_type": "code",
   "execution_count": 261,
   "metadata": {},
   "outputs": [],
   "source": [
    "logger = logging.getLogger('__name__')\n",
    "logger.setLevel(logging.DEBUG)\n",
    "logger.addHandler(logging.StreamHandler())"
   ]
  },
  {
   "cell_type": "code",
   "execution_count": 3,
   "metadata": {},
   "outputs": [
    {
     "data": {
      "text/plain": [
       "'InvokeFraudEndpointLambda'"
      ]
     },
     "execution_count": 3,
     "metadata": {},
     "output_type": "execute_result"
    }
   ],
   "source": [
    "# The exact name of the Lambda function is controlled by our CloudFormation template, \n",
    "# so we access that here. We will use this to help get to the proper CloudWatch log group to see the\n",
    "# results of our testing.\n",
    "%store -r\n",
    "predict_lambda_name"
   ]
  },
  {
   "cell_type": "code",
   "execution_count": 288,
   "metadata": {},
   "outputs": [],
   "source": [
    "def generate_event_timestamp():\n",
    "    # naive datetime representing local time\n",
    "    naive_dt = datetime.now()\n",
    "    # take timezone into account\n",
    "    aware_dt = naive_dt.astimezone()\n",
    "    # time in UTC\n",
    "    utc_dt = aware_dt.astimezone(timezone.utc)\n",
    "    # transform to ISO-8601 format\n",
    "    event_time = utc_dt.isoformat(timespec='milliseconds')\n",
    "    event_time = event_time.replace('+00:00', 'Z')\n",
    "    return event_time"
   ]
  },
  {
   "cell_type": "markdown",
   "metadata": {},
   "source": [
    "### Ensure Lambda knows which SageMaker endpoint to use\n",
    "In our previous notebook that deploys a SageMaker endpoint, we allow the endpoint name to be generated on the fly instead of hard-coding a specific endpoint name. Our Lambda function that invokes the endpoint thus needs a way to know the endpoint name. We handle that through a Lambda environment variable.\n",
    "\n",
    "This section of code simply takes care of updating end ENDPOINT_NAME Lambda environment variable. It is important to do so before we start feeding transactions into our Kinesis stream."
   ]
  },
  {
   "cell_type": "code",
   "execution_count": null,
   "metadata": {},
   "outputs": [],
   "source": [
    "# lambda_client = boto3.client('lambda')\n",
    "\n",
    "# # Grab the latest endpoint name we used in the previous notebook, as well as the ARN for the lambda\n",
    "# %store -r\n",
    "# print(f'Updating Lambda to use endpoint: {endpoint_name} for ARN: {lambda_to_model_arn}')\n",
    "\n",
    "# variables = lambda_client.get_function_configuration(FunctionName=lambda_to_model_arn)['Environment']['Variables']\n",
    "# variables['ENDPOINT_NAME'] = endpoint_name\n",
    "# resp = lambda_client.update_function_configuration(\n",
    "#     FunctionName=lambda_to_model_arn,\n",
    "#       Environment={\n",
    "#         'Variables': variables\n",
    "#     }\n",
    "# )"
   ]
  },
  {
   "cell_type": "markdown",
   "metadata": {},
   "source": [
    "### Access the transaction test dataset"
   ]
  },
  {
   "cell_type": "code",
   "execution_count": 38,
   "metadata": {},
   "outputs": [
    {
     "data": {
      "text/html": [
       "<div>\n",
       "<style scoped>\n",
       "    .dataframe tbody tr th:only-of-type {\n",
       "        vertical-align: middle;\n",
       "    }\n",
       "\n",
       "    .dataframe tbody tr th {\n",
       "        vertical-align: top;\n",
       "    }\n",
       "\n",
       "    .dataframe thead th {\n",
       "        text-align: right;\n",
       "    }\n",
       "</style>\n",
       "<table border=\"1\" class=\"dataframe\">\n",
       "  <thead>\n",
       "    <tr style=\"text-align: right;\">\n",
       "      <th></th>\n",
       "      <th>tid</th>\n",
       "      <th>datetime</th>\n",
       "      <th>cc_num</th>\n",
       "      <th>amount</th>\n",
       "      <th>fraud_label</th>\n",
       "      <th>num_trans_last_10m</th>\n",
       "      <th>avg_amt_last_10m</th>\n",
       "      <th>num_trans_last_1w</th>\n",
       "      <th>avg_amt_last_1w</th>\n",
       "      <th>amt_ratio1</th>\n",
       "      <th>amt_ratio2</th>\n",
       "      <th>count_ratio</th>\n",
       "    </tr>\n",
       "  </thead>\n",
       "  <tbody>\n",
       "    <tr>\n",
       "      <th>0</th>\n",
       "      <td>25ef7ecf6bde29e2bf5b66735f077119</td>\n",
       "      <td>2020-05-15T01:38:32.000Z</td>\n",
       "      <td>4006080197832643</td>\n",
       "      <td>70.76</td>\n",
       "      <td>0</td>\n",
       "      <td>1</td>\n",
       "      <td>70.76</td>\n",
       "      <td>26</td>\n",
       "      <td>984.194231</td>\n",
       "      <td>0.071896</td>\n",
       "      <td>0.071896</td>\n",
       "      <td>0.038462</td>\n",
       "    </tr>\n",
       "    <tr>\n",
       "      <th>1</th>\n",
       "      <td>92bfe503fe6652364737f947786580a8</td>\n",
       "      <td>2020-05-15T02:11:59.000Z</td>\n",
       "      <td>4006080197832643</td>\n",
       "      <td>926.79</td>\n",
       "      <td>0</td>\n",
       "      <td>1</td>\n",
       "      <td>926.79</td>\n",
       "      <td>27</td>\n",
       "      <td>982.068148</td>\n",
       "      <td>0.943713</td>\n",
       "      <td>0.943713</td>\n",
       "      <td>0.037037</td>\n",
       "    </tr>\n",
       "    <tr>\n",
       "      <th>2</th>\n",
       "      <td>29b01ac88c4348a153739ed565af61be</td>\n",
       "      <td>2020-05-15T11:16:20.000Z</td>\n",
       "      <td>4006080197832643</td>\n",
       "      <td>4809.12</td>\n",
       "      <td>0</td>\n",
       "      <td>1</td>\n",
       "      <td>4809.12</td>\n",
       "      <td>26</td>\n",
       "      <td>1199.561538</td>\n",
       "      <td>4.009065</td>\n",
       "      <td>4.009065</td>\n",
       "      <td>0.038462</td>\n",
       "    </tr>\n",
       "    <tr>\n",
       "      <th>3</th>\n",
       "      <td>3db2c34213b4304c45a1883dca0c128e</td>\n",
       "      <td>2020-05-16T01:19:53.000Z</td>\n",
       "      <td>4006080197832643</td>\n",
       "      <td>526.57</td>\n",
       "      <td>0</td>\n",
       "      <td>1</td>\n",
       "      <td>526.57</td>\n",
       "      <td>24</td>\n",
       "      <td>1243.201250</td>\n",
       "      <td>0.423560</td>\n",
       "      <td>0.423560</td>\n",
       "      <td>0.041667</td>\n",
       "    </tr>\n",
       "    <tr>\n",
       "      <th>4</th>\n",
       "      <td>eb102608b7ce9f302d7bc7b665d206bf</td>\n",
       "      <td>2020-05-16T07:36:13.000Z</td>\n",
       "      <td>4006080197832643</td>\n",
       "      <td>62.16</td>\n",
       "      <td>0</td>\n",
       "      <td>1</td>\n",
       "      <td>62.16</td>\n",
       "      <td>24</td>\n",
       "      <td>1242.700833</td>\n",
       "      <td>0.050020</td>\n",
       "      <td>0.050020</td>\n",
       "      <td>0.041667</td>\n",
       "    </tr>\n",
       "  </tbody>\n",
       "</table>\n",
       "</div>"
      ],
      "text/plain": [
       "                                tid                  datetime  \\\n",
       "0  25ef7ecf6bde29e2bf5b66735f077119  2020-05-15T01:38:32.000Z   \n",
       "1  92bfe503fe6652364737f947786580a8  2020-05-15T02:11:59.000Z   \n",
       "2  29b01ac88c4348a153739ed565af61be  2020-05-15T11:16:20.000Z   \n",
       "3  3db2c34213b4304c45a1883dca0c128e  2020-05-16T01:19:53.000Z   \n",
       "4  eb102608b7ce9f302d7bc7b665d206bf  2020-05-16T07:36:13.000Z   \n",
       "\n",
       "             cc_num   amount  fraud_label  num_trans_last_10m  \\\n",
       "0  4006080197832643    70.76            0                   1   \n",
       "1  4006080197832643   926.79            0                   1   \n",
       "2  4006080197832643  4809.12            0                   1   \n",
       "3  4006080197832643   526.57            0                   1   \n",
       "4  4006080197832643    62.16            0                   1   \n",
       "\n",
       "   avg_amt_last_10m  num_trans_last_1w  avg_amt_last_1w  amt_ratio1  \\\n",
       "0             70.76                 26       984.194231    0.071896   \n",
       "1            926.79                 27       982.068148    0.943713   \n",
       "2           4809.12                 26      1199.561538    4.009065   \n",
       "3            526.57                 24      1243.201250    0.423560   \n",
       "4             62.16                 24      1242.700833    0.050020   \n",
       "\n",
       "   amt_ratio2  count_ratio  \n",
       "0    0.071896     0.038462  \n",
       "1    0.943713     0.037037  \n",
       "2    4.009065     0.038462  \n",
       "3    0.423560     0.041667  \n",
       "4    0.050020     0.041667  "
      ]
     },
     "execution_count": 38,
     "metadata": {},
     "output_type": "execute_result"
    }
   ],
   "source": [
    "test_file_path =f'../../amazon-sagemaker-feature-store-streaming-aggregation/notebooks/data/test.csv'\n",
    "test_df = pd.read_csv(test_file_path)\n",
    "test_df.head()"
   ]
  },
  {
   "cell_type": "code",
   "execution_count": 5,
   "metadata": {},
   "outputs": [
    {
     "name": "stdout",
     "output_type": "stream",
     "text": [
      "(603210, 10)\n"
     ]
    }
   ],
   "source": [
    "test_df.head()\n",
    "print(test_df.shape)"
   ]
  },
  {
   "cell_type": "code",
   "execution_count": 241,
   "metadata": {},
   "outputs": [],
   "source": [
    "cc_map_df = pd.DataFrame(test_df['cc_num'].drop_duplicates()).reset_index(drop=True)"
   ]
  },
  {
   "cell_type": "code",
   "execution_count": 248,
   "metadata": {},
   "outputs": [
    {
     "data": {
      "text/html": [
       "<div>\n",
       "<style scoped>\n",
       "    .dataframe tbody tr th:only-of-type {\n",
       "        vertical-align: middle;\n",
       "    }\n",
       "\n",
       "    .dataframe tbody tr th {\n",
       "        vertical-align: top;\n",
       "    }\n",
       "\n",
       "    .dataframe thead th {\n",
       "        text-align: right;\n",
       "    }\n",
       "</style>\n",
       "<table border=\"1\" class=\"dataframe\">\n",
       "  <thead>\n",
       "    <tr style=\"text-align: right;\">\n",
       "      <th></th>\n",
       "      <th>cc_num</th>\n",
       "      <th>name</th>\n",
       "    </tr>\n",
       "  </thead>\n",
       "  <tbody>\n",
       "    <tr>\n",
       "      <th>0</th>\n",
       "      <td>4006080197832643</td>\n",
       "      <td>Todd Lynch</td>\n",
       "    </tr>\n",
       "    <tr>\n",
       "      <th>1</th>\n",
       "      <td>4008569092490794</td>\n",
       "      <td>Crystal Smith</td>\n",
       "    </tr>\n",
       "    <tr>\n",
       "      <th>2</th>\n",
       "      <td>4014600948537520</td>\n",
       "      <td>Alan Martinez</td>\n",
       "    </tr>\n",
       "    <tr>\n",
       "      <th>3</th>\n",
       "      <td>4015965906982664</td>\n",
       "      <td>Richard Mcguire</td>\n",
       "    </tr>\n",
       "    <tr>\n",
       "      <th>4</th>\n",
       "      <td>4016674905670309</td>\n",
       "      <td>Derrick Fry</td>\n",
       "    </tr>\n",
       "  </tbody>\n",
       "</table>\n",
       "</div>"
      ],
      "text/plain": [
       "             cc_num             name\n",
       "0  4006080197832643       Todd Lynch\n",
       "1  4008569092490794    Crystal Smith\n",
       "2  4014600948537520    Alan Martinez\n",
       "3  4015965906982664  Richard Mcguire\n",
       "4  4016674905670309      Derrick Fry"
      ]
     },
     "execution_count": 248,
     "metadata": {},
     "output_type": "execute_result"
    }
   ],
   "source": [
    "cc_map_df.head(5)"
   ]
  },
  {
   "cell_type": "code",
   "execution_count": 226,
   "metadata": {},
   "outputs": [
    {
     "data": {
      "text/plain": [
       "10000"
      ]
     },
     "execution_count": 226,
     "metadata": {},
     "output_type": "execute_result"
    }
   ],
   "source": [
    "len(cc_map_df)"
   ]
  },
  {
   "cell_type": "code",
   "execution_count": 209,
   "metadata": {},
   "outputs": [],
   "source": [
    "from faker import Faker\n",
    "import random\n",
    "faker = Faker()\n",
    "faker.seed_locale('en_US', 0)\n",
    "SEED = 123\n",
    "random.seed(SEED)\n",
    "np.random.seed(SEED)\n",
    "faker.seed_instance(SEED)\n",
    "TOTAL_UNIQUE_USERS = 10000\n",
    "\n",
    "BUCKET = 'chime-fs-demo'\n",
    "def generate_fake_name(n: int) -> list:\n",
    "    loc_ids = set()\n",
    "    for _ in range(n):\n",
    "        loc_id = faker.name()\n",
    "        loc_ids.add(loc_id)\n",
    "    return list(loc_ids)\n",
    "\n",
    "names1 = generate_fake_name(TOTAL_UNIQUE_USERS)"
   ]
  },
  {
   "cell_type": "code",
   "execution_count": 210,
   "metadata": {},
   "outputs": [
    {
     "data": {
      "text/plain": [
       "9373"
      ]
     },
     "execution_count": 210,
     "metadata": {},
     "output_type": "execute_result"
    }
   ],
   "source": [
    "len(names1)"
   ]
  },
  {
   "cell_type": "code",
   "execution_count": 211,
   "metadata": {},
   "outputs": [],
   "source": [
    "names2 = names1[0:627]"
   ]
  },
  {
   "cell_type": "code",
   "execution_count": 212,
   "metadata": {},
   "outputs": [
    {
     "data": {
      "text/plain": [
       "627"
      ]
     },
     "execution_count": 212,
     "metadata": {},
     "output_type": "execute_result"
    }
   ],
   "source": [
    "len(names2)"
   ]
  },
  {
   "cell_type": "code",
   "execution_count": 213,
   "metadata": {},
   "outputs": [],
   "source": [
    "names = names1 + names2"
   ]
  },
  {
   "cell_type": "code",
   "execution_count": 245,
   "metadata": {},
   "outputs": [],
   "source": [
    "cc_map_df['name'] = np.array(names)"
   ]
  },
  {
   "cell_type": "code",
   "execution_count": 243,
   "metadata": {},
   "outputs": [],
   "source": [
    "test_df['cc_num'] = test_df['cc_num'].astype(str)\n",
    "cc_map_df['cc_num'] = cc_map_df['cc_num'].astype(str)"
   ]
  },
  {
   "cell_type": "code",
   "execution_count": 247,
   "metadata": {},
   "outputs": [
    {
     "data": {
      "text/plain": [
       "cc_num    object\n",
       "name      object\n",
       "dtype: object"
      ]
     },
     "execution_count": 247,
     "metadata": {},
     "output_type": "execute_result"
    }
   ],
   "source": [
    "cc_map_df.dtypes"
   ]
  },
  {
   "cell_type": "code",
   "execution_count": 250,
   "metadata": {},
   "outputs": [
    {
     "data": {
      "text/html": [
       "<div>\n",
       "<style scoped>\n",
       "    .dataframe tbody tr th:only-of-type {\n",
       "        vertical-align: middle;\n",
       "    }\n",
       "\n",
       "    .dataframe tbody tr th {\n",
       "        vertical-align: top;\n",
       "    }\n",
       "\n",
       "    .dataframe thead th {\n",
       "        text-align: right;\n",
       "    }\n",
       "</style>\n",
       "<table border=\"1\" class=\"dataframe\">\n",
       "  <thead>\n",
       "    <tr style=\"text-align: right;\">\n",
       "      <th></th>\n",
       "      <th>tid</th>\n",
       "      <th>datetime</th>\n",
       "      <th>cc_num</th>\n",
       "      <th>amount</th>\n",
       "      <th>fraud_label</th>\n",
       "      <th>num_trans_last_10m</th>\n",
       "      <th>avg_amt_last_10m</th>\n",
       "      <th>num_trans_last_1w</th>\n",
       "      <th>avg_amt_last_1w</th>\n",
       "      <th>amt_ratio1</th>\n",
       "      <th>amt_ratio2</th>\n",
       "      <th>count_ratio</th>\n",
       "      <th>name</th>\n",
       "    </tr>\n",
       "  </thead>\n",
       "  <tbody>\n",
       "    <tr>\n",
       "      <th>0</th>\n",
       "      <td>25ef7ecf6bde29e2bf5b66735f077119</td>\n",
       "      <td>2020-05-15T01:38:32.000Z</td>\n",
       "      <td>4006080197832643</td>\n",
       "      <td>70.76</td>\n",
       "      <td>0</td>\n",
       "      <td>1</td>\n",
       "      <td>70.76</td>\n",
       "      <td>26</td>\n",
       "      <td>984.194231</td>\n",
       "      <td>0.071896</td>\n",
       "      <td>0.071896</td>\n",
       "      <td>0.038462</td>\n",
       "      <td>Todd Lynch</td>\n",
       "    </tr>\n",
       "    <tr>\n",
       "      <th>1</th>\n",
       "      <td>92bfe503fe6652364737f947786580a8</td>\n",
       "      <td>2020-05-15T02:11:59.000Z</td>\n",
       "      <td>4006080197832643</td>\n",
       "      <td>926.79</td>\n",
       "      <td>0</td>\n",
       "      <td>1</td>\n",
       "      <td>926.79</td>\n",
       "      <td>27</td>\n",
       "      <td>982.068148</td>\n",
       "      <td>0.943713</td>\n",
       "      <td>0.943713</td>\n",
       "      <td>0.037037</td>\n",
       "      <td>Todd Lynch</td>\n",
       "    </tr>\n",
       "    <tr>\n",
       "      <th>2</th>\n",
       "      <td>29b01ac88c4348a153739ed565af61be</td>\n",
       "      <td>2020-05-15T11:16:20.000Z</td>\n",
       "      <td>4006080197832643</td>\n",
       "      <td>4809.12</td>\n",
       "      <td>0</td>\n",
       "      <td>1</td>\n",
       "      <td>4809.12</td>\n",
       "      <td>26</td>\n",
       "      <td>1199.561538</td>\n",
       "      <td>4.009065</td>\n",
       "      <td>4.009065</td>\n",
       "      <td>0.038462</td>\n",
       "      <td>Todd Lynch</td>\n",
       "    </tr>\n",
       "    <tr>\n",
       "      <th>3</th>\n",
       "      <td>3db2c34213b4304c45a1883dca0c128e</td>\n",
       "      <td>2020-05-16T01:19:53.000Z</td>\n",
       "      <td>4006080197832643</td>\n",
       "      <td>526.57</td>\n",
       "      <td>0</td>\n",
       "      <td>1</td>\n",
       "      <td>526.57</td>\n",
       "      <td>24</td>\n",
       "      <td>1243.201250</td>\n",
       "      <td>0.423560</td>\n",
       "      <td>0.423560</td>\n",
       "      <td>0.041667</td>\n",
       "      <td>Todd Lynch</td>\n",
       "    </tr>\n",
       "    <tr>\n",
       "      <th>4</th>\n",
       "      <td>eb102608b7ce9f302d7bc7b665d206bf</td>\n",
       "      <td>2020-05-16T07:36:13.000Z</td>\n",
       "      <td>4006080197832643</td>\n",
       "      <td>62.16</td>\n",
       "      <td>0</td>\n",
       "      <td>1</td>\n",
       "      <td>62.16</td>\n",
       "      <td>24</td>\n",
       "      <td>1242.700833</td>\n",
       "      <td>0.050020</td>\n",
       "      <td>0.050020</td>\n",
       "      <td>0.041667</td>\n",
       "      <td>Todd Lynch</td>\n",
       "    </tr>\n",
       "  </tbody>\n",
       "</table>\n",
       "</div>"
      ],
      "text/plain": [
       "                                tid                  datetime  \\\n",
       "0  25ef7ecf6bde29e2bf5b66735f077119  2020-05-15T01:38:32.000Z   \n",
       "1  92bfe503fe6652364737f947786580a8  2020-05-15T02:11:59.000Z   \n",
       "2  29b01ac88c4348a153739ed565af61be  2020-05-15T11:16:20.000Z   \n",
       "3  3db2c34213b4304c45a1883dca0c128e  2020-05-16T01:19:53.000Z   \n",
       "4  eb102608b7ce9f302d7bc7b665d206bf  2020-05-16T07:36:13.000Z   \n",
       "\n",
       "             cc_num   amount  fraud_label  num_trans_last_10m  \\\n",
       "0  4006080197832643    70.76            0                   1   \n",
       "1  4006080197832643   926.79            0                   1   \n",
       "2  4006080197832643  4809.12            0                   1   \n",
       "3  4006080197832643   526.57            0                   1   \n",
       "4  4006080197832643    62.16            0                   1   \n",
       "\n",
       "   avg_amt_last_10m  num_trans_last_1w  avg_amt_last_1w  amt_ratio1  \\\n",
       "0             70.76                 26       984.194231    0.071896   \n",
       "1            926.79                 27       982.068148    0.943713   \n",
       "2           4809.12                 26      1199.561538    4.009065   \n",
       "3            526.57                 24      1243.201250    0.423560   \n",
       "4             62.16                 24      1242.700833    0.050020   \n",
       "\n",
       "   amt_ratio2  count_ratio        name  \n",
       "0    0.071896     0.038462  Todd Lynch  \n",
       "1    0.943713     0.037037  Todd Lynch  \n",
       "2    4.009065     0.038462  Todd Lynch  \n",
       "3    0.423560     0.041667  Todd Lynch  \n",
       "4    0.050020     0.041667  Todd Lynch  "
      ]
     },
     "execution_count": 250,
     "metadata": {},
     "output_type": "execute_result"
    }
   ],
   "source": [
    "test_df = test_df.merge(cc_map_df, how='left', on='cc_num')\n",
    "test_df.head(5)"
   ]
  },
  {
   "cell_type": "code",
   "execution_count": 9,
   "metadata": {},
   "outputs": [],
   "source": [
    "kda_client = boto3.client('kinesisanalytics')\n",
    "stream_arn = 'arn:aws:kinesis:us-east-1:461312420708:stream/cc-chime-stream'"
   ]
  },
  {
   "cell_type": "code",
   "execution_count": 129,
   "metadata": {},
   "outputs": [],
   "source": [
    "sql_code = 'CREATE OR REPLACE STREAM \"DESTINATION_SQL_STREAM\" (\\n' + \\\n",
    "                '\"cc_num\"              BIGINT,\\n' + \\\n",
    "                '\"name\"              STRING,\\n' + \\\n",
    "                '\"num_trans_last_10m\"  SMALLINT,\\n' + \\\n",
    "                '\"avg_amt_last_10m\"    REAL\\n);\\n\\n' + \\\n",
    "            'CREATE OR REPLACE PUMP \"STREAM_PUMP\" AS\\n' + \\\n",
    "            'INSERT INTO \"DESTINATION_SQL_STREAM\"\\n' + \\\n",
    "                'SELECT STREAM \"cc_num\", \"name\", \\n' + \\\n",
    "                    'COUNT(*) OVER LAST_10_MINUTES, \\n' + \\\n",
    "                    'AVG(\"amount\") OVER LAST_10_MINUTES\\n' + \\\n",
    "                    'FROM \"SOURCE_SQL_STREAM_UPD_001\"\\n' + \\\n",
    "                    'WINDOW LAST_10_MINUTES AS (\\n' + \\\n",
    "                        'PARTITION BY \"cc_num\"\\n' + \\\n",
    "                        'RANGE INTERVAL \\'10\\' MINUTE PRECEDING);\\n'"
   ]
  },
  {
   "cell_type": "code",
   "execution_count": null,
   "metadata": {},
   "outputs": [],
   "source": [
    "CREATE OR REPLACE STREAM \"DESTINATION_SQL_STREAM\" (\n",
    "\"cc_num\"              BIGINT,\n",
    "\"name\"              VARCHAR,\n",
    "\"num_trans_last_10m\"  SMALLINT,\n",
    "\"avg_amt_last_10m\"    REAL\n",
    ");\n",
    "\n",
    "CREATE OR REPLACE PUMP \"STREAM_PUMP\" AS\n",
    "INSERT INTO \"DESTINATION_SQL_STREAM\"\n",
    "SELECT STREAM \"cc_num\", \"name\", \n",
    "COUNT(*) OVER LAST_10_MINUTES, \n",
    "AVG(\"amount\") OVER LAST_10_MINUTES\n",
    "FROM \"SOURCE_SQL_STREAM_UPD_001\"\n",
    "WINDOW LAST_10_MINUTES AS (\n",
    "PARTITION BY \"cc_num\", \"name\"\n",
    "RANGE INTERVAL '10' MINUTE PRECEDING);\n"
   ]
  },
  {
   "cell_type": "code",
   "execution_count": 111,
   "metadata": {},
   "outputs": [],
   "source": [
    "kda_inputs = [{ 'InputId': '1.1',\n",
    "                'NamePrefixUpdate': 'SOURCE_SQL_STREAM_UPD',\n",
    "                'KinesisStreamsInputUpdate': {\n",
    "                       'ResourceARNUpdate': stream_arn,\n",
    "                       'RoleARNUpdate': role\n",
    "                },\n",
    "                'InputSchemaUpdate': {\n",
    "                      'RecordFormatUpdate': {\n",
    "                          'RecordFormatType': 'JSON',\n",
    "                          'MappingParameters': {\n",
    "                              'JSONMappingParameters': {\n",
    "                                  'RecordRowPath': '$'\n",
    "                              }\n",
    "                          },\n",
    "                      },\n",
    "                      'RecordEncodingUpdate': 'UTF-8',\n",
    "                      'RecordColumnUpdates': [\n",
    "                          {'Name': 'cc_num',  'Mapping': '$.cc_num',   'SqlType': 'DECIMAL(1,1)'},\n",
    "                          {'Name': 'name', 'Mapping': '$.name', 'SqlType': 'VARCHAR(50)'},\n",
    "                          {'Name': 'merchant','Mapping': '$.merchant', 'SqlType': 'VARCHAR(64)'},\n",
    "                          {'Name': 'amount', 'Mapping': '$.amount', 'SqlType': 'REAL'},\n",
    "                          {'Name': 'zip_code', 'Mapping': '$.zip_code', 'SqlType': 'INTEGER'}\n",
    "                          \n",
    "                      ]\n",
    "                }\n",
    "              }                         \n",
    "             ]"
   ]
  },
  {
   "cell_type": "code",
   "execution_count": 112,
   "metadata": {},
   "outputs": [
    {
     "data": {
      "text/plain": [
       "{'ResponseMetadata': {'RequestId': '79ba71c2-b1b0-44f4-a099-3a2869cdbf35',\n",
       "  'HTTPStatusCode': 200,\n",
       "  'HTTPHeaders': {'x-amzn-requestid': '79ba71c2-b1b0-44f4-a099-3a2869cdbf35',\n",
       "   'content-type': 'application/x-amz-json-1.1',\n",
       "   'content-length': '2',\n",
       "   'date': 'Fri, 07 Apr 2023 02:58:11 GMT'},\n",
       "  'RetryAttempts': 0}}"
      ]
     },
     "execution_count": 112,
     "metadata": {},
     "output_type": "execute_result"
    }
   ],
   "source": [
    "kda_client.update_application(ApplicationName='cc-agg-chime-app', \n",
    "                              CurrentApplicationVersionId=3,\n",
    "                              ApplicationUpdate={\n",
    "                              'InputUpdates': kda_inputs,\n",
    "                              'ApplicationCodeUpdate': sql_code})"
   ]
  },
  {
   "cell_type": "code",
   "execution_count": 257,
   "metadata": {},
   "outputs": [
    {
     "name": "stdout",
     "output_type": "stream",
     "text": [
      "CPU times: user 3 µs, sys: 0 ns, total: 3 µs\n",
      "Wall time: 5.72 µs\n"
     ]
    },
    {
     "data": {
      "text/plain": [
       "{'FeatureGroupArn': 'arn:aws:sagemaker:us-east-1:461312420708:feature-group/cc-agg-chime-fg',\n",
       " 'ResponseMetadata': {'RequestId': '2073cd08-4032-4cc9-b62f-0f9a575f5c84',\n",
       "  'HTTPStatusCode': 200,\n",
       "  'HTTPHeaders': {'x-amzn-requestid': '2073cd08-4032-4cc9-b62f-0f9a575f5c84',\n",
       "   'content-type': 'application/x-amz-json-1.1',\n",
       "   'content-length': '92',\n",
       "   'date': 'Fri, 07 Apr 2023 19:43:33 GMT'},\n",
       "  'RetryAttempts': 0}}"
      ]
     },
     "execution_count": 257,
     "metadata": {},
     "output_type": "execute_result"
    }
   ],
   "source": []
  },
  {
   "cell_type": "code",
   "execution_count": null,
   "metadata": {},
   "outputs": [],
   "source": []
  },
  {
   "cell_type": "markdown",
   "metadata": {},
   "source": [
    "## Test out the solution, end to end"
   ]
  },
  {
   "cell_type": "markdown",
   "metadata": {},
   "source": [
    "### First, a few utility functions"
   ]
  },
  {
   "cell_type": "code",
   "execution_count": 33,
   "metadata": {},
   "outputs": [],
   "source": [
    "def get_cloudwatch_logs_url(start_time, end_time):\n",
    "    log_group_name = '/aws/lambda/' + predict_lambda_name \n",
    "    # get the latest log stream for our Lambda that makes fraud predictions\n",
    "    cw_client = boto3.client('logs')\n",
    "    last_cw_evt = 0\n",
    "    while last_cw_evt < int(start_test_time * 1000):\n",
    "        streams = cw_client.describe_log_streams(logGroupName=log_group_name,\n",
    "                                                 orderBy='LastEventTime',\n",
    "                                                 descending=True)['logStreams']\n",
    "        last_cw_evt = streams[0]['lastIngestionTime'] #'lastEventTimestamp']\n",
    "        latest_stream = str(streams[0]['logStreamName']).replace('/', '$252F').replace('[$LATEST]', '$255B$2524LATEST$255D')\n",
    "        if last_cw_evt < int(start_test_time * 1000):\n",
    "            print('waiting for updated log stream...')\n",
    "            time.sleep(10)\n",
    "\n",
    "    # produce a valid URL to get to that log stream\n",
    "    region = boto3.session.Session().region_name\n",
    "    log_group_escaped = log_group_name.replace('/', '$252F')\n",
    "    cw_url = f'https://console.aws.amazon.com/cloudwatch/home?region={region}#logsV2:log-groups/log-group/{log_group_escaped}'\n",
    "    time_filter = f'$26start$3D{int(start_test_time * 1000) - 10000}$26end$3D{int(end_test_time * 1000) + 40000}'\n",
    "    full_cw_url = f'{cw_url}/log-events/{latest_stream}$3FfilterPattern$3DPrediction+{time_filter}'\n",
    "    print('Updated log stream is ready.')\n",
    "    return full_cw_url"
   ]
  },
  {
   "cell_type": "code",
   "execution_count": 294,
   "metadata": {},
   "outputs": [],
   "source": [
    "def put_to_stream(stream_name, cc_num, name, merchant, amount, zip_code, timestamp):\n",
    "    \n",
    "    payload = {\n",
    "        'cc_num': int(cc_num),\n",
    "        'name': str(name),\n",
    "        'merchant': merchant,\n",
    "        'amount': amount,\n",
    "        'zip_code': zip_code,\n",
    "        'trans_ts': timestamp\n",
    "    }\n",
    "    ret_status = True\n",
    "    data = json.dumps(payload)\n",
    "    print(f'Sending transaction on card: {cc_num}...')\n",
    "    response = kinesis_client.put_record(StreamName = stream_name,\n",
    "                                             Data = data,\n",
    "                                             PartitionKey = 'shard1')\n",
    "#     print(response)\n",
    "    if (response['ResponseMetadata']['HTTPStatusCode'] != 200):\n",
    "        print(\"ERROR: Kinesis put_record failed: \\n{}\".format(json.dumps(response)))\n",
    "        ret_status = False\n",
    "        \n",
    "    return ret_status"
   ]
  },
  {
   "cell_type": "code",
   "execution_count": 117,
   "metadata": {},
   "outputs": [],
   "source": [
    "def simulate_fraud(stream_name, cc_num, name):\n",
    "    min_wait = 1; max_wait = 2\n",
    "    for i in range(10):\n",
    "        random_amt = round(np.random.uniform(1.00, 50.00), 2)\n",
    "        seconds_to_wait = np.random.uniform(min_wait, max_wait)\n",
    "        print(f'waiting {seconds_to_wait:.1f} seconds to send trans {i}...')\n",
    "        time.sleep(seconds_to_wait)\n",
    "        put_to_stream(stream_name, int(cc_num), name,'Random Corp', random_amt, '03099', time.time())"
   ]
  },
  {
   "cell_type": "code",
   "execution_count": 279,
   "metadata": {},
   "outputs": [],
   "source": [
    "## Update the Feature Store\n"
   ]
  },
  {
   "cell_type": "code",
   "execution_count": 280,
   "metadata": {},
   "outputs": [
    {
     "name": "stdout",
     "output_type": "stream",
     "text": [
      "CPU times: user 2 µs, sys: 0 ns, total: 2 µs\n",
      "Wall time: 5.48 µs\n"
     ]
    },
    {
     "ename": "ClientError",
     "evalue": "An error occurred (ValidationException) when calling the UpdateFeatureGroup operation: Validation Error: Feature [name] already exists.",
     "output_type": "error",
     "traceback": [
      "\u001b[0;31m---------------------------------------------------------------------------\u001b[0m",
      "\u001b[0;31mClientError\u001b[0m                               Traceback (most recent call last)",
      "Cell \u001b[0;32mIn[280], line 2\u001b[0m\n\u001b[1;32m      1\u001b[0m get_ipython()\u001b[38;5;241m.\u001b[39mrun_line_magic(\u001b[38;5;124m'\u001b[39m\u001b[38;5;124mtime\u001b[39m\u001b[38;5;124m'\u001b[39m, \u001b[38;5;124m'\u001b[39m\u001b[38;5;124m'\u001b[39m)\n\u001b[0;32m----> 2\u001b[0m \u001b[43msagemaker_runtime\u001b[49m\u001b[38;5;241;43m.\u001b[39;49m\u001b[43mupdate_feature_group\u001b[49m\u001b[43m(\u001b[49m\n\u001b[1;32m      3\u001b[0m \u001b[43m    \u001b[49m\u001b[43mFeatureGroupName\u001b[49m\u001b[38;5;241;43m=\u001b[39;49m\u001b[43mfeature_group_name\u001b[49m\u001b[43m,\u001b[49m\n\u001b[1;32m      4\u001b[0m \u001b[43m    \u001b[49m\u001b[43mFeatureAdditions\u001b[49m\u001b[38;5;241;43m=\u001b[39;49m\u001b[43m[\u001b[49m\n\u001b[1;32m      5\u001b[0m \u001b[43m        \u001b[49m\u001b[43m{\u001b[49m\u001b[38;5;124;43m\"\u001b[39;49m\u001b[38;5;124;43mFeatureName\u001b[39;49m\u001b[38;5;124;43m\"\u001b[39;49m\u001b[43m:\u001b[49m\u001b[43m \u001b[49m\u001b[38;5;124;43m\"\u001b[39;49m\u001b[38;5;124;43mname\u001b[39;49m\u001b[38;5;124;43m\"\u001b[39;49m\u001b[43m,\u001b[49m\u001b[43m \u001b[49m\u001b[38;5;124;43m\"\u001b[39;49m\u001b[38;5;124;43mFeatureType\u001b[39;49m\u001b[38;5;124;43m\"\u001b[39;49m\u001b[43m:\u001b[49m\u001b[43m \u001b[49m\u001b[38;5;124;43m\"\u001b[39;49m\u001b[38;5;124;43mString\u001b[39;49m\u001b[38;5;124;43m\"\u001b[39;49m\u001b[43m}\u001b[49m\n\u001b[1;32m      6\u001b[0m \u001b[43m    \u001b[49m\u001b[43m]\u001b[49m\u001b[43m)\u001b[49m\n",
      "File \u001b[0;32m~/anaconda3/envs/python3/lib/python3.10/site-packages/botocore/client.py:530\u001b[0m, in \u001b[0;36mClientCreator._create_api_method.<locals>._api_call\u001b[0;34m(self, *args, **kwargs)\u001b[0m\n\u001b[1;32m    526\u001b[0m     \u001b[38;5;28;01mraise\u001b[39;00m \u001b[38;5;167;01mTypeError\u001b[39;00m(\n\u001b[1;32m    527\u001b[0m         \u001b[38;5;124mf\u001b[39m\u001b[38;5;124m\"\u001b[39m\u001b[38;5;132;01m{\u001b[39;00mpy_operation_name\u001b[38;5;132;01m}\u001b[39;00m\u001b[38;5;124m() only accepts keyword arguments.\u001b[39m\u001b[38;5;124m\"\u001b[39m\n\u001b[1;32m    528\u001b[0m     )\n\u001b[1;32m    529\u001b[0m \u001b[38;5;66;03m# The \"self\" in this scope is referring to the BaseClient.\u001b[39;00m\n\u001b[0;32m--> 530\u001b[0m \u001b[38;5;28;01mreturn\u001b[39;00m \u001b[38;5;28;43mself\u001b[39;49m\u001b[38;5;241;43m.\u001b[39;49m\u001b[43m_make_api_call\u001b[49m\u001b[43m(\u001b[49m\u001b[43moperation_name\u001b[49m\u001b[43m,\u001b[49m\u001b[43m \u001b[49m\u001b[43mkwargs\u001b[49m\u001b[43m)\u001b[49m\n",
      "File \u001b[0;32m~/anaconda3/envs/python3/lib/python3.10/site-packages/botocore/client.py:960\u001b[0m, in \u001b[0;36mBaseClient._make_api_call\u001b[0;34m(self, operation_name, api_params)\u001b[0m\n\u001b[1;32m    958\u001b[0m     error_code \u001b[38;5;241m=\u001b[39m parsed_response\u001b[38;5;241m.\u001b[39mget(\u001b[38;5;124m\"\u001b[39m\u001b[38;5;124mError\u001b[39m\u001b[38;5;124m\"\u001b[39m, {})\u001b[38;5;241m.\u001b[39mget(\u001b[38;5;124m\"\u001b[39m\u001b[38;5;124mCode\u001b[39m\u001b[38;5;124m\"\u001b[39m)\n\u001b[1;32m    959\u001b[0m     error_class \u001b[38;5;241m=\u001b[39m \u001b[38;5;28mself\u001b[39m\u001b[38;5;241m.\u001b[39mexceptions\u001b[38;5;241m.\u001b[39mfrom_code(error_code)\n\u001b[0;32m--> 960\u001b[0m     \u001b[38;5;28;01mraise\u001b[39;00m error_class(parsed_response, operation_name)\n\u001b[1;32m    961\u001b[0m \u001b[38;5;28;01melse\u001b[39;00m:\n\u001b[1;32m    962\u001b[0m     \u001b[38;5;28;01mreturn\u001b[39;00m parsed_response\n",
      "\u001b[0;31mClientError\u001b[0m: An error occurred (ValidationException) when calling the UpdateFeatureGroup operation: Validation Error: Feature [name] already exists."
     ]
    }
   ],
   "source": [
    "%time\n",
    "sagemaker_runtime.update_feature_group(\n",
    "    FeatureGroupName=feature_group_name,\n",
    "    FeatureAdditions=[\n",
    "        {\"FeatureName\": \"name\", \"FeatureType\": \"String\"}\n",
    "    ])"
   ]
  },
  {
   "cell_type": "markdown",
   "metadata": {},
   "source": [
    "### Send some transactions, and see the results\n",
    "To show that the solution works, we send a single transaction to each of three different credit cards. Then, we simulate a fraud attack on a 4th credit card by sending many transactions in quick succession. The output from our Lambda function is then shown from CloudWatch log streams. Here's an example of what you should see as a result:\n",
    "\n",
    "<img src=\"./images/log_results.png\" />\n",
    "\n",
    "As expected, the first three one-off transactions are predicted as NOT FRAUD. Of the ten fraudulent transactions, the first is predicted as NOT FRAUD, and the rest are all correctly identified as FRAUD. Notice how the aggregate features are kept current, helping drive more accurate predictions.\n",
    "\n",
    "Now let's give it a shot."
   ]
  },
  {
   "cell_type": "code",
   "execution_count": 121,
   "metadata": {},
   "outputs": [],
   "source": [
    "# cc_nums = test_df.cc_num.unique()[10:14]\n",
    "# STREAM_NAME = 'cc-stream'\n",
    "# start_test_time = time.time() \n",
    "\n",
    "# put_to_stream(STREAM_NAME, cc_nums[0], 'Merchant-0', round(np.random.uniform(100, 5000), 2), 'zip-0', time.time())\n",
    "# put_to_stream(STREAM_NAME, cc_nums[0], 'Merchant-1', round(np.random.uniform(100, 5000), 2), 'zip-1', time.time())\n",
    "# put_to_stream(STREAM_NAME, cc_nums[2], 'Merchant-2', round(np.random.uniform(100, 5000), 2), 'zip-2', time.time())\n",
    "\n",
    "# print('\\nNow simulate a fraud attack...')\n",
    "# fraud_cc_num = cc_nums[3]\n",
    "# simulate_fraud(STREAM_NAME, fraud_cc_num)\n",
    "\n",
    "# end_test_time = time.time() "
   ]
  },
  {
   "cell_type": "code",
   "execution_count": 151,
   "metadata": {},
   "outputs": [
    {
     "name": "stdout",
     "output_type": "stream",
     "text": [
      "Sending transaction on card: 4028853934607849...\n",
      "{'ShardId': 'shardId-000000000000', 'SequenceNumber': '49639562715510278784415908035782416791584000195877142530', 'ResponseMetadata': {'RequestId': 'e8c0793e-cd54-6bfe-b46a-261f850d5907', 'HTTPStatusCode': 200, 'HTTPHeaders': {'x-amzn-requestid': 'e8c0793e-cd54-6bfe-b46a-261f850d5907', 'x-amz-id-2': '+9plGiBjr2SobIDiV5wlFFNX0W/pQ2x3etKUpumnG5Lpb45ypOazENxOBX8e/S8iENvzrVe5gD4YeFT6VeoFPoh8jD32fwSP', 'date': 'Fri, 07 Apr 2023 18:11:45 GMT', 'content-type': 'application/x-amz-json-1.1', 'content-length': '110'}, 'RetryAttempts': 0}}\n",
      "Sending transaction on card: 4028853934607849...\n",
      "{'ShardId': 'shardId-000000000000', 'SequenceNumber': '49639562715510278784415908035806595307976292779371266050', 'ResponseMetadata': {'RequestId': 'd5951819-3649-281b-893f-47387e101ae2', 'HTTPStatusCode': 200, 'HTTPHeaders': {'x-amzn-requestid': 'd5951819-3649-281b-893f-47387e101ae2', 'x-amz-id-2': 'N6ewmq2wdDpGOvOSYIVHkjXQr+3z+1Pj2QSVL5CQ3B5eWdiY+KI6qCKZfQZf3i6lvvhPtQ4CzBokqtUU5E2KcQssqzPfYvPD', 'date': 'Fri, 07 Apr 2023 18:11:45 GMT', 'content-type': 'application/x-amz-json-1.1', 'content-length': '110'}, 'RetryAttempts': 0}}\n",
      "Sending transaction on card: 4032578904871398...\n",
      "{'ShardId': 'shardId-000000000000', 'SequenceNumber': '49639562715510278784415908035825938121090126846166564866', 'ResponseMetadata': {'RequestId': 'f831f7e2-bdce-9559-a49b-a8c3f597a7a0', 'HTTPStatusCode': 200, 'HTTPHeaders': {'x-amzn-requestid': 'f831f7e2-bdce-9559-a49b-a8c3f597a7a0', 'x-amz-id-2': 'irR9428RyKhz7R05JjVLmP87/GpLeRph1lPVJGI3E3oS3W416UTwkwtF1cSEOxozuEqNH6FbI7o1OyR36ACchG+x4hh00qwV', 'date': 'Fri, 07 Apr 2023 18:11:45 GMT', 'content-type': 'application/x-amz-json-1.1', 'content-length': '110'}, 'RetryAttempts': 0}}\n",
      "\n",
      "Now simulate a fraud attack...\n",
      "waiting 1.5 seconds to send trans 0...\n",
      "Sending transaction on card: 4033404285943061...\n",
      "{'ShardId': 'shardId-000000000000', 'SequenceNumber': '49639562715510278784415908039536131461487423920778772482', 'ResponseMetadata': {'RequestId': 'c2ad2b49-7ce8-75f4-9e07-746a34b1470d', 'HTTPStatusCode': 200, 'HTTPHeaders': {'x-amzn-requestid': 'c2ad2b49-7ce8-75f4-9e07-746a34b1470d', 'x-amz-id-2': 'whPdtb8LCZR6gMGvvrjxYXR7jUYGmo0o3a0Lb5MB30OvKdszByrTXxWfMed4OchhkGUEHO+9bXmD3ml5RLdaUFVmlPXZJKAe', 'date': 'Fri, 07 Apr 2023 18:11:47 GMT', 'content-type': 'application/x-amz-json-1.1', 'content-length': '110'}, 'RetryAttempts': 0}}\n",
      "waiting 1.4 seconds to send trans 1...\n",
      "Sending transaction on card: 4033404285943061...\n",
      "{'ShardId': 'shardId-000000000000', 'SequenceNumber': '49639562715510278784415908043734730833009031113252798466', 'ResponseMetadata': {'RequestId': 'd5174f5b-a5f8-6831-89bd-107feda15ac8', 'HTTPStatusCode': 200, 'HTTPHeaders': {'x-amzn-requestid': 'd5174f5b-a5f8-6831-89bd-107feda15ac8', 'x-amz-id-2': 'DoWxzSHPvNDb6eMjNu6btuukWekwcc/4E9hUfzhLGkCtoisLQ+IvklRxWzQskvUnfMTgXEIOpfV8O0DSQWuXoaiVzLArlPae', 'date': 'Fri, 07 Apr 2023 18:11:48 GMT', 'content-type': 'application/x-amz-json-1.1', 'content-length': '110'}, 'RetryAttempts': 0}}\n",
      "waiting 1.4 seconds to send trans 2...\n",
      "Sending transaction on card: 4033404285943061...\n",
      "{'ShardId': 'shardId-000000000000', 'SequenceNumber': '49639562715510278784415908046429426484930039681111818242', 'ResponseMetadata': {'RequestId': 'e3352dac-52bf-9161-bf9f-728a1ae6a398', 'HTTPStatusCode': 200, 'HTTPHeaders': {'x-amzn-requestid': 'e3352dac-52bf-9161-bf9f-728a1ae6a398', 'x-amz-id-2': 'uluHPMdeyex2W+GnwzFHb5o3FyQ3XtTJ4qqlX9FQBPL74HnPwb+1stqemB8+E9//YCX7ZBaLiXItjo/b+7TEErHe1hgGrt0L', 'date': 'Fri, 07 Apr 2023 18:11:50 GMT', 'content-type': 'application/x-amz-json-1.1', 'content-length': '110'}, 'RetryAttempts': 0}}\n",
      "waiting 1.4 seconds to send trans 3...\n",
      "Sending transaction on card: 4033404285943061...\n",
      "{'ShardId': 'shardId-000000000000', 'SequenceNumber': '49639562715510278784415908049267984309385189052041396226', 'ResponseMetadata': {'RequestId': 'cd1bc7f6-d46b-5d76-91b1-98d19c326f8f', 'HTTPStatusCode': 200, 'HTTPHeaders': {'x-amzn-requestid': 'cd1bc7f6-d46b-5d76-91b1-98d19c326f8f', 'x-amz-id-2': '/7SxQ93ePFr5qr4LV6FpHqBHZxK95BM8U9nZYAjSR3ecRGm5Hk7HtxpfcVJyAFRbDtMpDDz02xgXtXQps3L5dh5lTQYBcubJ', 'date': 'Fri, 07 Apr 2023 18:11:51 GMT', 'content-type': 'application/x-amz-json-1.1', 'content-length': '110'}, 'RetryAttempts': 0}}\n",
      "waiting 1.1 seconds to send trans 4...\n",
      "Sending transaction on card: 4033404285943061...\n",
      "{'ShardId': 'shardId-000000000000', 'SequenceNumber': '49639562715510278784415908051712432316645969312016760834', 'ResponseMetadata': {'RequestId': 'cdb40be7-d747-fdc7-911e-54cf9f1ecf3e', 'HTTPStatusCode': 200, 'HTTPHeaders': {'x-amzn-requestid': 'cdb40be7-d747-fdc7-911e-54cf9f1ecf3e', 'x-amz-id-2': '/QAkJaWYsVacHanps7D7Wo6AciKL5ie0OcY4zp0cZhqzWqPXftGjHQKfSzW6EFtKMLZW7VttgMBoT5UAQI3po+bA0ghfL5+c', 'date': 'Fri, 07 Apr 2023 18:11:52 GMT', 'content-type': 'application/x-amz-json-1.1', 'content-length': '110'}, 'RetryAttempts': 0}}\n",
      "waiting 1.5 seconds to send trans 5...\n",
      "Sending transaction on card: 4033404285943061...\n",
      "{'ShardId': 'shardId-000000000000', 'SequenceNumber': '49639562715510278784415908054793984230843659147062280194', 'ResponseMetadata': {'RequestId': 'feedd0ab-b0b0-98ff-a247-8f81f8e9aa06', 'HTTPStatusCode': 200, 'HTTPHeaders': {'x-amzn-requestid': 'feedd0ab-b0b0-98ff-a247-8f81f8e9aa06', 'x-amz-id-2': 'Ey4hKAhcKPKB2M/ol2bKyHqlQ2jHSTqonGuG5G4wAecz7CWulu+ncp0MlPA0DEt7vYCVTegJ1L/rYxt28PDU39GI0qNTaldQ', 'date': 'Fri, 07 Apr 2023 18:11:54 GMT', 'content-type': 'application/x-amz-json-1.1', 'content-length': '110'}, 'RetryAttempts': 0}}\n",
      "waiting 1.9 seconds to send trans 6...\n",
      "Sending transaction on card: 4033404285943061...\n",
      "{'ShardId': 'shardId-000000000000', 'SequenceNumber': '49639562715510278784415908059592210808894122547629522946', 'ResponseMetadata': {'RequestId': 'c654a037-e25a-df3e-9afe-ff1baa03edc7', 'HTTPStatusCode': 200, 'HTTPHeaders': {'x-amzn-requestid': 'c654a037-e25a-df3e-9afe-ff1baa03edc7', 'x-amz-id-2': 'GIxA5edjKFVz+w0sMflZsLWk+WQtlRxxwqz69qUgJXazdag6qBG60D20NpbFgQlJWTUFHjI2SanCiNDFPDzTkyxdBZztTy9Q', 'date': 'Fri, 07 Apr 2023 18:11:56 GMT', 'content-type': 'application/x-amz-json-1.1', 'content-length': '110'}, 'RetryAttempts': 0}}\n",
      "waiting 1.4 seconds to send trans 7...\n",
      "Sending transaction on card: 4033404285943061...\n",
      "{'ShardId': 'shardId-000000000000', 'SequenceNumber': '49639562715510278784415908063211734712820322365419290626', 'ResponseMetadata': {'RequestId': 'cb999479-0c1c-4f37-9733-cb5444457dce', 'HTTPStatusCode': 200, 'HTTPHeaders': {'x-amzn-requestid': 'cb999479-0c1c-4f37-9733-cb5444457dce', 'x-amz-id-2': 'DSvsa/pNDYPUyvmWuT+C9tp/sUgxTsOVvbf02WSVEiWfB+DLAnznx1kXKm7y+EPhNdLL9DoMqtTPkaPeqz9ye4+o/vPbuTuD', 'date': 'Fri, 07 Apr 2023 18:11:57 GMT', 'content-type': 'application/x-amz-json-1.1', 'content-length': '110'}, 'RetryAttempts': 0}}\n",
      "waiting 1.2 seconds to send trans 8...\n",
      "Sending transaction on card: 4033404285943061...\n",
      "{'ShardId': 'shardId-000000000000', 'SequenceNumber': '49639562715510278784415908065972921284820135537887150082', 'ResponseMetadata': {'RequestId': 'ef2e6ba0-afe5-095f-b384-348ee7bc3ba6', 'HTTPStatusCode': 200, 'HTTPHeaders': {'x-amzn-requestid': 'ef2e6ba0-afe5-095f-b384-348ee7bc3ba6', 'x-amz-id-2': 'gb5QS3YnGGemF4Yy4R9wvtg7MNnDmx0ddJgGfFX68bDf505dBv+/T2evHRTnqezYKnPPruh4tTgEVlWhEUG6iYUMCpZH4BmR', 'date': 'Fri, 07 Apr 2023 18:11:58 GMT', 'content-type': 'application/x-amz-json-1.1', 'content-length': '110'}, 'RetryAttempts': 0}}\n",
      "waiting 1.5 seconds to send trans 9...\n",
      "Sending transaction on card: 4033404285943061...\n",
      "{'ShardId': 'shardId-000000000000', 'SequenceNumber': '49639562715510278784415908070167893878882898842837057538', 'ResponseMetadata': {'RequestId': 'e62b60ba-937a-e42c-ba81-3f8adb23d6d5', 'HTTPStatusCode': 200, 'HTTPHeaders': {'x-amzn-requestid': 'e62b60ba-937a-e42c-ba81-3f8adb23d6d5', 'x-amz-id-2': 'X1N/fuKf9n5L6EAlrO/tTZ8d+1XVtHl+EliKPAn7COYz0M4MZ/9mj8pxGKnPjkntXcLAq/RmLZ62Ya2BBZ3c3PGngAQ7ET7M', 'date': 'Fri, 07 Apr 2023 18:12:00 GMT', 'content-type': 'application/x-amz-json-1.1', 'content-length': '110'}, 'RetryAttempts': 0}}\n"
     ]
    }
   ],
   "source": [
    "cc_nums = test_df.cc_num.unique()[10:14]\n",
    "start_test_time = time.time() \n",
    "STREAM_NAME = 'cc-chime-stream'\n",
    "put_to_stream(STREAM_NAME, cc_nums[0], names[0],'Merchant-0', round(np.random.uniform(100, 5000), 2), 'zip-0', time.time())\n",
    "put_to_stream(STREAM_NAME, cc_nums[0], names[0], 'Merchant-1', round(np.random.uniform(100, 5000), 2), 'zip-1', time.time())\n",
    "put_to_stream(STREAM_NAME, cc_nums[2], names[2], 'Merchant-2', round(np.random.uniform(100, 5000), 2), 'zip-2', time.time())\n",
    "\n",
    "print('\\nNow simulate a fraud attack...')\n",
    "fraud_cc_num = cc_nums[3]\n",
    "simulate_fraud(STREAM_NAME, fraud_cc_num, names[3])\n",
    "\n",
    "end_test_time = time.time() "
   ]
  },
  {
   "cell_type": "code",
   "execution_count": null,
   "metadata": {},
   "outputs": [],
   "source": []
  },
  {
   "cell_type": "markdown",
   "metadata": {},
   "source": [
    "### Results can be seen in the CloudWatch log stream of our Lambda function\n",
    "The following cell dynamically creates a link to view the results. It waits for the CloudWatch log stream to have the output events from the transactions we just sent. The URL also hones in on the output from the specific timeframe of the transactions."
   ]
  },
  {
   "cell_type": "code",
   "execution_count": 152,
   "metadata": {},
   "outputs": [
    {
     "name": "stdout",
     "output_type": "stream",
     "text": [
      "Updated log stream is ready.\n"
     ]
    },
    {
     "name": "stderr",
     "output_type": "stream",
     "text": [
      "/tmp/ipykernel_18312/2593513893.py:1: DeprecationWarning: Importing display from IPython.core.display is deprecated since IPython 7.14, please import from IPython display\n",
      "  from IPython.core.display import display, HTML\n"
     ]
    },
    {
     "data": {
      "text/html": [
       "<b>Review results in this log stream <a target=\"blank\" href=\"https://console.aws.amazon.com/cloudwatch/home?region=us-east-1#logsV2:log-groups/log-group/$252Faws$252Flambda$252FInvokeFraudEndpointLambda/log-events/2023$252F04$252F07$252F$255B$2524LATEST$255D4f234ab1160d4cef9d712b8cb54f9d9a$3FfilterPattern$3DPrediction+$26start$3D1680891095781$26end$3D1680891160336\">Lambda fraud detection results</a></b>"
      ],
      "text/plain": [
       "<IPython.core.display.HTML object>"
      ]
     },
     "metadata": {},
     "output_type": "display_data"
    }
   ],
   "source": [
    "from IPython.core.display import display, HTML\n",
    "\n",
    "full_cw_url = get_cloudwatch_logs_url(start_test_time, end_test_time)\n",
    "display(HTML(f'<b>Review results in this log stream <a target=\"blank\" href=\"{full_cw_url}\">Lambda fraud detection results</a></b>'))"
   ]
  },
  {
   "cell_type": "markdown",
   "metadata": {},
   "source": [
    "### Feed a stream of transactions [optional]\n",
    "If you would like to send additional credit card transactions to simulate more input traffic to the feature pipeline, you can pull from the test dataset as shown below. Just pass in how many transactions you want to send, and the max wait time between transactions (in seconds)."
   ]
  },
  {
   "cell_type": "code",
   "execution_count": 268,
   "metadata": {},
   "outputs": [],
   "source": [
    "import time\n",
    "\n",
    "def simulate_traffic(df, max_wait, num_trans):\n",
    "    for i in range(num_trans):\n",
    "        row = test_df.iloc[i]\n",
    "        cc_num = row['cc_num']\n",
    "        name = row['name']\n",
    "        zip_code = '0'\n",
    "        merchant = 'A'\n",
    "        amt = row['amount']\n",
    "        print(f'cc_num: {cc_num}, amt: {amt}')\n",
    "        seconds_to_wait = int(np.random.uniform(0.1, max_wait))\n",
    "        print(f'waiting {seconds_to_wait} seconds to send trans {i}...')\n",
    "        time.sleep(seconds_to_wait)\n",
    "        print(f' putting trans with card: {cc_num}, name: {name}, amt: {amt}, zip: {zip_code}, merchant: {merchant}')\n",
    "        status = put_to_stream(STREAM_NAME,cc_num, name, merchant, amt, zip_code, time.time())\n",
    "        if (not status):\n",
    "            print('Error found during write to Kinesis Stream')\n",
    "            break\n",
    "        i += 1\n",
    "        if i > (num_trans -1):\n",
    "            break"
   ]
  },
  {
   "cell_type": "code",
   "execution_count": 286,
   "metadata": {},
   "outputs": [
    {
     "name": "stdout",
     "output_type": "stream",
     "text": [
      "cc_num: 4006080197832643, amt: 70.76\n",
      "waiting 1 seconds to send trans 0...\n",
      " putting trans with card: 4006080197832643, name: Todd Lynch, amt: 70.76, zip: 0, merchant: A\n",
      "Sending transaction on card: 4006080197832643...\n",
      "{'ShardId': 'shardId-000000000000', 'SequenceNumber': '49639562715510278784416158300435454375987862617345490946', 'ResponseMetadata': {'RequestId': 'e0a4200f-003c-e78e-bc0f-ef8f154d4e8f', 'HTTPStatusCode': 200, 'HTTPHeaders': {'x-amzn-requestid': 'e0a4200f-003c-e78e-bc0f-ef8f154d4e8f', 'x-amz-id-2': 'ZeqTTYg9TooRqmDDJS2EBgR7r83AgJnsPHkYzhDiyKayoP9PO4wX3hELfETfCOzh3vIPMXKU+7WT62Qjhh5/jAqqEUOrFSVV', 'date': 'Sat, 08 Apr 2023 20:23:28 GMT', 'content-type': 'application/x-amz-json-1.1', 'content-length': '110'}, 'RetryAttempts': 0}}\n",
      "cc_num: 4006080197832643, amt: 926.79\n",
      "waiting 1 seconds to send trans 1...\n",
      " putting trans with card: 4006080197832643, name: Todd Lynch, amt: 926.79, zip: 0, merchant: A\n",
      "Sending transaction on card: 4006080197832643...\n",
      "{'ShardId': 'shardId-000000000000', 'SequenceNumber': '49639562715510278784416158302899245196362477081555107842', 'ResponseMetadata': {'RequestId': 'e7ffe52e-0c5a-fa2e-bb54-2aaf192b532f', 'HTTPStatusCode': 200, 'HTTPHeaders': {'x-amzn-requestid': 'e7ffe52e-0c5a-fa2e-bb54-2aaf192b532f', 'x-amz-id-2': 'Fu2zK+BJPXXJeNZAwdWVxNJjv2Gr5guKDV/sTeqKy6yZaL5rqHUaSmgJo8KtgEEOk44brWD0rpQxlLX1ufWayyyTuX1GKfBY', 'date': 'Sat, 08 Apr 2023 20:23:29 GMT', 'content-type': 'application/x-amz-json-1.1', 'content-length': '110'}, 'RetryAttempts': 0}}\n"
     ]
    }
   ],
   "source": [
    "simulate_traffic(test_df, 2, 2)"
   ]
  },
  {
   "cell_type": "code",
   "execution_count": 259,
   "metadata": {},
   "outputs": [],
   "source": [
    "featurestore_runtime_client = sagemaker_session.boto_session.client('sagemaker-featurestore-runtime', region_name=region)"
   ]
  },
  {
   "cell_type": "code",
   "execution_count": 270,
   "metadata": {},
   "outputs": [
    {
     "name": "stderr",
     "output_type": "stream",
     "text": [
      "ccnum=4006080197832643\n"
     ]
    }
   ],
   "source": [
    "cc_num= '4006080197832643'\n",
    "logger.info(f'ccnum={cc_num}') \n"
   ]
  },
  {
   "cell_type": "code",
   "execution_count": 287,
   "metadata": {},
   "outputs": [
    {
     "data": {
      "text/plain": [
       "{'ResponseMetadata': {'RequestId': 'c44176ab-5bab-41ff-874d-e37f972bc6e1',\n",
       "  'HTTPStatusCode': 200,\n",
       "  'HTTPHeaders': {'x-amzn-requestid': 'c44176ab-5bab-41ff-874d-e37f972bc6e1',\n",
       "   'content-type': 'application/json',\n",
       "   'content-length': '298',\n",
       "   'date': 'Sat, 08 Apr 2023 20:23:32 GMT'},\n",
       "  'RetryAttempts': 0},\n",
       " 'Record': [{'FeatureName': 'cc_num', 'ValueAsString': '4006080197832643'},\n",
       "  {'FeatureName': 'num_trans_last_10m', 'ValueAsString': '2'},\n",
       "  {'FeatureName': 'avg_amt_last_10m', 'ValueAsString': '498.0'},\n",
       "  {'FeatureName': 'trans_time', 'ValueAsString': '1680985412'},\n",
       "  {'FeatureName': 'name', 'ValueAsString': 'Todd Lynch'}]}"
      ]
     },
     "execution_count": 287,
     "metadata": {},
     "output_type": "execute_result"
    }
   ],
   "source": [
    "feature_record = featurestore_runtime_client.get_record(FeatureGroupName='cc-agg-chime-fg', \n",
    "                                                        RecordIdentifierValueAsString=cc_num)\n",
    "feature_record"
   ]
  },
  {
   "cell_type": "code",
   "execution_count": 298,
   "metadata": {},
   "outputs": [
    {
     "name": "stdout",
     "output_type": "stream",
     "text": [
      "***Delete Iniatiation Time*** 2023-04-08T21:20:04.212Z\n",
      "***Insert Start Time*** 2023-04-08T21:20:04.223Z\n",
      "cc_num: 4006080197832643, amt: 70.76\n",
      "waiting 0 seconds to send trans 0...\n",
      " putting trans with card: 4006080197832643, name: Todd Lynch, amt: 70.76, zip: 0, merchant: A\n",
      "Sending transaction on card: 4006080197832643...\n",
      "cc_num: 4006080197832643, amt: 926.79\n",
      "waiting 1 seconds to send trans 1...\n",
      " putting trans with card: 4006080197832643, name: Todd Lynch, amt: 926.79, zip: 0, merchant: A\n",
      "Sending transaction on card: 4006080197832643...\n",
      "***Insert End Time*** 2023-04-08T21:20:05.300Z\n",
      "***Read Time*** 2023-04-08T21:20:06.321Z\n"
     ]
    },
    {
     "data": {
      "text/plain": [
       "{'ResponseMetadata': {'RequestId': '51acd3e7-5cee-4470-9558-fd63336029d9',\n",
       "  'HTTPStatusCode': 200,\n",
       "  'HTTPHeaders': {'x-amzn-requestid': '51acd3e7-5cee-4470-9558-fd63336029d9',\n",
       "   'content-type': 'application/json',\n",
       "   'content-length': '299',\n",
       "   'date': 'Sat, 08 Apr 2023 21:20:06 GMT'},\n",
       "  'RetryAttempts': 0},\n",
       " 'Record': [{'FeatureName': 'cc_num', 'ValueAsString': '4006080197832643'},\n",
       "  {'FeatureName': 'num_trans_last_10m', 'ValueAsString': '15'},\n",
       "  {'FeatureName': 'avg_amt_last_10m', 'ValueAsString': '469.0'},\n",
       "  {'FeatureName': 'trans_time', 'ValueAsString': '1680988806'},\n",
       "  {'FeatureName': 'name', 'ValueAsString': 'Todd Lynch'}]}"
      ]
     },
     "execution_count": 298,
     "metadata": {},
     "output_type": "execute_result"
    }
   ],
   "source": [
    "print('***Delete Iniatiation Time***',generate_event_timestamp())\n",
    "\n",
    "feature_record = featurestore_runtime_client.delete_record(FeatureGroupName='cc-agg-chime-fg', \n",
    "                                                        RecordIdentifierValueAsString=cc_num,\n",
    "                                                        EventTime= str(time.time()) )\n",
    "print('***Insert Start Time***',generate_event_timestamp())\n",
    "\n",
    "simulate_traffic(test_df, 2, 2)\n",
    "\n",
    "\n",
    "print('***Insert End Time***',generate_event_timestamp())\n",
    "\n",
    "time.sleep(1)\n",
    "\n",
    "feature_record = featurestore_runtime_client.get_record(FeatureGroupName='cc-agg-chime-fg', \n",
    "                                                        RecordIdentifierValueAsString=cc_num)\n",
    "print('***Read Time***',generate_event_timestamp())\n",
    "\n",
    "feature_record"
   ]
  }
 ],
 "metadata": {
  "kernelspec": {
   "display_name": "conda_python3",
   "language": "python",
   "name": "conda_python3"
  },
  "language_info": {
   "codemirror_mode": {
    "name": "ipython",
    "version": 3
   },
   "file_extension": ".py",
   "mimetype": "text/x-python",
   "name": "python",
   "nbconvert_exporter": "python",
   "pygments_lexer": "ipython3",
   "version": "3.10.8"
  }
 },
 "nbformat": 4,
 "nbformat_minor": 4
}
