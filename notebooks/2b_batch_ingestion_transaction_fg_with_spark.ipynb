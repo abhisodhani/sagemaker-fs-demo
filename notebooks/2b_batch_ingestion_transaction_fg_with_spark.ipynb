{
 "cells": [
  {
   "cell_type": "markdown",
   "metadata": {},
   "source": [
    "# AWS Glue Studio Notebook\n",
    "##### You are now running a AWS Glue Studio notebook; To start using your notebook you need to start an AWS Glue Interactive Session.\n"
   ]
  },
  {
   "cell_type": "code",
   "execution_count": 9,
   "metadata": {
    "vscode": {
     "languageId": "python_glue_session"
    }
   },
   "outputs": [
    {
     "name": "stdout",
     "output_type": "stream",
     "text": [
      "Welcome to the Glue Interactive Sessions Kernel\n",
      "For more information on available magic commands, please type %help in any new cell.\n",
      "\n",
      "Please view our Getting Started page to access the most up-to-date information on the Interactive Sessions kernel: https://docs.aws.amazon.com/glue/latest/dg/interactive-sessions.html\n",
      "Installed kernel version: 0.37.0 \n",
      "Setting session ID prefix to fg-offline-scale\n",
      "Setting Glue version to: 3.0\n",
      "Current idle_timeout is 2800 minutes.\n",
      "idle_timeout has been set to 480 minutes.\n",
      "Previous number of workers: 5\n",
      "Setting new number of workers to: 10\n",
      "Previous worker type: G.1X\n",
      "Setting new worker type to: G.2X\n",
      "Additional python modules to be included:\n",
      "sagemaker\n",
      "sagemaker-feature-store-pyspark-3.1\n",
      "Extra jars to be included:\n",
      "s3://sm-fs-demo/spark-connectors-jars/sagemaker-feature-store-spark-sdk.jar\n",
      "The following configurations have been updated: {'--enable-spark-ui': 'true', '--spark-event-logs-path': 's3://chime-fs-demo/gis-spark-logs/', '--enable-auto-scaling': 'true', '--enable-metrics': 'true', '--enable-continuous-cloudwatch-log': 'true', '--enable-continuous-log-filter': 'true'}\n",
      "s3://sm-fs-demo/spark-connectors-jars/sagemaker-feature-store-spark-sdk.jar\n"
     ]
    }
   ],
   "source": [
    "%session_id_prefix fg-offline-scale\n",
    "%glue_version 3.0\n",
    "%idle_timeout 480\n",
    "%number_of_workers 10\n",
    "%worker_type G.2X \n",
    "%additional_python_modules 'sagemaker,sagemaker-feature-store-pyspark-3.1'\n",
    "%extra_jars 's3://sm-fs-demo/spark-connectors-jars/sagemaker-feature-store-spark-sdk.jar'\n",
    "%%configure\n",
    "{\n",
    "    \"--enable-spark-ui\": \"true\",\n",
    "    \"--spark-event-logs-path\": \"s3://sm-fs-demo/gis-spark-logs/\",\n",
    "    \"--enable-auto-scaling\": \"true\",\n",
    "    \"--enable-metrics\": \"true\",\n",
    "    \"--enable-continuous-cloudwatch-log\": \"true\",\n",
    "    \"--enable-continuous-log-filter\": \"true\",\n",
    "}"
   ]
  },
  {
   "cell_type": "code",
   "execution_count": 1,
   "metadata": {
    "vscode": {
     "languageId": "python_glue_session"
    }
   },
   "outputs": [
    {
     "name": "stdout",
     "output_type": "stream",
     "text": [
      "Authenticating with environment variables and user-defined glue_role_arn: arn:aws:iam::461312420708:role/Admin\n",
      "Trying to create a Glue session for the kernel.\n",
      "Worker Type: G.2X\n",
      "Number of Workers: 10\n",
      "Session ID: 2ddfb6fa-44e1-40e1-8c01-f9c0fd499404\n",
      "Job Type: glueetl\n",
      "Applying the following default arguments:\n",
      "--glue_kernel_version 0.37.0\n",
      "--enable-glue-datacatalog true\n",
      "--additional-python-modules sagemaker,sagemaker-feature-store-pyspark-3.1\n",
      "--extra-jars s3://sm-fs-demo/spark-connectors-jars/sagemaker-feature-store-spark-sdk.jar\n",
      "--enable-spark-ui true\n",
      "--spark-event-logs-path s3://chime-fs-demo/gis-spark-logs/\n",
      "--enable-auto-scaling true\n",
      "--enable-metrics true\n",
      "--enable-continuous-cloudwatch-log true\n",
      "--enable-continuous-log-filter true\n",
      "Waiting for session 2ddfb6fa-44e1-40e1-8c01-f9c0fd499404 to get into ready status...\n",
      "Session 2ddfb6fa-44e1-40e1-8c01-f9c0fd499404 has been created.\n",
      "\n"
     ]
    }
   ],
   "source": [
    "from pyspark.context import SparkContext\n",
    "from pyspark.sql import SQLContext\n",
    "from pyspark.sql.functions import *\n",
    "import boto3\n",
    "import json\n",
    "import time\n",
    "import pandas as pd\n",
    "import sagemaker\n",
    "from sagemaker.feature_store.feature_group import FeatureDefinition, FeatureGroup, FeatureTypeEnum, DataCatalogConfig\n",
    "from pyspark.sql import SparkSession\n",
    "from feature_store_pyspark.FeatureStoreManager import FeatureStoreManager\n",
    "import feature_store_pyspark\n",
    "from sagemaker.feature_store.inputs import TableFormatEnum"
   ]
  },
  {
   "cell_type": "code",
   "execution_count": 29,
   "metadata": {
    "vscode": {
     "languageId": "python_glue_session"
    }
   },
   "outputs": [
    {
     "name": "stdout",
     "output_type": "stream",
     "text": [
      "\n"
     ]
    }
   ],
   "source": [
    "TABLE_FORMAT = TableFormatEnum.ICEBERG\n",
    "\n",
    "FG_NAME = f'cc-transactions-fg'\n",
    "\n",
    "EVENT_TIME_NAME = 'datetime'\n",
    "RECORD_ID_NAME = 'tid'"
   ]
  },
  {
   "cell_type": "code",
   "execution_count": 3,
   "metadata": {
    "vscode": {
     "languageId": "python_glue_session"
    }
   },
   "outputs": [
    {
     "name": "stdout",
     "output_type": "stream",
     "text": [
      "\n"
     ]
    }
   ],
   "source": [
    "def get_table_name(feature_group_name):\n",
    "    featurestore_table = sagemaker_session.describe_feature_group(feature_group_name)['OfflineStoreConfig']['DataCatalogConfig']['TableName']\n",
    "    return featurestore_table\n",
    "\n",
    "def get_offline_store_s3_uri(feature_group_name):\n",
    "    offline_store_s3_uri = sagemaker_session.describe_feature_group(feature_group_name)['OfflineStoreConfig']['S3StorageConfig']['ResolvedOutputS3Uri']\n",
    "    return offline_store_s3_uri"
   ]
  },
  {
   "cell_type": "code",
   "execution_count": 22,
   "metadata": {
    "vscode": {
     "languageId": "python_glue_session"
    }
   },
   "outputs": [
    {
     "name": "stdout",
     "output_type": "stream",
     "text": [
      "\n"
     ]
    }
   ],
   "source": [
    "sagemaker_session = sagemaker.Session()\n",
    "feature_store_manager= FeatureStoreManager()\n",
    "role = 'arn:aws:iam::461312420708:role/Admin'\n",
    "default_bucket = 'sm-fs-demo'"
   ]
  },
  {
   "cell_type": "code",
   "execution_count": 5,
   "metadata": {
    "vscode": {
     "languageId": "python_glue_session"
    }
   },
   "outputs": [
    {
     "name": "stdout",
     "output_type": "stream",
     "text": [
      "\n"
     ]
    }
   ],
   "source": [
    "def ingest_data_to_feature_store(dataframe, feature_group_name, sagemaker_session, target_stores):\n",
    "    feature_group_arn = sagemaker_session.describe_feature_group(feature_group_name)['FeatureGroupArn']\n",
    "    feature_store_manager.ingest_data(input_data_frame=dataframe, feature_group_arn= feature_group_arn, \n",
    "                                      target_stores=target_stores)\n",
    "    print(f'Process - ingest_to_feature_store - {feature_group_name} : Completed')"
   ]
  },
  {
   "cell_type": "code",
   "execution_count": 6,
   "metadata": {
    "vscode": {
     "languageId": "python_glue_session"
    }
   },
   "outputs": [
    {
     "name": "stdout",
     "output_type": "stream",
     "text": [
      "Location of offline store: s3://sm-fs-demo/sagemaker-feature-store\n"
     ]
    }
   ],
   "source": [
    "offline_feature_store_uri = f's3://{default_bucket}/sagemaker-feature-store'\n",
    "\n",
    "print(f'Location of offline store: {offline_feature_store_uri}')"
   ]
  },
  {
   "cell_type": "code",
   "execution_count": 7,
   "metadata": {
    "vscode": {
     "languageId": "python_glue_session"
    }
   },
   "outputs": [
    {
     "name": "stdout",
     "output_type": "stream",
     "text": [
      "\n"
     ]
    }
   ],
   "source": [
    "spark = SparkSession.builder.getOrCreate()"
   ]
  },
  {
   "cell_type": "code",
   "execution_count": 8,
   "metadata": {
    "vscode": {
     "languageId": "python_glue_session"
    }
   },
   "outputs": [
    {
     "name": "stdout",
     "output_type": "stream",
     "text": [
      "\n"
     ]
    }
   ],
   "source": [
    "full_df = spark.read.csv(\"s3://sm-fs-demo/aggregated/part-*.csv\",header =\"True\")"
   ]
  },
  {
   "cell_type": "code",
   "execution_count": 9,
   "metadata": {
    "vscode": {
     "languageId": "python_glue_session"
    }
   },
   "outputs": [
    {
     "name": "stdout",
     "output_type": "stream",
     "text": [
      "+--------------------+--------------------+----------------+------+-----------+------------------+----------------+-----------------+------------------+------------------+------------------+------------------+\n",
      "|                 tid|            datetime|          cc_num|amount|fraud_label|num_trans_last_10m|avg_amt_last_10m|num_trans_last_1w|   avg_amt_last_1w|        amt_ratio1|        amt_ratio2|       count_ratio|\n",
      "+--------------------+--------------------+----------------+------+-----------+------------------+----------------+-----------------+------------------+------------------+------------------+------------------+\n",
      "|9865906a3fc8ffb36...|2020-01-01T08:03:...|4006080197832643| 89.69|          0|                 1|           89.69|                1|             89.69|               1.0|               1.0|               1.0|\n",
      "|b18b52528c812800f...|2020-01-01T11:23:...|4006080197832643| 57.98|          0|                 1|           57.98|                2|            73.835|0.7852644409832735|0.7852644409832735|               0.5|\n",
      "|34b9c71ea65c2a900...|2020-01-02T03:45:...|4006080197832643|195.62|          0|                 1|          195.62|                3|114.42999999999999|1.7095167351219087|1.7095167351219087|0.3333333333333333|\n",
      "|610a9e76bd6a3fb56...|2020-01-02T07:14:...|4006080197832643|653.63|          0|                 1|          653.63|                4|            249.23|2.6225976006098786|2.6225976006098786|              0.25|\n",
      "|c24caf694d7b5375b...|2020-01-02T16:43:...|4006080197832643| 20.18|          0|                 1|           20.18|                5|            203.42|0.0992036181299774|0.0992036181299774|               0.2|\n",
      "+--------------------+--------------------+----------------+------+-----------+------------------+----------------+-----------------+------------------+------------------+------------------+------------------+\n",
      "only showing top 5 rows\n"
     ]
    }
   ],
   "source": [
    "full_df.show(n=5)"
   ]
  },
  {
   "cell_type": "code",
   "execution_count": 10,
   "metadata": {
    "vscode": {
     "languageId": "python_glue_session"
    }
   },
   "outputs": [
    {
     "name": "stdout",
     "output_type": "stream",
     "text": [
      "\n"
     ]
    }
   ],
   "source": [
    "train_df = full_df.select('tid','datetime','fraud_label', 'amount', 'amt_ratio1','amt_ratio2','count_ratio')"
   ]
  },
  {
   "cell_type": "code",
   "execution_count": 10,
   "metadata": {
    "vscode": {
     "languageId": "python_glue_session"
    }
   },
   "outputs": [],
   "source": [
    "# train_df.na.drop().show(truncate=False)"
   ]
  },
  {
   "cell_type": "code",
   "execution_count": 12,
   "metadata": {
    "vscode": {
     "languageId": "python_glue_session"
    }
   },
   "outputs": [
    {
     "name": "stdout",
     "output_type": "stream",
     "text": [
      "+---+--------+-----------+------+----------+----------+-----------+\n",
      "|tid|datetime|fraud_label|amount|amt_ratio1|amt_ratio2|count_ratio|\n",
      "+---+--------+-----------+------+----------+----------+-----------+\n",
      "|  1|       1|          1|     1|         1|         1|          0|\n",
      "+---+--------+-----------+------+----------+----------+-----------+\n"
     ]
    }
   ],
   "source": [
    "train_df.select([count(when(col(c).contains('None') | \\\n",
    "                            col(c).contains('NULL') | \\\n",
    "                            (col(c) == '' ) | \\\n",
    "                            col(c).isNull() | \\\n",
    "                            isnan(c), c \n",
    "                           )).alias(c)\n",
    "                    for c in train_df.columns]).show()"
   ]
  },
  {
   "cell_type": "code",
   "execution_count": 13,
   "metadata": {
    "vscode": {
     "languageId": "python_glue_session"
    }
   },
   "outputs": [
    {
     "name": "stdout",
     "output_type": "stream",
     "text": [
      "\n"
     ]
    }
   ],
   "source": [
    "train_filtered_df = train_df.filter(train_df.tid.isNotNull())"
   ]
  },
  {
   "cell_type": "code",
   "execution_count": 14,
   "metadata": {},
   "outputs": [
    {
     "name": "stdout",
     "output_type": "stream",
     "text": [
      "+---+--------+-----------+------+----------+----------+-----------+\n",
      "|tid|datetime|fraud_label|amount|amt_ratio1|amt_ratio2|count_ratio|\n",
      "+---+--------+-----------+------+----------+----------+-----------+\n",
      "|  0|       0|          0|     0|         0|         0|          0|\n",
      "+---+--------+-----------+------+----------+----------+-----------+\n"
     ]
    }
   ],
   "source": [
    "train_filtered_df.select([count(when(isnan(c) | col(c).isNull(), c)).alias(c) for c in train_df.columns]\n",
    "   ).show()"
   ]
  },
  {
   "cell_type": "code",
   "execution_count": 15,
   "metadata": {
    "vscode": {
     "languageId": "python_glue_session"
    }
   },
   "outputs": [
    {
     "name": "stdout",
     "output_type": "stream",
     "text": [
      "[('tid', 'string'), ('datetime', 'string'), ('fraud_label', 'string'), ('amount', 'string'), ('amt_ratio1', 'string'), ('amt_ratio2', 'string'), ('count_ratio', 'string')]\n"
     ]
    }
   ],
   "source": [
    "train_filtered_df.dtypes"
   ]
  },
  {
   "cell_type": "code",
   "execution_count": 17,
   "metadata": {
    "vscode": {
     "languageId": "python_glue_session"
    }
   },
   "outputs": [
    {
     "name": "stdout",
     "output_type": "stream",
     "text": [
      "\n"
     ]
    }
   ],
   "source": [
    "sample_df = pd.DataFrame([['d621c8d794262ad5e8ad804cb4517395', '2023-04-02T19:53:45.483Z', 1,8911.09, 1.0,1.0,1.0]], \n",
    "                  columns=['tid', 'datetime', 'fraud_label', 'amount', 'amt_ratio1','amt_ratio2','count_ratio'])\n",
    "\n",
    "\n",
    "def cast_object_to_string(data_frame):\n",
    "    for label in data_frame.columns:\n",
    "        if data_frame.dtypes[label] == 'object':\n",
    "            data_frame[label] = data_frame[label].astype(\"str\").astype(\"string\")\n",
    "\n",
    "cast_object_to_string(sample_df) \n",
    "sample_df['fraud_label'] = sample_df['fraud_label'].astype('string')\n",
    "sample_df['amount'] = sample_df['amount'].astype('string')\n",
    "sample_df['amt_ratio1'] = sample_df['amt_ratio1'].astype('string')\n",
    "sample_df['amt_ratio2'] = sample_df['amt_ratio2'].astype('string')\n",
    "sample_df['count_ratio'] = sample_df['count_ratio'].astype('string')"
   ]
  },
  {
   "cell_type": "code",
   "execution_count": 45,
   "metadata": {
    "vscode": {
     "languageId": "python_glue_session"
    }
   },
   "outputs": [
    {
     "name": "stdout",
     "output_type": "stream",
     "text": [
      "[FeatureDefinition(feature_name='tid', feature_type=<FeatureTypeEnum.STRING: 'String'>), FeatureDefinition(feature_name='datetime', feature_type=<FeatureTypeEnum.STRING: 'String'>), FeatureDefinition(feature_name='fraud_label', feature_type=<FeatureTypeEnum.STRING: 'String'>), FeatureDefinition(feature_name='amount', feature_type=<FeatureTypeEnum.STRING: 'String'>), FeatureDefinition(feature_name='amt_ratio1', feature_type=<FeatureTypeEnum.STRING: 'String'>), FeatureDefinition(feature_name='amt_ratio2', feature_type=<FeatureTypeEnum.STRING: 'String'>), FeatureDefinition(feature_name='count_ratio', feature_type=<FeatureTypeEnum.STRING: 'String'>)]\n"
     ]
    }
   ],
   "source": [
    "fg = FeatureGroup(name=FG_NAME, sagemaker_session=sagemaker_session)\n",
    "fg.load_feature_definitions(data_frame=sample_df)"
   ]
  },
  {
   "cell_type": "code",
   "execution_count": 46,
   "metadata": {},
   "outputs": [
    {
     "name": "stdout",
     "output_type": "stream",
     "text": [
      "\n"
     ]
    }
   ],
   "source": [
    "# in case we run this example multiple times, delete the prior FG since we are recreating it\n",
    "try:\n",
    "    fg.delete()\n",
    "except:\n",
    "    pass"
   ]
  },
  {
   "cell_type": "code",
   "execution_count": 31,
   "metadata": {
    "vscode": {
     "languageId": "python_glue_session"
    }
   },
   "outputs": [
    {
     "name": "stdout",
     "output_type": "stream",
     "text": [
      "{'FeatureGroupArn': 'arn:aws:sagemaker:us-east-1:461312420708:feature-group/cc-transactions-fg', 'ResponseMetadata': {'RequestId': 'b4159903-afb4-48d6-a4a9-27fb84846d27', 'HTTPStatusCode': 200, 'HTTPHeaders': {'x-amzn-requestid': 'b4159903-afb4-48d6-a4a9-27fb84846d27', 'content-type': 'application/x-amz-json-1.1', 'content-length': '95', 'date': 'Sun, 09 Apr 2023 20:01:47 GMT'}, 'RetryAttempts': 0}}\n"
     ]
    }
   ],
   "source": [
    "fg.create(record_identifier_name = RECORD_ID_NAME,\n",
    "                event_time_feature_name = EVENT_TIME_NAME,\n",
    "                role_arn = role,\n",
    "                s3_uri = offline_feature_store_uri,\n",
    "                enable_online_store = False,\n",
    "                table_format = TABLE_FORMAT)"
   ]
  },
  {
   "cell_type": "code",
   "execution_count": 32,
   "metadata": {},
   "outputs": [
    {
     "name": "stdout",
     "output_type": "stream",
     "text": [
      "\n"
     ]
    }
   ],
   "source": [
    "from datetime import datetime, timezone, date\n",
    "\n",
    "def generate_event_timestamp():\n",
    "    # naive datetime representing local time\n",
    "    naive_dt = datetime.now()\n",
    "    # take timezone into account\n",
    "    aware_dt = naive_dt.astimezone()\n",
    "    # time in UTC\n",
    "    utc_dt = aware_dt.astimezone(timezone.utc)\n",
    "    # transform to ISO-8601 format\n",
    "    event_time = utc_dt.isoformat(timespec='milliseconds')\n",
    "    event_time = event_time.replace('+00:00', 'Z')\n",
    "    return event_time"
   ]
  },
  {
   "cell_type": "code",
   "execution_count": 39,
   "metadata": {},
   "outputs": [
    {
     "name": "stdout",
     "output_type": "stream",
     "text": [
      "SELECT * FROM \"cc_transactions_fg_1681070507\" limit 10\n",
      "Athena query output location: \n",
      "s3://sm-fs-demo/athena-results/query_results/\n"
     ]
    }
   ],
   "source": [
    "fs_query = fg.athena_query()\n",
    "fs_table = fs_query.table_name\n",
    "\n",
    "query_string = f'SELECT * FROM \"{fs_table}\" limit 10'\n",
    "\n",
    "print(query_string)\n",
    "\n",
    "query_results= 'athena-results'\n",
    "\n",
    "output_location = f's3://{default_bucket}/{query_results}/query_results/'\n",
    "\n",
    "print(f'Athena query output location: \\n{output_location}')"
   ]
  },
  {
   "cell_type": "code",
   "execution_count": 43,
   "metadata": {},
   "outputs": [
    {
     "name": "stdout",
     "output_type": "stream",
     "text": [
      "Empty DataFrame\n",
      "Columns: [write_time, api_invocation_time, is_deleted, tid, datetime, fraud_label, amount, amt_ratio1, amt_ratio2, count_ratio]\n",
      "Index: []\n"
     ]
    }
   ],
   "source": [
    "fs_query.run(query_string=query_string, output_location=output_location)\n",
    "fs_query.wait()\n",
    "query_df = fs_query.as_dataframe()\n",
    "query_df.head(5)"
   ]
  },
  {
   "cell_type": "code",
   "execution_count": 33,
   "metadata": {},
   "outputs": [
    {
     "name": "stdout",
     "output_type": "stream",
     "text": [
      "'2023-04-09T20:02:36.236Z'\n"
     ]
    }
   ],
   "source": [
    "generate_event_timestamp()"
   ]
  },
  {
   "cell_type": "code",
   "execution_count": 44,
   "metadata": {},
   "outputs": [
    {
     "name": "stdout",
     "output_type": "stream",
     "text": [
      "Spark Ingestion Starttime 2023-04-09T20:15:24.212Z\n",
      "Process - ingest_to_feature_store - cc-transactions-fg : Completed\n",
      "Spark Ingestion Endtime 2023-04-09T20:16:43.124Z\n",
      "Athena query completion time 2023-04-09T20:16:53.308Z\n",
      "                    write_time  ... count_ratio\n",
      "0  2023-04-09 20:15:40.501 UTC  ...    0.038462\n",
      "1  2023-04-09 20:15:40.501 UTC  ...    0.030303\n",
      "2  2023-04-09 20:15:40.501 UTC  ...    0.043478\n",
      "3  2023-04-09 20:15:40.501 UTC  ...    0.040000\n",
      "4  2023-04-09 20:15:40.501 UTC  ...    0.047619\n",
      "\n",
      "[5 rows x 10 columns]\n"
     ]
    }
   ],
   "source": [
    "print('Spark Ingestion Starttime', generate_event_timestamp())\n",
    "\n",
    "ingest_data_to_feature_store(train_filtered_df, FG_NAME, sagemaker_session, target_stores=['OfflineStore'])\n",
    "\n",
    "print('Spark Ingestion Endtime', generate_event_timestamp())\n",
    "\n",
    "fs_query.run(query_string=query_string, output_location=output_location)\n",
    "fs_query.wait()\n",
    "\n",
    "print('Athena query completion time', generate_event_timestamp())\n",
    "\n",
    "query_df = fs_query.as_dataframe()\n",
    "query_df.head(5)"
   ]
  }
 ],
 "metadata": {
  "kernelspec": {
   "display_name": "Glue PySpark",
   "language": "python",
   "name": "glue_pyspark"
  },
  "language_info": {
   "codemirror_mode": {
    "name": "python",
    "version": 3
   },
   "file_extension": ".py",
   "mimetype": "text/x-python",
   "name": "Python_Glue_Session",
   "pygments_lexer": "python3"
  }
 },
 "nbformat": 4,
 "nbformat_minor": 4
}
