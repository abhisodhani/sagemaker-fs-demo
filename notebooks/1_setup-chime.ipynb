{
 "cells": [
  {
   "cell_type": "markdown",
   "metadata": {},
   "source": [
    "# Setup\n",
    "\n",
    "**NOTE:** Before running this notebook, be sure to set the stack name in the first code cell to match the name of the CloudFormation stack you used to create this notebook instance. If you used the default stack name, you should not need to make any updates.\n",
    "\n",
    "This notebook performs the following setup actions for this example use of Amazon SageMaker Feature Store:\n",
    "\n",
    "1. Create online-only feature groups\n",
    "2. Create an Amazon Kinesis data stream\n",
    "3. Create an Amazon Kinesis Data Applications (KDA) application"
   ]
  },
  {
   "cell_type": "markdown",
   "metadata": {},
   "source": [
    "### Get ARN's of Lambda functions from CloudFormation stack outputs\n",
    "1. InvokeFraudEndpointLambdaARN\n",
    "2. StreamingAggLambdaARN"
   ]
  },
  {
   "cell_type": "code",
   "execution_count": 1,
   "metadata": {},
   "outputs": [
    {
     "name": "stdout",
     "output_type": "stream",
     "text": [
      "Stored 'STACK_NAME' (str)\n"
     ]
    }
   ],
   "source": [
    "STACK_NAME = 'sm-fs-streaming-agg-stack' # if you're not using the default stack name, replace this\n",
    "%store STACK_NAME"
   ]
  },
  {
   "cell_type": "code",
   "execution_count": 2,
   "metadata": {},
   "outputs": [],
   "source": [
    "import sys\n",
    "import boto3\n",
    "\n",
    "cf_client = boto3.client('cloudformation')\n",
    "\n",
    "try:\n",
    "    outputs = cf_client.describe_stacks(StackName=STACK_NAME)['Stacks'][0]['Outputs']\n",
    "    for o in outputs:\n",
    "        if o['OutputKey'] == 'IngestLambdaFunctionARN':\n",
    "            lambda_to_fs_arn = o['OutputValue']\n",
    "        if o['OutputKey'] == 'PredictLambdaFunctionARN':\n",
    "            lambda_to_model_arn = o['OutputValue']\n",
    "        if o['OutputKey'] == 'PredictLambdaFunctionName':\n",
    "            predict_lambda_name = o['OutputValue']\n",
    "\n",
    "except:\n",
    "    msg = f'CloudFormation stack {STACK_NAME} was not found. Please set the STACK_NAME properly and re-run this cell'\n",
    "    sys.exit(ValueError(msg))"
   ]
  },
  {
   "cell_type": "code",
   "execution_count": 3,
   "metadata": {},
   "outputs": [
    {
     "name": "stdout",
     "output_type": "stream",
     "text": [
      "lambda_to_model_arn: arn:aws:lambda:us-east-1:461312420708:function:InvokeFraudEndpointLambda\n",
      "lambda_to_fs_arn: arn:aws:lambda:us-east-1:461312420708:function:StreamingIngestAggFeatures\n",
      "predict_lambda_name: InvokeFraudEndpointLambda\n"
     ]
    }
   ],
   "source": [
    "print(f'lambda_to_model_arn: {lambda_to_model_arn}')\n",
    "print(f'lambda_to_fs_arn: {lambda_to_fs_arn}')\n",
    "print(f'predict_lambda_name: {predict_lambda_name}')"
   ]
  },
  {
   "cell_type": "code",
   "execution_count": 4,
   "metadata": {},
   "outputs": [
    {
     "name": "stdout",
     "output_type": "stream",
     "text": [
      "Stored 'lambda_to_model_arn' (str)\n"
     ]
    }
   ],
   "source": [
    "%store lambda_to_model_arn"
   ]
  },
  {
   "cell_type": "code",
   "execution_count": 5,
   "metadata": {},
   "outputs": [
    {
     "name": "stdout",
     "output_type": "stream",
     "text": [
      "Stored 'predict_lambda_name' (str)\n"
     ]
    }
   ],
   "source": [
    "%store predict_lambda_name"
   ]
  },
  {
   "cell_type": "code",
   "execution_count": 6,
   "metadata": {
    "scrolled": true
   },
   "outputs": [],
   "source": [
    "# to get the latest sagemaker python sdk\n",
    "#!pip install -U sagemaker"
   ]
  },
  {
   "cell_type": "code",
   "execution_count": 7,
   "metadata": {},
   "outputs": [],
   "source": [
    "from IPython.display import display_html\n",
    "def restartkernel() :\n",
    "    display_html(\"<script>Jupyter.notebook.kernel.restart()</script>\",raw=True)\n",
    "#restartkernel()"
   ]
  },
  {
   "cell_type": "markdown",
   "metadata": {},
   "source": [
    "### Imports and other setup"
   ]
  },
  {
   "cell_type": "code",
   "execution_count": 4,
   "metadata": {},
   "outputs": [],
   "source": [
    "from sagemaker import get_execution_role\n",
    "import sagemaker\n",
    "import boto3\n",
    "import json\n",
    "\n",
    "role = get_execution_role()\n",
    "sm = boto3.Session().client(service_name='sagemaker')\n",
    "smfs_runtime = boto3.Session().client(service_name='sagemaker-featurestore-runtime')"
   ]
  },
  {
   "cell_type": "markdown",
   "metadata": {},
   "source": [
    "## Create online-only feature groups\n",
    "When using Amazon SageMaker Feature Store, a core design decision is the definition of feature groups. For our credit card fraud detection use case, we have decided to use two of them:\n",
    "\n",
    "1. `cc-agg-chime-fg` - holds aggregate features that will be updated in near real-time (streaming ingestion)\n",
    "2. `cc-agg-batch-chime-fg` - holds aggregate features that will be updated in batch\n",
    "\n",
    "Establishing a feature group is a one-time step and is done using the `CreateFeatureGroup` API. \n",
    "\n",
    "Feature groups can be created as **online-only**, **offline-only**, or both **online and offline**, which replicates updates from an online store to an offline store in Amazon S3. Since our focus in this example is on demonstrating the use of the feature store for online inference and streaming aggregation of features, we make each of our feature groups online-only.\n",
    "\n",
    "In addition to a feature group name, we provide metadata about each feature in the group. We are using a json file to define the schema, but this is not a requirement. We use a schema file to demonstrate how you might capture the feature group definitions, enabling you to recreate them consistently as you move from a development environment to a test or production environment. In our schema file, we also highlight the record identifier and the event timestamp. All feature groups must have these two features, but you get to decide how to name them.\n",
    "\n",
    "Here is a visual summary of the feature groups we will create below.\n",
    "\n",
    "<img src=\"./images/feature_groups.png\" />"
   ]
  },
  {
   "cell_type": "markdown",
   "metadata": {},
   "source": [
    "#### cc-agg-fg schema"
   ]
  },
  {
   "cell_type": "code",
   "execution_count": 8,
   "metadata": {},
   "outputs": [
    {
     "name": "stdout",
     "output_type": "stream",
     "text": [
      "{\u001b[37m\u001b[39;49;00m\r\n",
      "\u001b[37m    \u001b[39;49;00m\u001b[94m\"description\"\u001b[39;49;00m:\u001b[37m \u001b[39;49;00m\u001b[33m\"Aggregated features for each credit card, batch ingestion nightly\"\u001b[39;49;00m,\u001b[37m\u001b[39;49;00m\r\n",
      "\u001b[37m    \u001b[39;49;00m\u001b[94m\"features\"\u001b[39;49;00m:\u001b[37m \u001b[39;49;00m[\u001b[37m\u001b[39;49;00m\r\n",
      "\u001b[37m          \u001b[39;49;00m{\u001b[37m\u001b[39;49;00m\r\n",
      "\u001b[37m              \u001b[39;49;00m\u001b[94m\"name\"\u001b[39;49;00m:\u001b[37m \u001b[39;49;00m\u001b[33m\"cc_num\"\u001b[39;49;00m,\u001b[37m\u001b[39;49;00m\r\n",
      "\u001b[37m              \u001b[39;49;00m\u001b[94m\"type\"\u001b[39;49;00m:\u001b[37m \u001b[39;49;00m\u001b[33m\"bigint\"\u001b[39;49;00m,\u001b[37m\u001b[39;49;00m\r\n",
      "\u001b[37m              \u001b[39;49;00m\u001b[94m\"description\"\u001b[39;49;00m:\u001b[37m \u001b[39;49;00m\u001b[33m\"Credit Card Number (Unique)\"\u001b[39;49;00m\u001b[37m\u001b[39;49;00m\r\n",
      "\u001b[37m          \u001b[39;49;00m},\u001b[37m\u001b[39;49;00m\r\n",
      "\u001b[37m          \u001b[39;49;00m{\u001b[37m\u001b[39;49;00m\r\n",
      "\u001b[37m              \u001b[39;49;00m\u001b[94m\"name\"\u001b[39;49;00m:\u001b[37m \u001b[39;49;00m\u001b[33m\"num_trans_last_10m\"\u001b[39;49;00m,\u001b[37m\u001b[39;49;00m\r\n",
      "\u001b[37m              \u001b[39;49;00m\u001b[94m\"type\"\u001b[39;49;00m:\u001b[37m \u001b[39;49;00m\u001b[33m\"bigint\"\u001b[39;49;00m,\u001b[37m\u001b[39;49;00m\r\n",
      "\u001b[37m              \u001b[39;49;00m\u001b[94m\"description\"\u001b[39;49;00m:\u001b[37m \u001b[39;49;00m\u001b[33m\"Aggregated Metric: Average number of transactions for the card aggregated by past 10 minutes\"\u001b[39;49;00m\u001b[37m\u001b[39;49;00m\r\n",
      "\u001b[37m          \u001b[39;49;00m},\u001b[37m\u001b[39;49;00m\r\n",
      "\u001b[37m          \u001b[39;49;00m{\u001b[37m\u001b[39;49;00m\r\n",
      "\u001b[37m              \u001b[39;49;00m\u001b[94m\"name\"\u001b[39;49;00m:\u001b[37m \u001b[39;49;00m\u001b[33m\"avg_amt_last_10m\"\u001b[39;49;00m,\u001b[37m\u001b[39;49;00m\r\n",
      "\u001b[37m              \u001b[39;49;00m\u001b[94m\"type\"\u001b[39;49;00m:\u001b[37m \u001b[39;49;00m\u001b[33m\"double\"\u001b[39;49;00m,\u001b[37m\u001b[39;49;00m\r\n",
      "\u001b[37m              \u001b[39;49;00m\u001b[94m\"description\"\u001b[39;49;00m:\u001b[37m \u001b[39;49;00m\u001b[33m\"Aggregated Metric: Average transaction amount for the card aggregated by past 10 minutes\"\u001b[39;49;00m\u001b[37m\u001b[39;49;00m\r\n",
      "\u001b[37m          \u001b[39;49;00m},\u001b[37m\u001b[39;49;00m\r\n",
      "\u001b[37m          \u001b[39;49;00m{\u001b[37m\u001b[39;49;00m\r\n",
      "\u001b[37m              \u001b[39;49;00m\u001b[94m\"name\"\u001b[39;49;00m:\u001b[37m \u001b[39;49;00m\u001b[33m\"trans_time\"\u001b[39;49;00m,\u001b[37m\u001b[39;49;00m\r\n",
      "\u001b[37m              \u001b[39;49;00m\u001b[94m\"type\"\u001b[39;49;00m:\u001b[37m \u001b[39;49;00m\u001b[33m\"double\"\u001b[39;49;00m,\u001b[37m\u001b[39;49;00m\r\n",
      "\u001b[37m              \u001b[39;49;00m\u001b[94m\"description\"\u001b[39;49;00m:\u001b[37m \u001b[39;49;00m\u001b[33m\"Required feature for event timestamp\"\u001b[39;49;00m\u001b[37m\u001b[39;49;00m\r\n",
      "\u001b[37m          \u001b[39;49;00m}\u001b[37m\u001b[39;49;00m\r\n",
      "\u001b[37m      \u001b[39;49;00m],\u001b[37m\u001b[39;49;00m\r\n",
      "\u001b[37m    \u001b[39;49;00m\r\n",
      "\u001b[37m      \u001b[39;49;00m\u001b[94m\"record_identifier_feature_name\"\u001b[39;49;00m:\u001b[37m \u001b[39;49;00m\u001b[33m\"cc_num\"\u001b[39;49;00m,\u001b[37m\u001b[39;49;00m\r\n",
      "\u001b[37m      \u001b[39;49;00m\u001b[94m\"event_time_feature_name\"\u001b[39;49;00m:\u001b[37m \u001b[39;49;00m\u001b[33m\"trans_time\"\u001b[39;49;00m,\u001b[37m\u001b[39;49;00m\r\n",
      "\u001b[37m      \u001b[39;49;00m\u001b[94m\"tags\"\u001b[39;49;00m:\u001b[37m \u001b[39;49;00m[{\u001b[94m\"Key\"\u001b[39;49;00m:\u001b[37m \u001b[39;49;00m\u001b[33m\"Environment\"\u001b[39;49;00m,\u001b[37m \u001b[39;49;00m\u001b[94m\"Value\"\u001b[39;49;00m\u001b[37m \u001b[39;49;00m:\u001b[37m \u001b[39;49;00m\u001b[33m\"DEV\"\u001b[39;49;00m},\u001b[37m \u001b[39;49;00m\r\n",
      "\u001b[37m               \u001b[39;49;00m{\u001b[94m\"Key\"\u001b[39;49;00m:\u001b[37m \u001b[39;49;00m\u001b[33m\"IngestionType\"\u001b[39;49;00m,\u001b[37m \u001b[39;49;00m\u001b[94m\"Value\"\u001b[39;49;00m:\u001b[37m \u001b[39;49;00m\u001b[33m\"Streaming\"\u001b[39;49;00m},\u001b[37m\u001b[39;49;00m\r\n",
      "\u001b[37m               \u001b[39;49;00m{\u001b[94m\"Key\"\u001b[39;49;00m:\u001b[37m \u001b[39;49;00m\u001b[33m\"CostCenter\"\u001b[39;49;00m,\u001b[37m \u001b[39;49;00m\u001b[94m\"Value\"\u001b[39;49;00m:\u001b[37m \u001b[39;49;00m\u001b[33m\"C20\"\u001b[39;49;00m}]\u001b[37m\u001b[39;49;00m\r\n",
      "}\u001b[37m\u001b[39;49;00m\r\n"
     ]
    }
   ],
   "source": [
    "!pygmentize schema/cc-agg-fg-chime-schema.json"
   ]
  },
  {
   "cell_type": "markdown",
   "metadata": {},
   "source": [
    "#### cc-agg-batch-fg schema"
   ]
  },
  {
   "cell_type": "code",
   "execution_count": 9,
   "metadata": {},
   "outputs": [
    {
     "name": "stdout",
     "output_type": "stream",
     "text": [
      "{\u001b[37m\u001b[39;49;00m\r\n",
      "\u001b[37m    \u001b[39;49;00m\u001b[94m\"description\"\u001b[39;49;00m:\u001b[37m \u001b[39;49;00m\u001b[33m\"Aggregated features for each credit card, streamed intraday\"\u001b[39;49;00m,\u001b[37m\u001b[39;49;00m\r\n",
      "\u001b[37m    \u001b[39;49;00m\r\n",
      "\u001b[37m    \u001b[39;49;00m\u001b[94m\"features\"\u001b[39;49;00m:\u001b[37m \u001b[39;49;00m[\u001b[37m\u001b[39;49;00m\r\n",
      "\u001b[37m          \u001b[39;49;00m{\u001b[37m\u001b[39;49;00m\r\n",
      "\u001b[37m              \u001b[39;49;00m\u001b[94m\"name\"\u001b[39;49;00m:\u001b[37m \u001b[39;49;00m\u001b[33m\"cc_num\"\u001b[39;49;00m,\u001b[37m\u001b[39;49;00m\r\n",
      "\u001b[37m              \u001b[39;49;00m\u001b[94m\"type\"\u001b[39;49;00m:\u001b[37m \u001b[39;49;00m\u001b[33m\"bigint\"\u001b[39;49;00m,\u001b[37m\u001b[39;49;00m\r\n",
      "\u001b[37m              \u001b[39;49;00m\u001b[94m\"description\"\u001b[39;49;00m:\u001b[37m \u001b[39;49;00m\u001b[33m\"Credit Card Number (Unique)\"\u001b[39;49;00m\u001b[37m\u001b[39;49;00m\r\n",
      "\u001b[37m          \u001b[39;49;00m},\u001b[37m\u001b[39;49;00m\r\n",
      "\u001b[37m          \u001b[39;49;00m{\u001b[37m\u001b[39;49;00m\r\n",
      "\u001b[37m              \u001b[39;49;00m\u001b[94m\"name\"\u001b[39;49;00m:\u001b[37m \u001b[39;49;00m\u001b[33m\"num_trans_last_1w\"\u001b[39;49;00m,\u001b[37m\u001b[39;49;00m\r\n",
      "\u001b[37m              \u001b[39;49;00m\u001b[94m\"type\"\u001b[39;49;00m:\u001b[37m \u001b[39;49;00m\u001b[33m\"bigint\"\u001b[39;49;00m,\u001b[37m\u001b[39;49;00m\r\n",
      "\u001b[37m              \u001b[39;49;00m\u001b[94m\"description\"\u001b[39;49;00m:\u001b[37m \u001b[39;49;00m\u001b[33m\"Aggregated Metric: Average number of transactions for the card aggregated by past 1 week\"\u001b[39;49;00m\u001b[37m\u001b[39;49;00m\r\n",
      "\u001b[37m          \u001b[39;49;00m},\u001b[37m\u001b[39;49;00m\r\n",
      "\u001b[37m          \u001b[39;49;00m{\u001b[37m\u001b[39;49;00m\r\n",
      "\u001b[37m              \u001b[39;49;00m\u001b[94m\"name\"\u001b[39;49;00m:\u001b[37m \u001b[39;49;00m\u001b[33m\"avg_amt_last_1w\"\u001b[39;49;00m,\u001b[37m\u001b[39;49;00m\r\n",
      "\u001b[37m              \u001b[39;49;00m\u001b[94m\"type\"\u001b[39;49;00m:\u001b[37m \u001b[39;49;00m\u001b[33m\"double\"\u001b[39;49;00m,\u001b[37m\u001b[39;49;00m\r\n",
      "\u001b[37m              \u001b[39;49;00m\u001b[94m\"description\"\u001b[39;49;00m:\u001b[37m \u001b[39;49;00m\u001b[33m\"Aggregated Metric: Average transaction amount for the card aggregated by past 1 week\"\u001b[39;49;00m\u001b[37m\u001b[39;49;00m\r\n",
      "\u001b[37m          \u001b[39;49;00m},\u001b[37m\u001b[39;49;00m\r\n",
      "\u001b[37m          \u001b[39;49;00m{\u001b[37m\u001b[39;49;00m\r\n",
      "\u001b[37m              \u001b[39;49;00m\u001b[94m\"name\"\u001b[39;49;00m:\u001b[37m \u001b[39;49;00m\u001b[33m\"trans_time\"\u001b[39;49;00m,\u001b[37m\u001b[39;49;00m\r\n",
      "\u001b[37m              \u001b[39;49;00m\u001b[94m\"type\"\u001b[39;49;00m:\u001b[37m \u001b[39;49;00m\u001b[33m\"double\"\u001b[39;49;00m,\u001b[37m\u001b[39;49;00m\r\n",
      "\u001b[37m              \u001b[39;49;00m\u001b[94m\"description\"\u001b[39;49;00m:\u001b[37m \u001b[39;49;00m\u001b[33m\"Required feature for event timestamp\"\u001b[39;49;00m\u001b[37m\u001b[39;49;00m\r\n",
      "\u001b[37m          \u001b[39;49;00m}\u001b[37m\u001b[39;49;00m\r\n",
      "\u001b[37m      \u001b[39;49;00m],\u001b[37m\u001b[39;49;00m\r\n",
      "\u001b[37m    \u001b[39;49;00m\r\n",
      "\u001b[37m      \u001b[39;49;00m\u001b[94m\"record_identifier_feature_name\"\u001b[39;49;00m:\u001b[37m \u001b[39;49;00m\u001b[33m\"cc_num\"\u001b[39;49;00m,\u001b[37m\u001b[39;49;00m\r\n",
      "\u001b[37m      \u001b[39;49;00m\u001b[94m\"event_time_feature_name\"\u001b[39;49;00m:\u001b[37m \u001b[39;49;00m\u001b[33m\"trans_time\"\u001b[39;49;00m,\u001b[37m\u001b[39;49;00m\r\n",
      "\u001b[37m      \u001b[39;49;00m\u001b[94m\"tags\"\u001b[39;49;00m:\u001b[37m \u001b[39;49;00m[{\u001b[94m\"Key\"\u001b[39;49;00m:\u001b[37m \u001b[39;49;00m\u001b[33m\"Environment\"\u001b[39;49;00m,\u001b[37m \u001b[39;49;00m\u001b[94m\"Value\"\u001b[39;49;00m\u001b[37m \u001b[39;49;00m:\u001b[37m \u001b[39;49;00m\u001b[33m\"DEV\"\u001b[39;49;00m},\u001b[37m \u001b[39;49;00m\r\n",
      "\u001b[37m               \u001b[39;49;00m{\u001b[94m\"Key\"\u001b[39;49;00m:\u001b[37m \u001b[39;49;00m\u001b[33m\"IngestionType\"\u001b[39;49;00m,\u001b[37m \u001b[39;49;00m\u001b[94m\"Value\"\u001b[39;49;00m:\u001b[37m \u001b[39;49;00m\u001b[33m\"Batch\"\u001b[39;49;00m},\u001b[37m\u001b[39;49;00m\r\n",
      "\u001b[37m               \u001b[39;49;00m{\u001b[94m\"Key\"\u001b[39;49;00m:\u001b[37m \u001b[39;49;00m\u001b[33m\"CostCenter\"\u001b[39;49;00m,\u001b[37m \u001b[39;49;00m\u001b[94m\"Value\"\u001b[39;49;00m:\u001b[37m \u001b[39;49;00m\u001b[33m\"C18\"\u001b[39;49;00m}]\u001b[37m\u001b[39;49;00m\r\n",
      "}\u001b[37m\u001b[39;49;00m\r\n"
     ]
    }
   ],
   "source": [
    "!pygmentize schema/cc-agg-batch-fg-chime-schema.json"
   ]
  },
  {
   "cell_type": "code",
   "execution_count": 47,
   "metadata": {},
   "outputs": [
    {
     "name": "stdout",
     "output_type": "stream",
     "text": [
      "Writing schema/cc-train-fg-chime-schema.json\n"
     ]
    }
   ],
   "source": [
    "%%writefile schema/cc-train-fg-chime-schema.json\n",
    "{\n",
    "    \"description\": \"Feature with credit card at 10m and 1week average\",\n",
    "    \n",
    "    \"features\": [\n",
    "          {\n",
    "              \"name\": \"tid\",\n",
    "              \"type\": \"bigint\",\n",
    "              \"description\": \"Transaction ID (Unique)\"\n",
    "          },\n",
    "          {\n",
    "              \"name\": \"cc_num\",\n",
    "              \"type\": \"bigint\",\n",
    "              \"description\": \"Credit Card Number \"\n",
    "          },\n",
    "          {\n",
    "              \"name\": \"amount\",\n",
    "              \"type\": \"bigint\",\n",
    "              \"description\": \"Transaction Amount\"\n",
    "          },\n",
    "          {\n",
    "              \"name\": \"fraud_label\",\n",
    "              \"type\": \"int\",\n",
    "              \"description\": \"Is fraud\"\n",
    "          },\n",
    "          {\n",
    "              \"name\": \"num_trans_last_10m\",\n",
    "              \"type\": \"bigint\",\n",
    "              \"description\": \"Aggregated Metric: Average number of transactions for the card aggregated by past 10 minutes\"\n",
    "          },\n",
    "          {\n",
    "              \"name\": \"avg_amt_last_10m\",\n",
    "              \"type\": \"double\",\n",
    "              \"description\": \"Aggregated Metric: Average transaction amount for the card aggregated by past 10 minutes\"\n",
    "          },\n",
    "          {\n",
    "              \"name\": \"num_trans_last_1w\",\n",
    "              \"type\": \"bigint\",\n",
    "              \"description\": \"Aggregated Metric: Average number of transactions for the card aggregated by past 1 week\"\n",
    "          },\n",
    "          {\n",
    "              \"name\": \"avg_amt_last_1w\",\n",
    "              \"type\": \"double\",\n",
    "              \"description\": \"Aggregated Metric: Average transaction amount for the card aggregated by past 1 week\"\n",
    "          },\n",
    "          {\n",
    "              \"name\": \"amt_ratio1\",\n",
    "              \"type\": \"double\",\n",
    "              \"description\": \"avg_amt_last_10m by avg_amt_last_1w\"\n",
    "          },\n",
    "          {\n",
    "              \"name\": \"amt_ratio2\",\n",
    "              \"type\": \"double\",\n",
    "              \"description\": \"count by avg_amt_last_1w\"\n",
    "          },\n",
    "          {\n",
    "              \"name\": \"count_ratio\",\n",
    "              \"type\": \"double\",\n",
    "              \"description\": \"num_trans_last_10m by num_trans_last_1w\"\n",
    "          },\n",
    "          {\n",
    "              \"name\": \"datetime\",\n",
    "              \"type\": \"double\",\n",
    "              \"description\": \"Required feature for event timestamp\"\n",
    "          }\n",
    "      ],\n",
    "    \n",
    "      \"record_identifier_feature_name\": \"tid\",\n",
    "      \"event_time_feature_name\": \"datetime\",\n",
    "      \"tags\": [{\"Key\": \"Environment\", \"Value\" : \"DEV\"}, \n",
    "               {\"Key\": \"IngestionType\", \"Value\": \"Batch\"},\n",
    "               {\"Key\": \"CostCenter\", \"Value\": \"C18\"}]\n",
    "}"
   ]
  },
  {
   "cell_type": "markdown",
   "metadata": {},
   "source": [
    "#### Utility functions to simplify creation of feature groups\n",
    "`schema_to_defs` takes our schema file and returns feature definitions, and the names of the record identifier and event timestamp feature."
   ]
  },
  {
   "cell_type": "code",
   "execution_count": 3,
   "metadata": {},
   "outputs": [],
   "source": [
    "def schema_to_defs(filename):\n",
    "    schema = json.loads(open(filename).read())\n",
    "    \n",
    "    feature_definitions = []\n",
    "    \n",
    "    for col in schema['Features']:\n",
    "        feature = {'FeatureName': col['name']}\n",
    "        if col['type'] == 'double':\n",
    "            feature['FeatureType'] = 'Fractional'\n",
    "        elif col['type'] == 'bigint':\n",
    "            feature['FeatureType'] = 'Integral'\n",
    "        else:\n",
    "            feature['FeatureType'] = 'String'\n",
    "        feature_definitions.append(feature)\n",
    "\n",
    "    return feature_definitions, schema['record_identifier_feature_name'], schema['event_time_feature_name']"
   ]
  },
  {
   "cell_type": "markdown",
   "metadata": {},
   "source": [
    "`schema_to_fg` creates a feature group from a schema file. If no s3 URI is passed, an online-only feature group is created."
   ]
  },
  {
   "cell_type": "code",
   "execution_count": 6,
   "metadata": {},
   "outputs": [],
   "source": [
    "def create_feature_group_from_schema(filename, fg_name, role_arn=None, s3_uri=None):\n",
    "    schema = json.loads(open(filename).read())\n",
    "    \n",
    "    feature_defs = []\n",
    "    \n",
    "    for col in schema['features']:\n",
    "        feature = {'FeatureName': col['name']}\n",
    "        if col['type'] == 'double':\n",
    "            feature['FeatureType'] = 'Fractional'\n",
    "        elif col['type'] == 'bigint':\n",
    "            feature['FeatureType'] = 'Integral'\n",
    "        else:\n",
    "            feature['FeatureType'] = 'String'\n",
    "        feature_defs.append(feature)\n",
    "\n",
    "    record_identifier_name = schema['record_identifier_feature_name']\n",
    "    event_time_name = schema['event_time_feature_name']\n",
    "\n",
    "    if role_arn is None:\n",
    "        role_arn = get_execution_role()\n",
    "\n",
    "    if s3_uri is None:\n",
    "        offline_config = {}\n",
    "    else:\n",
    "        offline_config = {'OfflineStoreConfig': {'S3StorageConfig': {'S3Uri': s3_uri}}}\n",
    "        \n",
    "    sm.create_feature_group(\n",
    "        FeatureGroupName = fg_name,\n",
    "        RecordIdentifierFeatureName = record_identifier_name,\n",
    "        EventTimeFeatureName = event_time_name,\n",
    "        FeatureDefinitions = feature_defs,\n",
    "        Description = schema['description'],\n",
    "        Tags = schema['tags'],\n",
    "        OnlineStoreConfig = {'EnableOnlineStore': True},\n",
    "        RoleArn = role_arn,\n",
    "        **offline_config)"
   ]
  },
  {
   "cell_type": "code",
   "execution_count": 2,
   "metadata": {},
   "outputs": [],
   "source": [
    "prefix = 'chime-fs'\n",
    "default_bucket = 'chime-fs-demo'"
   ]
  },
  {
   "cell_type": "markdown",
   "metadata": {},
   "source": [
    "#### Create the two feature groups"
   ]
  },
  {
   "cell_type": "code",
   "execution_count": 45,
   "metadata": {},
   "outputs": [],
   "source": [
    "create_feature_group_from_schema('schema/cc-agg-fg-chime-schema.json', 'cc-agg-chime-fg',s3_uri=f's3://{default_bucket}/{prefix}')"
   ]
  },
  {
   "cell_type": "code",
   "execution_count": 46,
   "metadata": {},
   "outputs": [],
   "source": [
    "create_feature_group_from_schema('schema/cc-agg-batch-fg-chime-schema.json', 'cc-agg-batch-chime-fg',s3_uri=f's3://{default_bucket}/{prefix}')"
   ]
  },
  {
   "cell_type": "code",
   "execution_count": 5,
   "metadata": {},
   "outputs": [],
   "source": [
    "create_feature_group_from_schema('schema/cc-train-fg-chime-schema.json', 'cc-train-chime-fg',s3_uri=f's3://{default_bucket}/{prefix}')"
   ]
  },
  {
   "cell_type": "markdown",
   "metadata": {},
   "source": [
    "#### Show that the feature store is aware of the new feature groups"
   ]
  },
  {
   "cell_type": "code",
   "execution_count": 21,
   "metadata": {},
   "outputs": [
    {
     "data": {
      "text/plain": [
       "[{'FeatureGroupName': 'cc-agg-chime-fg',\n",
       "  'FeatureGroupArn': 'arn:aws:sagemaker:us-east-1:461312420708:feature-group/cc-agg-chime-fg',\n",
       "  'CreationTime': datetime.datetime(2023, 4, 2, 22, 8, 57, 659000, tzinfo=tzlocal()),\n",
       "  'FeatureGroupStatus': 'Created'},\n",
       " {'FeatureGroupName': 'cc-agg-batch-chime-fg',\n",
       "  'FeatureGroupArn': 'arn:aws:sagemaker:us-east-1:461312420708:feature-group/cc-agg-batch-chime-fg',\n",
       "  'CreationTime': datetime.datetime(2023, 4, 2, 22, 8, 59, 327000, tzinfo=tzlocal()),\n",
       "  'FeatureGroupStatus': 'Created'}]"
      ]
     },
     "execution_count": 21,
     "metadata": {},
     "output_type": "execute_result"
    }
   ],
   "source": [
    "from utilities.feature_store_helper import FeatureStore\n",
    "\n",
    "fs = FeatureStore()\n",
    "fs.list_feature_groups('chime')"
   ]
  },
  {
   "cell_type": "markdown",
   "metadata": {},
   "source": [
    "#### Describe each feature group\n",
    "Note that each feature group gets its own ARN, allowing you to manage IAM policies that control access to individual feature groups. The feature names and types are displayed, and the record identifier and event time features are called out specifically. Notice that there is only an `OnlineStoreConfig` and no `OfflineStoreConfig`, as we have decided not to replicate features offline for these groups."
   ]
  },
  {
   "cell_type": "code",
   "execution_count": 15,
   "metadata": {},
   "outputs": [
    {
     "data": {
      "text/plain": [
       "{'FeatureGroupArn': 'arn:aws:sagemaker:us-east-1:461312420708:feature-group/cc-agg-chime-fg',\n",
       " 'FeatureGroupName': 'cc-agg-chime-fg',\n",
       " 'RecordIdentifierFeatureName': 'cc_num',\n",
       " 'EventTimeFeatureName': 'trans_time',\n",
       " 'FeatureDefinitions': [{'FeatureName': 'cc_num', 'FeatureType': 'Integral'},\n",
       "  {'FeatureName': 'num_trans_last_10m', 'FeatureType': 'Integral'},\n",
       "  {'FeatureName': 'avg_amt_last_10m', 'FeatureType': 'Fractional'},\n",
       "  {'FeatureName': 'trans_time', 'FeatureType': 'Fractional'}],\n",
       " 'CreationTime': datetime.datetime(2023, 4, 2, 22, 8, 57, 659000, tzinfo=tzlocal()),\n",
       " 'OnlineStoreConfig': {'EnableOnlineStore': True},\n",
       " 'RoleArn': 'arn:aws:iam::461312420708:role/sm-fs-streaming-agg-stack-SageMakerRole-WU81JV183YQ2',\n",
       " 'FeatureGroupStatus': 'Created',\n",
       " 'Description': 'Aggregated features for each credit card, batch ingestion nightly',\n",
       " 'OnlineStoreTotalSizeBytes': 0,\n",
       " 'ResponseMetadata': {'RequestId': 'eba72ab7-7931-42cf-ba42-5343e0cab3d1',\n",
       "  'HTTPStatusCode': 200,\n",
       "  'HTTPHeaders': {'x-amzn-requestid': 'eba72ab7-7931-42cf-ba42-5343e0cab3d1',\n",
       "   'content-type': 'application/x-amz-json-1.1',\n",
       "   'content-length': '869',\n",
       "   'date': 'Sun, 02 Apr 2023 22:09:39 GMT'},\n",
       "  'RetryAttempts': 0}}"
      ]
     },
     "execution_count": 15,
     "metadata": {},
     "output_type": "execute_result"
    }
   ],
   "source": [
    "sm.describe_feature_group(FeatureGroupName='cc-agg-chime-fg')"
   ]
  },
  {
   "cell_type": "code",
   "execution_count": 16,
   "metadata": {},
   "outputs": [
    {
     "data": {
      "text/plain": [
       "{'FeatureGroupArn': 'arn:aws:sagemaker:us-east-1:461312420708:feature-group/cc-agg-batch-chime-fg',\n",
       " 'FeatureGroupName': 'cc-agg-batch-chime-fg',\n",
       " 'RecordIdentifierFeatureName': 'cc_num',\n",
       " 'EventTimeFeatureName': 'trans_time',\n",
       " 'FeatureDefinitions': [{'FeatureName': 'cc_num', 'FeatureType': 'Integral'},\n",
       "  {'FeatureName': 'num_trans_last_1w', 'FeatureType': 'Integral'},\n",
       "  {'FeatureName': 'avg_amt_last_1w', 'FeatureType': 'Fractional'},\n",
       "  {'FeatureName': 'trans_time', 'FeatureType': 'Fractional'}],\n",
       " 'CreationTime': datetime.datetime(2023, 4, 2, 22, 8, 59, 327000, tzinfo=tzlocal()),\n",
       " 'OnlineStoreConfig': {'EnableOnlineStore': True},\n",
       " 'RoleArn': 'arn:aws:iam::461312420708:role/sm-fs-streaming-agg-stack-SageMakerRole-WU81JV183YQ2',\n",
       " 'FeatureGroupStatus': 'Created',\n",
       " 'Description': 'Aggregated features for each credit card, streamed intraday',\n",
       " 'OnlineStoreTotalSizeBytes': 0,\n",
       " 'ResponseMetadata': {'RequestId': 'ff300873-62ed-4648-a39f-1f5266f66ded',\n",
       "  'HTTPStatusCode': 200,\n",
       "  'HTTPHeaders': {'x-amzn-requestid': 'ff300873-62ed-4648-a39f-1f5266f66ded',\n",
       "   'content-type': 'application/x-amz-json-1.1',\n",
       "   'content-length': '873',\n",
       "   'date': 'Sun, 02 Apr 2023 22:09:43 GMT'},\n",
       "  'RetryAttempts': 0}}"
      ]
     },
     "execution_count": 16,
     "metadata": {},
     "output_type": "execute_result"
    }
   ],
   "source": [
    "sm.describe_feature_group(FeatureGroupName='cc-agg-batch-chime-fg')"
   ]
  },
  {
   "cell_type": "markdown",
   "metadata": {},
   "source": [
    "## Create an Amazon Kinesis Data Stream"
   ]
  },
  {
   "cell_type": "code",
   "execution_count": 22,
   "metadata": {},
   "outputs": [],
   "source": [
    "kinesis_client = boto3.client('kinesis')"
   ]
  },
  {
   "cell_type": "code",
   "execution_count": 23,
   "metadata": {},
   "outputs": [
    {
     "data": {
      "text/plain": [
       "{'ResponseMetadata': {'RequestId': 'e2e04f9c-9e2d-a4ec-be44-4fe85a225df9',\n",
       "  'HTTPStatusCode': 200,\n",
       "  'HTTPHeaders': {'x-amzn-requestid': 'e2e04f9c-9e2d-a4ec-be44-4fe85a225df9',\n",
       "   'x-amz-id-2': 'sDpvwQABK5a9U7yzHq8KYESAk+ekWPOP12XLGg8V9F+rln39hzqT3VZ+uF5pymrnn2fb7BGHl8G6/2/yh9Z2tmrWBTR2aau4SrudwIqKXLE=',\n",
       "   'date': 'Sun, 02 Apr 2023 22:14:12 GMT',\n",
       "   'content-type': 'application/x-amz-json-1.1',\n",
       "   'content-length': '0'},\n",
       "  'RetryAttempts': 0}}"
      ]
     },
     "execution_count": 23,
     "metadata": {},
     "output_type": "execute_result"
    }
   ],
   "source": [
    "kinesis_client.create_stream(StreamName='cc-chime-stream', ShardCount=1)"
   ]
  },
  {
   "cell_type": "code",
   "execution_count": 24,
   "metadata": {},
   "outputs": [
    {
     "data": {
      "text/plain": [
       "{'StreamNames': ['cc-chime-stream', 'cc-stream'],\n",
       " 'HasMoreStreams': False,\n",
       " 'StreamSummaries': [{'StreamName': 'cc-chime-stream',\n",
       "   'StreamARN': 'arn:aws:kinesis:us-east-1:461312420708:stream/cc-chime-stream',\n",
       "   'StreamStatus': 'CREATING',\n",
       "   'StreamModeDetails': {'StreamMode': 'PROVISIONED'},\n",
       "   'StreamCreationTimestamp': datetime.datetime(2023, 4, 2, 22, 14, 11, tzinfo=tzlocal())},\n",
       "  {'StreamName': 'cc-stream',\n",
       "   'StreamARN': 'arn:aws:kinesis:us-east-1:461312420708:stream/cc-stream',\n",
       "   'StreamStatus': 'ACTIVE',\n",
       "   'StreamModeDetails': {'StreamMode': 'PROVISIONED'},\n",
       "   'StreamCreationTimestamp': datetime.datetime(2023, 3, 24, 16, 57, 54, tzinfo=tzlocal())}],\n",
       " 'ResponseMetadata': {'RequestId': 'e1b650a3-02b9-a2c1-bd12-50d5c6b65bd4',\n",
       "  'HTTPStatusCode': 200,\n",
       "  'HTTPHeaders': {'x-amzn-requestid': 'e1b650a3-02b9-a2c1-bd12-50d5c6b65bd4',\n",
       "   'x-amz-id-2': 'gZOnCidn2xUk11am7tIp97HT5Yr9R0Sh8NjBo318PWM5q+TQfr3RsX5gWJgp+Kq7m3isZDJkYKaozzaMVYjajSmqJridqTCu4x9qFEg2NT4=',\n",
       "   'date': 'Sun, 02 Apr 2023 22:14:14 GMT',\n",
       "   'content-type': 'application/x-amz-json-1.1',\n",
       "   'content-length': '524'},\n",
       "  'RetryAttempts': 0}}"
      ]
     },
     "execution_count": 24,
     "metadata": {},
     "output_type": "execute_result"
    }
   ],
   "source": [
    "kinesis_client.list_streams()"
   ]
  },
  {
   "cell_type": "code",
   "execution_count": 25,
   "metadata": {},
   "outputs": [
    {
     "data": {
      "text/plain": [
       "{'StreamDescription': {'StreamName': 'cc-chime-stream',\n",
       "  'StreamARN': 'arn:aws:kinesis:us-east-1:461312420708:stream/cc-chime-stream',\n",
       "  'StreamStatus': 'ACTIVE',\n",
       "  'StreamModeDetails': {'StreamMode': 'PROVISIONED'},\n",
       "  'Shards': [{'ShardId': 'shardId-000000000000',\n",
       "    'HashKeyRange': {'StartingHashKey': '0',\n",
       "     'EndingHashKey': '340282366920938463463374607431768211455'},\n",
       "    'SequenceNumberRange': {'StartingSequenceNumber': '49639470341898735315633020849736896402179764604945563650'}}],\n",
       "  'HasMoreShards': False,\n",
       "  'RetentionPeriodHours': 24,\n",
       "  'StreamCreationTimestamp': datetime.datetime(2023, 4, 2, 22, 14, 11, tzinfo=tzlocal()),\n",
       "  'EnhancedMonitoring': [{'ShardLevelMetrics': []}],\n",
       "  'EncryptionType': 'NONE'},\n",
       " 'ResponseMetadata': {'RequestId': 'c7427708-f360-f08b-9be6-777502b5183a',\n",
       "  'HTTPStatusCode': 200,\n",
       "  'HTTPHeaders': {'x-amzn-requestid': 'c7427708-f360-f08b-9be6-777502b5183a',\n",
       "   'x-amz-id-2': '8UrmIGndYSAYvBvBow/J3jcAXNkERYABpDWvIcrZWzNC5Z3josbM0eq8kxDxltTMQ5Y3hduqHswLG+/kHodjAPM39VXNz7bV',\n",
       "   'date': 'Sun, 02 Apr 2023 22:14:21 GMT',\n",
       "   'content-type': 'application/x-amz-json-1.1',\n",
       "   'content-length': '614'},\n",
       "  'RetryAttempts': 0}}"
      ]
     },
     "execution_count": 25,
     "metadata": {},
     "output_type": "execute_result"
    }
   ],
   "source": [
    "kinesis_client.describe_stream(StreamName='cc-chime-stream')"
   ]
  },
  {
   "cell_type": "code",
   "execution_count": 26,
   "metadata": {},
   "outputs": [
    {
     "name": "stdout",
     "output_type": "stream",
     "text": [
      "ACTIVE\n"
     ]
    }
   ],
   "source": [
    "import time\n",
    "active_stream = False\n",
    "while not active_stream:\n",
    "    status = kinesis_client.describe_stream(StreamName='cc-chime-stream')['StreamDescription']['StreamStatus']\n",
    "    if (status == 'CREATING'):\n",
    "        print('Waiting for the Kinesis stream to become active...')\n",
    "        time.sleep(20)  \n",
    "    elif (status == 'ACTIVE'): \n",
    "        active_stream = True\n",
    "        print('ACTIVE')"
   ]
  },
  {
   "cell_type": "code",
   "execution_count": 27,
   "metadata": {},
   "outputs": [],
   "source": [
    "stream_arn = kinesis_client.describe_stream(StreamName='cc-chime-stream')['StreamDescription']['StreamARN']"
   ]
  },
  {
   "cell_type": "code",
   "execution_count": 28,
   "metadata": {},
   "outputs": [
    {
     "data": {
      "text/plain": [
       "'arn:aws:kinesis:us-east-1:461312420708:stream/cc-chime-stream'"
      ]
     },
     "execution_count": 28,
     "metadata": {},
     "output_type": "execute_result"
    }
   ],
   "source": [
    "stream_arn"
   ]
  },
  {
   "cell_type": "markdown",
   "metadata": {},
   "source": [
    "## Map the Kinesis stream as an event source for Lambda fraud detection"
   ]
  },
  {
   "cell_type": "code",
   "execution_count": 29,
   "metadata": {},
   "outputs": [
    {
     "data": {
      "text/plain": [
       "{'ResponseMetadata': {'RequestId': 'a4367e08-a2ab-496d-8746-10053a9fe55d',\n",
       "  'HTTPStatusCode': 202,\n",
       "  'HTTPHeaders': {'date': 'Sun, 02 Apr 2023 22:14:59 GMT',\n",
       "   'content-type': 'application/json',\n",
       "   'content-length': '964',\n",
       "   'connection': 'keep-alive',\n",
       "   'x-amzn-requestid': 'a4367e08-a2ab-496d-8746-10053a9fe55d'},\n",
       "  'RetryAttempts': 0},\n",
       " 'UUID': '603b4506-b295-4c10-bc8c-d5a1cb96b8d8',\n",
       " 'StartingPosition': 'LATEST',\n",
       " 'BatchSize': 100,\n",
       " 'MaximumBatchingWindowInSeconds': 0,\n",
       " 'ParallelizationFactor': 1,\n",
       " 'EventSourceArn': 'arn:aws:kinesis:us-east-1:461312420708:stream/cc-chime-stream',\n",
       " 'FunctionArn': 'arn:aws:lambda:us-east-1:461312420708:function:InvokeFraudEndpointLambda',\n",
       " 'LastModified': datetime.datetime(2023, 4, 2, 22, 14, 59, 77000, tzinfo=tzlocal()),\n",
       " 'LastProcessingResult': 'No records processed',\n",
       " 'State': 'Creating',\n",
       " 'StateTransitionReason': 'User action',\n",
       " 'DestinationConfig': {'OnFailure': {}},\n",
       " 'MaximumRecordAgeInSeconds': 600,\n",
       " 'BisectBatchOnFunctionError': False,\n",
       " 'MaximumRetryAttempts': -1,\n",
       " 'TumblingWindowInSeconds': 0,\n",
       " 'FunctionResponseTypes': []}"
      ]
     },
     "execution_count": 29,
     "metadata": {},
     "output_type": "execute_result"
    }
   ],
   "source": [
    "lambda_client = boto3.client('lambda')\n",
    "\n",
    "lambda_client.create_event_source_mapping(EventSourceArn=stream_arn,\n",
    "                                          FunctionName=lambda_to_model_arn,\n",
    "                                          StartingPosition='LATEST',\n",
    "                                          Enabled=True,\n",
    "                                          MaximumRecordAgeInSeconds=60*10\n",
    "                                          ) #DestinationConfig would handle discarded records"
   ]
  },
  {
   "cell_type": "markdown",
   "metadata": {},
   "source": [
    "## Create an Amazon Kinesis Data Applications (KDA) application"
   ]
  },
  {
   "cell_type": "code",
   "execution_count": 30,
   "metadata": {},
   "outputs": [],
   "source": [
    "kda_client = boto3.client('kinesisanalytics')"
   ]
  },
  {
   "cell_type": "code",
   "execution_count": 31,
   "metadata": {},
   "outputs": [],
   "source": [
    "sql_code = 'CREATE OR REPLACE STREAM \"DESTINATION_SQL_STREAM\" (\\n' + \\\n",
    "                '\"cc_num\"              BIGINT,\\n' + \\\n",
    "                '\"num_trans_last_10m\"  SMALLINT,\\n' + \\\n",
    "                '\"avg_amt_last_10m\"    REAL\\n);\\n\\n' + \\\n",
    "            'CREATE OR REPLACE PUMP \"STREAM_PUMP\" AS\\n' + \\\n",
    "            'INSERT INTO \"DESTINATION_SQL_STREAM\"\\n' + \\\n",
    "                'SELECT STREAM \"cc_num\", \\n' + \\\n",
    "                    'COUNT(*) OVER LAST_10_MINUTES, \\n' + \\\n",
    "                    'AVG(\"amount\") OVER LAST_10_MINUTES\\n' + \\\n",
    "                    'FROM \"SOURCE_SQL_STREAM_001\"\\n' + \\\n",
    "                    'WINDOW LAST_10_MINUTES AS (\\n' + \\\n",
    "                        'PARTITION BY \"cc_num\"\\n' + \\\n",
    "                        'RANGE INTERVAL \\'10\\' MINUTE PRECEDING);\\n'"
   ]
  },
  {
   "cell_type": "code",
   "execution_count": 32,
   "metadata": {},
   "outputs": [],
   "source": [
    "kda_inputs = [{\n",
    "                'NamePrefix': 'SOURCE_SQL_STREAM',\n",
    "                'KinesisStreamsInput': {\n",
    "                       'ResourceARN': stream_arn,\n",
    "                       'RoleARN': role\n",
    "                },\n",
    "                'InputSchema': {\n",
    "                      'RecordFormat': {\n",
    "                          'RecordFormatType': 'JSON',\n",
    "                          'MappingParameters': {\n",
    "                              'JSONMappingParameters': {\n",
    "                                  'RecordRowPath': '$'\n",
    "                              }\n",
    "                          },\n",
    "                      },\n",
    "                      'RecordEncoding': 'UTF-8',\n",
    "                      'RecordColumns': [\n",
    "                          {'Name': 'cc_num',  'Mapping': '$.cc_num',   'SqlType': 'DECIMAL(1,1)'},\n",
    "                          {'Name': 'merchant','Mapping': '$.merchant', 'SqlType': 'VARCHAR(64)'},\n",
    "                          {'Name': 'amount', 'Mapping': '$.amount', 'SqlType': 'REAL'},\n",
    "                          {'Name': 'zip_code', 'Mapping': '$.zip_code', 'SqlType': 'INTEGER'}\n",
    "                      ]\n",
    "                }\n",
    "              }                         \n",
    "             ]"
   ]
  },
  {
   "cell_type": "markdown",
   "metadata": {},
   "source": [
    "<h3> Create Kinesis Data Analytics Application </h3>\n",
    "\n",
    "We first lookup Lambda ARNs from CloudFormation output, then create a Kinesis Data Analytics application that connects its output to the Streaming Lambda. This Lambda will ingest the records and write them to the SageMaker Feature Group."
   ]
  },
  {
   "cell_type": "code",
   "execution_count": 33,
   "metadata": {},
   "outputs": [],
   "source": [
    "kda_outputs = [{'LambdaOutput': {'ResourceARN': lambda_to_fs_arn, 'RoleARN': role},\n",
    "                'Name': 'DESTINATION_SQL_STREAM',\n",
    "                'DestinationSchema': {'RecordFormatType': 'JSON'}}]"
   ]
  },
  {
   "cell_type": "code",
   "execution_count": 34,
   "metadata": {},
   "outputs": [
    {
     "data": {
      "text/plain": [
       "[{'LambdaOutput': {'ResourceARN': 'arn:aws:lambda:us-east-1:461312420708:function:StreamingIngestAggFeatures',\n",
       "   'RoleARN': 'arn:aws:iam::461312420708:role/sm-fs-streaming-agg-stack-SageMakerRole-WU81JV183YQ2'},\n",
       "  'Name': 'DESTINATION_SQL_STREAM',\n",
       "  'DestinationSchema': {'RecordFormatType': 'JSON'}}]"
      ]
     },
     "execution_count": 34,
     "metadata": {},
     "output_type": "execute_result"
    }
   ],
   "source": [
    "kda_outputs"
   ]
  },
  {
   "cell_type": "code",
   "execution_count": 35,
   "metadata": {},
   "outputs": [
    {
     "data": {
      "text/plain": [
       "{'ApplicationSummary': {'ApplicationName': 'cc-agg-chime-app',\n",
       "  'ApplicationARN': 'arn:aws:kinesisanalytics:us-east-1:461312420708:application/cc-agg-chime-app',\n",
       "  'ApplicationStatus': 'READY'},\n",
       " 'ResponseMetadata': {'RequestId': '7d221bf4-9c80-4c82-a491-e813de943266',\n",
       "  'HTTPStatusCode': 200,\n",
       "  'HTTPHeaders': {'x-amzn-requestid': '7d221bf4-9c80-4c82-a491-e813de943266',\n",
       "   'content-type': 'application/x-amz-json-1.1',\n",
       "   'content-length': '185',\n",
       "   'date': 'Sun, 02 Apr 2023 22:15:24 GMT'},\n",
       "  'RetryAttempts': 0}}"
      ]
     },
     "execution_count": 35,
     "metadata": {},
     "output_type": "execute_result"
    }
   ],
   "source": [
    "kda_client.create_application(ApplicationName='cc-agg-chime-app', \n",
    "                              Inputs=kda_inputs,\n",
    "                              Outputs=kda_outputs,\n",
    "                              ApplicationCode=sql_code)"
   ]
  },
  {
   "cell_type": "code",
   "execution_count": 36,
   "metadata": {},
   "outputs": [
    {
     "data": {
      "text/plain": [
       "{'ApplicationDetail': {'ApplicationName': 'cc-agg-chime-app',\n",
       "  'ApplicationARN': 'arn:aws:kinesisanalytics:us-east-1:461312420708:application/cc-agg-chime-app',\n",
       "  'ApplicationStatus': 'READY',\n",
       "  'CreateTimestamp': datetime.datetime(2023, 4, 2, 22, 15, 24, tzinfo=tzlocal()),\n",
       "  'LastUpdateTimestamp': datetime.datetime(2023, 4, 2, 22, 15, 24, tzinfo=tzlocal()),\n",
       "  'InputDescriptions': [{'InputId': '1.1',\n",
       "    'NamePrefix': 'SOURCE_SQL_STREAM',\n",
       "    'InAppStreamNames': ['SOURCE_SQL_STREAM_001'],\n",
       "    'KinesisStreamsInputDescription': {'ResourceARN': 'arn:aws:kinesis:us-east-1:461312420708:stream/cc-chime-stream',\n",
       "     'RoleARN': 'arn:aws:iam::461312420708:role/sm-fs-streaming-agg-stack-SageMakerRole-WU81JV183YQ2'},\n",
       "    'InputSchema': {'RecordFormat': {'RecordFormatType': 'JSON',\n",
       "      'MappingParameters': {'JSONMappingParameters': {'RecordRowPath': '$'}}},\n",
       "     'RecordEncoding': 'UTF-8',\n",
       "     'RecordColumns': [{'Name': 'cc_num',\n",
       "       'Mapping': '$.cc_num',\n",
       "       'SqlType': 'DECIMAL(1,1)'},\n",
       "      {'Name': 'merchant', 'Mapping': '$.merchant', 'SqlType': 'VARCHAR(64)'},\n",
       "      {'Name': 'amount', 'Mapping': '$.amount', 'SqlType': 'REAL'},\n",
       "      {'Name': 'zip_code', 'Mapping': '$.zip_code', 'SqlType': 'INTEGER'}]},\n",
       "    'InputParallelism': {'Count': 1},\n",
       "    'InputStartingPositionConfiguration': {}}],\n",
       "  'OutputDescriptions': [{'OutputId': '1.1',\n",
       "    'Name': 'DESTINATION_SQL_STREAM',\n",
       "    'LambdaOutputDescription': {'ResourceARN': 'arn:aws:lambda:us-east-1:461312420708:function:StreamingIngestAggFeatures',\n",
       "     'RoleARN': 'arn:aws:iam::461312420708:role/sm-fs-streaming-agg-stack-SageMakerRole-WU81JV183YQ2'},\n",
       "    'DestinationSchema': {'RecordFormatType': 'JSON'}}],\n",
       "  'ApplicationCode': 'CREATE OR REPLACE STREAM \"DESTINATION_SQL_STREAM\" (\\n\"cc_num\"              BIGINT,\\n\"num_trans_last_10m\"  SMALLINT,\\n\"avg_amt_last_10m\"    REAL\\n);\\n\\nCREATE OR REPLACE PUMP \"STREAM_PUMP\" AS\\nINSERT INTO \"DESTINATION_SQL_STREAM\"\\nSELECT STREAM \"cc_num\", \\nCOUNT(*) OVER LAST_10_MINUTES, \\nAVG(\"amount\") OVER LAST_10_MINUTES\\nFROM \"SOURCE_SQL_STREAM_001\"\\nWINDOW LAST_10_MINUTES AS (\\nPARTITION BY \"cc_num\"\\nRANGE INTERVAL \\'10\\' MINUTE PRECEDING);\\n',\n",
       "  'ApplicationVersionId': 1},\n",
       " 'ResponseMetadata': {'RequestId': '712fd4e5-4ccb-466a-ab42-bd436ee2f5cd',\n",
       "  'HTTPStatusCode': 200,\n",
       "  'HTTPHeaders': {'x-amzn-requestid': '712fd4e5-4ccb-466a-ab42-bd436ee2f5cd',\n",
       "   'content-type': 'application/x-amz-json-1.1',\n",
       "   'content-length': '1919',\n",
       "   'date': 'Sun, 02 Apr 2023 22:15:27 GMT'},\n",
       "  'RetryAttempts': 0}}"
      ]
     },
     "execution_count": 36,
     "metadata": {},
     "output_type": "execute_result"
    }
   ],
   "source": [
    "kda_client.describe_application(ApplicationName='cc-agg-chime-app')"
   ]
  },
  {
   "cell_type": "code",
   "execution_count": 37,
   "metadata": {},
   "outputs": [
    {
     "data": {
      "text/plain": [
       "{'ResponseMetadata': {'RequestId': 'fbded9a8-9704-42db-9e19-4ac6b621f2c9',\n",
       "  'HTTPStatusCode': 200,\n",
       "  'HTTPHeaders': {'x-amzn-requestid': 'fbded9a8-9704-42db-9e19-4ac6b621f2c9',\n",
       "   'content-type': 'application/x-amz-json-1.1',\n",
       "   'content-length': '2',\n",
       "   'date': 'Sun, 02 Apr 2023 22:15:32 GMT'},\n",
       "  'RetryAttempts': 0}}"
      ]
     },
     "execution_count": 37,
     "metadata": {},
     "output_type": "execute_result"
    }
   ],
   "source": [
    "kda_client.start_application(ApplicationName='cc-agg-chime-app',\n",
    "                             InputConfigurations=[{'Id': '1.1',\n",
    "                                                   'InputStartingPositionConfiguration': \n",
    "                                                     {'InputStartingPosition':'NOW'}}])"
   ]
  }
 ],
 "metadata": {
  "instance_type": "ml.t3.medium",
  "kernelspec": {
   "display_name": "conda_python3",
   "language": "python",
   "name": "conda_python3"
  },
  "language_info": {
   "codemirror_mode": {
    "name": "ipython",
    "version": 3
   },
   "file_extension": ".py",
   "mimetype": "text/x-python",
   "name": "python",
   "nbconvert_exporter": "python",
   "pygments_lexer": "ipython3",
   "version": "3.10.8"
  }
 },
 "nbformat": 4,
 "nbformat_minor": 4
}
